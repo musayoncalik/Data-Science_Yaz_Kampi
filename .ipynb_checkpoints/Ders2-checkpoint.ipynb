{
 "cells": [
  {
   "cell_type": "code",
   "execution_count": 1,
   "id": "c681892f-061b-4fcc-8365-6506f3ddb071",
   "metadata": {},
   "outputs": [],
   "source": [
    "#Üyelik Operatörleri\n"
   ]
  },
  {
   "cell_type": "code",
   "execution_count": 2,
   "id": "b331740e-6244-4404-b04b-934fdf3b7574",
   "metadata": {},
   "outputs": [
    {
     "name": "stdout",
     "output_type": "stream",
     "text": [
      "True\n"
     ]
    }
   ],
   "source": [
    "fruits = ['Elma', 'Armut', 'Kiraz', 'Portakal', 'Vişne', 'Kayısı']\n",
    "var_mi = 'Elma' in fruits \n",
    "print(var_mi)"
   ]
  },
  {
   "cell_type": "code",
   "execution_count": 3,
   "id": "d6b2877d-613f-4ca2-9044-1d993d285b56",
   "metadata": {},
   "outputs": [
    {
     "name": "stdout",
     "output_type": "stream",
     "text": [
      "False\n"
     ]
    }
   ],
   "source": [
    "yok_mu = 'Kayısı' not in fruits\n",
    "print(yok_mu)"
   ]
  },
  {
   "cell_type": "code",
   "execution_count": 4,
   "id": "2483f673-4185-480c-83d1-70c64013e8ab",
   "metadata": {},
   "outputs": [
    {
     "name": "stdout",
     "output_type": "stream",
     "text": [
      "<class 'str'>\n"
     ]
    }
   ],
   "source": [
    "a1 = '25' \n",
    "print(type(a1))"
   ]
  },
  {
   "cell_type": "code",
   "execution_count": 5,
   "id": "79c829cc-3bbc-42f5-99f9-9ae1b4b74d2f",
   "metadata": {},
   "outputs": [
    {
     "name": "stdout",
     "output_type": "stream",
     "text": [
      "<class 'int'>\n"
     ]
    }
   ],
   "source": [
    "a1_int = int(a1)\n",
    "print(type(a1_int))"
   ]
  },
  {
   "cell_type": "code",
   "execution_count": 6,
   "id": "cb1f1785-3519-47ef-b82d-aa186e3efb3e",
   "metadata": {},
   "outputs": [
    {
     "name": "stdout",
     "output_type": "stream",
     "text": [
      "False\n",
      "True\n"
     ]
    }
   ],
   "source": [
    "print(bool(0))  # False\n",
    "print(bool(1))  # True"
   ]
  },
  {
   "cell_type": "code",
   "execution_count": 7,
   "id": "0b565041-8642-42a3-bff4-d0d0fc71ac41",
   "metadata": {},
   "outputs": [
    {
     "name": "stdout",
     "output_type": "stream",
     "text": [
      "False\n",
      "True\n"
     ]
    }
   ],
   "source": [
    "print(bool(''))\n",
    "print(bool('Selam'))"
   ]
  },
  {
   "cell_type": "code",
   "execution_count": 8,
   "id": "16e187b9-4eba-4e6c-a01d-78852cabd5f4",
   "metadata": {},
   "outputs": [
    {
     "name": "stdout",
     "output_type": "stream",
     "text": [
      "['S', 'E', 'L', 'A', 'M', ' ', 'B', 'E', 'N', ' ', 'M', 'U', 'S', 'A']\n"
     ]
    }
   ],
   "source": [
    "veri = 'SELAM BEN MUSA'\n",
    "liste1 = list(veri)\n",
    "print(liste1)"
   ]
  },
  {
   "cell_type": "code",
   "execution_count": 10,
   "id": "01af4cc9-cf48-4b63-af6a-f3be21b84efe",
   "metadata": {},
   "outputs": [
    {
     "name": "stdin",
     "output_type": "stream",
     "text": [
      "Lütfen yaşınızı giriniz :  13\n"
     ]
    },
    {
     "name": "stdout",
     "output_type": "stream",
     "text": [
      "Reşit değilsiniz. Ehliyet alamazsınız. \n"
     ]
    }
   ],
   "source": [
    "age = int(input('Lütfen yaşınızı giriniz : '))\n",
    "if age >= 18:\n",
    "    print('Reşitsiniz. Ehliyet alabilirsiniz. ')\n",
    "else:\n",
    "    print('Reşit değilsiniz. Ehliyet alamazsınız. ')"
   ]
  },
  {
   "cell_type": "code",
   "execution_count": 18,
   "id": "34d210c1-fe92-4bb1-8624-8d038e7bf8d6",
   "metadata": {},
   "outputs": [
    {
     "name": "stdin",
     "output_type": "stream",
     "text": [
      "Lütfen bir sayı giriniz :  25\n"
     ]
    },
    {
     "name": "stdout",
     "output_type": "stream",
     "text": [
      "Girmiş olduğunuz sayı pozitiftir.\n"
     ]
    }
   ],
   "source": [
    "sayi = int(input('Lütfen bir sayı giriniz : '))\n",
    "\n",
    "if sayi > 0:\n",
    "    print('Girmiş olduğunuz sayı pozitiftir.')\n",
    "elif sayi == 0:\n",
    "    print('Girmiş olduğunuz sayı sıfırdır.')\n",
    "else:\n",
    "    print('Girmiş olduğunuz sayı negatiftir.')\n"
   ]
  },
  {
   "cell_type": "code",
   "execution_count": 19,
   "id": "e0d6f895-bc54-4e63-9db8-8fc44e63bd0b",
   "metadata": {},
   "outputs": [
    {
     "name": "stdin",
     "output_type": "stream",
     "text": [
      "Lütfen bir sayı giriniz :  20\n"
     ]
    },
    {
     "name": "stdout",
     "output_type": "stream",
     "text": [
      "Sayı 10 dan büyüktür. \n",
      "Sayı değeri 15 ten büyüktür\n"
     ]
    }
   ],
   "source": [
    "sayi2 = int(input('Lütfen bir sayı giriniz : '))\n",
    "if sayi2 > 10:\n",
    "    print('Sayı 10 dan büyüktür. ')\n",
    "if sayi2 > 15:\n",
    "    print('Sayı değeri 15 ten büyüktür')\n",
    "    "
   ]
  },
  {
   "cell_type": "code",
   "execution_count": 22,
   "id": "9dd6c794-56c4-414f-94a5-c25e984fe6ed",
   "metadata": {},
   "outputs": [
    {
     "name": "stdin",
     "output_type": "stream",
     "text": [
      "Lütfen yaşınızı giriniz :  19\n"
     ]
    },
    {
     "name": "stdout",
     "output_type": "stream",
     "text": [
      "REŞİTSİNİZ EHLİYET ALABİLİRSİNİZ\n"
     ]
    }
   ],
   "source": [
    "# Ternary if\n",
    "yas = int(input('Lütfen yaşınızı giriniz : '))\n",
    "mesaj =\"REŞİTSİNİZ EHLİYET ALABİLİRSİNİZ\" if yas >= 18 else 'Reşit değilsiniz, Ehliyet alamazsınız. '\n",
    "print(mesaj)"
   ]
  },
  {
   "cell_type": "code",
   "execution_count": 25,
   "id": "c5fa25a8-1e1f-466d-839d-5e4ccb7a81e8",
   "metadata": {},
   "outputs": [
    {
     "ename": "NameError",
     "evalue": "name 'gun' is not defined",
     "output_type": "error",
     "traceback": [
      "\u001b[1;31m---------------------------------------------------------------------------\u001b[0m",
      "\u001b[1;31mNameError\u001b[0m                                 Traceback (most recent call last)",
      "Cell \u001b[1;32mIn[25], line 1\u001b[0m\n\u001b[1;32m----> 1\u001b[0m \u001b[38;5;28;01mmatch\u001b[39;00m gun:\n\u001b[0;32m      2\u001b[0m     \u001b[38;5;28;01mcase\u001b[39;00m \u001b[38;5;241m1\u001b[39m:\n\u001b[0;32m      3\u001b[0m         gun_Adi \u001b[38;5;241m=\u001b[39m \u001b[38;5;124m\"\u001b[39m\u001b[38;5;124mPazartesi\u001b[39m\u001b[38;5;124m\"\u001b[39m\n\u001b[0;32m      4\u001b[0m     \u001b[38;5;28;01mcase\u001b[39;00m \u001b[38;5;241m2\u001b[39m:\n\u001b[0;32m      5\u001b[0m         gun_Adi \u001b[38;5;241m=\u001b[39m \u001b[38;5;124m\"\u001b[39m\u001b[38;5;124mSalı\u001b[39m\u001b[38;5;124m\"\u001b[39m\n\u001b[0;32m      6\u001b[0m     \u001b[38;5;28;01mcase\u001b[39;00m \u001b[38;5;241m3\u001b[39m:\n\u001b[0;32m      7\u001b[0m         gun_Adi \u001b[38;5;241m=\u001b[39m \u001b[38;5;124m\"\u001b[39m\u001b[38;5;124mÇarşamba\u001b[39m\u001b[38;5;124m\"\u001b[39m\n\u001b[0;32m      8\u001b[0m     \u001b[38;5;28;01mcase\u001b[39;00m \u001b[38;5;241m4\u001b[39m:\n\u001b[0;32m      9\u001b[0m         gun_Adi \u001b[38;5;241m=\u001b[39m \u001b[38;5;124m\"\u001b[39m\u001b[38;5;124mPerşembe\u001b[39m\u001b[38;5;124m\"\u001b[39m\n\u001b[0;32m     10\u001b[0m     \u001b[38;5;28;01mcase\u001b[39;00m \u001b[38;5;241m5\u001b[39m:\n\u001b[0;32m     11\u001b[0m         gun_Adi \u001b[38;5;241m=\u001b[39m \u001b[38;5;124m\"\u001b[39m\u001b[38;5;124mCuma\u001b[39m\u001b[38;5;124m\"\u001b[39m\n\u001b[0;32m     12\u001b[0m     \u001b[38;5;28;01mcase\u001b[39;00m \u001b[38;5;241m6\u001b[39m:\n\u001b[0;32m     13\u001b[0m         gun_Adi \u001b[38;5;241m=\u001b[39m \u001b[38;5;124m\"\u001b[39m\u001b[38;5;124mCumartesi\u001b[39m\u001b[38;5;124m\"\u001b[39m\n\u001b[0;32m     14\u001b[0m     \u001b[38;5;28;01mcase\u001b[39;00m \u001b[38;5;241m7\u001b[39m:\n\u001b[0;32m     15\u001b[0m         gun_Adi \u001b[38;5;241m=\u001b[39m \u001b[38;5;124m\"\u001b[39m\u001b[38;5;124mPazar\u001b[39m\u001b[38;5;124m\"\u001b[39m\n\u001b[0;32m     16\u001b[0m     \u001b[38;5;28;01mcase\u001b[39;00m\u001b[38;5;250m \u001b[39m\u001b[38;5;28;01m_\u001b[39;00m:\n\u001b[0;32m     17\u001b[0m         gun_Adi \u001b[38;5;241m=\u001b[39m \u001b[38;5;124m\"\u001b[39m\u001b[38;5;124mGeçersiz karakter girdiniz.\u001b[39m\u001b[38;5;124m\"\u001b[39m\n",
      "\u001b[1;31mNameError\u001b[0m: name 'gun' is not defined"
     ]
    }
   ],
   "source": [
    "gun = int(input('Lütfen 1 ile 7 arasında bir rakam girin: '))\n",
    "gun_Adi = None\n",
    "\n",
    "match gun:\n",
    "    case 1:\n",
    "        gun_Adi = \"Pazartesi\"\n",
    "    case 2:\n",
    "        gun_Adi = \"Salı\"\n",
    "    case 3:\n",
    "        gun_Adi = \"Çarşamba\"\n",
    "    case 4:\n",
    "        gun_Adi = \"Perşembe\"\n",
    "    case 5:\n",
    "        gun_Adi = \"Cuma\"\n",
    "    case 6:\n",
    "        gun_Adi = \"Cumartesi\"\n",
    "    case 7:\n",
    "        gun_Adi = \"Pazar\"\n",
    "    case _:\n",
    "        gun_Adi = \"Geçersiz karakter girdiniz.\"\n",
    "\n",
    "print(gun_Adi)\n"
   ]
  },
  {
   "cell_type": "code",
   "execution_count": null,
   "id": "5a97c03e-a177-4907-abfb-a487a72b143b",
   "metadata": {},
   "outputs": [],
   "source": []
  }
 ],
 "metadata": {
  "kernelspec": {
   "display_name": "Python [conda env:base] *",
   "language": "python",
   "name": "conda-base-py"
  },
  "language_info": {
   "codemirror_mode": {
    "name": "ipython",
    "version": 3
   },
   "file_extension": ".py",
   "mimetype": "text/x-python",
   "name": "python",
   "nbconvert_exporter": "python",
   "pygments_lexer": "ipython3",
   "version": "3.13.5"
  }
 },
 "nbformat": 4,
 "nbformat_minor": 5
}
