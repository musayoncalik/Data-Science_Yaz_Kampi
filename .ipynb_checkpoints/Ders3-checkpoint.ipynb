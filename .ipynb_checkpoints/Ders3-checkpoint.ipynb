{
 "cells": [
  {
   "cell_type": "code",
   "execution_count": 8,
   "id": "1223916d-d377-43e1-8165-15885021060b",
   "metadata": {},
   "outputs": [],
   "source": [
    "import numpy as np\n",
    "import time"
   ]
  },
  {
   "cell_type": "code",
   "execution_count": 3,
   "id": "21422dbd-9cf1-4bd9-a115-2bb132e7091f",
   "metadata": {},
   "outputs": [],
   "source": [
    "# A = 0 ... 1 000 000 000 \n",
    "# B = 0 ... 1 000 000 000\n",
    "# C = 0 2 4 ... 2 000 000 000"
   ]
  },
  {
   "cell_type": "code",
   "execution_count": 5,
   "id": "488ef920-3512-4c12-b310-c03b25665c91",
   "metadata": {},
   "outputs": [
    {
     "ename": "NameError",
     "evalue": "name 'time' is not defined",
     "output_type": "error",
     "traceback": [
      "\u001b[1;31m---------------------------------------------------------------------------\u001b[0m",
      "\u001b[1;31mNameError\u001b[0m                                 Traceback (most recent call last)",
      "Cell \u001b[1;32mIn[5], line 11\u001b[0m\n\u001b[0;32m      8\u001b[0m     sure \u001b[38;5;241m=\u001b[39m end_time \u001b[38;5;241m-\u001b[39m start_time\n\u001b[0;32m      9\u001b[0m     \u001b[38;5;28mprint\u001b[39m(\u001b[38;5;124mf\u001b[39m\u001b[38;5;124m'\u001b[39m\u001b[38;5;124mPython versiyonu çalışma süresi : \u001b[39m\u001b[38;5;132;01m{\u001b[39;00msure\u001b[38;5;132;01m}\u001b[39;00m\u001b[38;5;124m'\u001b[39m)\n\u001b[1;32m---> 11\u001b[0m python_version()\n",
      "Cell \u001b[1;32mIn[5], line 3\u001b[0m, in \u001b[0;36mpython_version\u001b[1;34m()\u001b[0m\n\u001b[0;32m      2\u001b[0m \u001b[38;5;28;01mdef\u001b[39;00m\u001b[38;5;250m \u001b[39m\u001b[38;5;21mpython_version\u001b[39m():\n\u001b[1;32m----> 3\u001b[0m     start_time \u001b[38;5;241m=\u001b[39m time\u001b[38;5;241m.\u001b[39mtime()\n\u001b[0;32m      4\u001b[0m     A \u001b[38;5;241m=\u001b[39m \u001b[38;5;28mlist\u001b[39m(\u001b[38;5;28mrange\u001b[39m(N))\n\u001b[0;32m      5\u001b[0m     B \u001b[38;5;241m=\u001b[39m \u001b[38;5;28mlist\u001b[39m(\u001b[38;5;28mrange\u001b[39m(N))\n",
      "\u001b[1;31mNameError\u001b[0m: name 'time' is not defined"
     ]
    }
   ],
   "source": [
    "import numpy as np\n",
    "import time\n",
    "\n",
    "N = 10_000_000  # 10 milyon\n",
    "\n",
    "def python_version():\n",
    "    start_time = time.time()\n",
    "    A = list(range(N))\n",
    "    B = list(range(N))\n",
    "    C = [A[i] + B[i] for i in range(len(A))]\n",
    "    end_time = time.time()\n",
    "    sure = end_time - start_time\n",
    "    print(f'Python versiyonu çalışma süresi: {sure:.4f} saniye')\n",
    "\n",
    "python_version()\n"
   ]
  },
  {
   "cell_type": "code",
   "execution_count": 2,
   "id": "92dac89a-b8b5-4180-8543-8720d9e74009",
   "metadata": {},
   "outputs": [],
   "source": [
    "def numpy_version():\n",
    "    start_time =  time.time()\n",
    "    A = np.arrange(N)\n",
    "    B = np.arrange(N)\n",
    "    C = A+B\n",
    "    end_time = time.time()\n",
    "    sure = end_time - start_time\n",
    "    print(f'Numpy versiyonu çalışma süresi : {sure}')"
   ]
  },
  {
   "cell_type": "code",
   "execution_count": 3,
   "id": "95a2ee4e-e579-4c3a-b879-36e4a1e14960",
   "metadata": {},
   "outputs": [
    {
     "ename": "NameError",
     "evalue": "name 'python_version' is not defined",
     "output_type": "error",
     "traceback": [
      "\u001b[1;31m---------------------------------------------------------------------------\u001b[0m",
      "\u001b[1;31mNameError\u001b[0m                                 Traceback (most recent call last)",
      "Cell \u001b[1;32mIn[3], line 1\u001b[0m\n\u001b[1;32m----> 1\u001b[0m python_version()\n",
      "\u001b[1;31mNameError\u001b[0m: name 'python_version' is not defined"
     ]
    }
   ],
   "source": [
    "python_version()"
   ]
  },
  {
   "cell_type": "code",
   "execution_count": null,
   "id": "2f3c3325-9362-4a7d-bbc2-6b8e72af8569",
   "metadata": {},
   "outputs": [],
   "source": []
  }
 ],
 "metadata": {
  "kernelspec": {
   "display_name": "Python [conda env:base] *",
   "language": "python",
   "name": "conda-base-py"
  },
  "language_info": {
   "codemirror_mode": {
    "name": "ipython",
    "version": 3
   },
   "file_extension": ".py",
   "mimetype": "text/x-python",
   "name": "python",
   "nbconvert_exporter": "python",
   "pygments_lexer": "ipython3",
   "version": "3.13.5"
  }
 },
 "nbformat": 4,
 "nbformat_minor": 5
}
