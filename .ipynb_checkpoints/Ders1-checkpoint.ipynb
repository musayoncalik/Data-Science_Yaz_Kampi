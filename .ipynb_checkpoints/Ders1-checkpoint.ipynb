{
 "cells": [
  {
   "cell_type": "code",
   "execution_count": 2,
   "id": "e26ec00a-83ef-4a97-89e1-3bce069de30c",
   "metadata": {},
   "outputs": [
    {
     "name": "stdout",
     "output_type": "stream",
     "text": [
      "hello world\n"
     ]
    }
   ],
   "source": [
    "print(\"hello world\")"
   ]
  },
  {
   "cell_type": "code",
   "execution_count": 3,
   "id": "4af12a8e-7964-4205-a4e6-f439fd8906b6",
   "metadata": {},
   "outputs": [
    {
     "name": "stdout",
     "output_type": "stream",
     "text": [
      "14484\n"
     ]
    }
   ],
   "source": [
    "print(17*852)"
   ]
  },
  {
   "cell_type": "code",
   "execution_count": 4,
   "id": "e0b7f18b-eedd-4634-b5fd-eee36531fe21",
   "metadata": {},
   "outputs": [],
   "source": [
    "#Merhaba nasılsın"
   ]
  },
  {
   "cell_type": "code",
   "execution_count": 5,
   "id": "f006c8bc-1929-48ba-bc8a-735d1459128f",
   "metadata": {
    "jupyter": {
     "source_hidden": true
    }
   },
   "outputs": [],
   "source": [
    "#SOLID\n",
    "#DRY --> DON'T REPEAT YOURSELF\n"
   ]
  },
  {
   "cell_type": "code",
   "execution_count": 6,
   "id": "bcf66e5f-1a1f-4096-915c-0d7b2e2aec87",
   "metadata": {},
   "outputs": [],
   "source": [
    "# Değişken oluşturma : değişken_Takma_Adı = değişkenin değeri"
   ]
  },
  {
   "cell_type": "code",
   "execution_count": 8,
   "id": "85105931-658e-47a8-9e63-87cdfd3419ff",
   "metadata": {},
   "outputs": [
    {
     "name": "stdout",
     "output_type": "stream",
     "text": [
      "takım tutmadığımı belirtmek isterim.\n",
      "takım tutmadığımı belirtmek isterim.\n",
      "takım tutmadığımı belirtmek isterim.\n",
      "takım tutmadığımı belirtmek isterim.\n"
     ]
    }
   ],
   "source": [
    "metin = \"takım tutmadığımı belirtmek isterim.\"\n",
    "print(metin)\n",
    "print(metin)\n",
    "print(metin)\n",
    "print(metin)\n"
   ]
  },
  {
   "cell_type": "code",
   "execution_count": 10,
   "id": "e1299fb2-104b-4e47-b4da-57ac198f0131",
   "metadata": {},
   "outputs": [
    {
     "name": "stdout",
     "output_type": "stream",
     "text": [
      "37632\n"
     ]
    }
   ],
   "source": [
    "sayi1 = 256\n",
    "sayi2 = 147\n",
    "carpim = sayi1 * sayi2\n",
    "print(carpim)"
   ]
  },
  {
   "cell_type": "code",
   "execution_count": 11,
   "id": "6a0a6aa5-cb6f-402a-acd9-1ffab913da35",
   "metadata": {},
   "outputs": [
    {
     "name": "stdout",
     "output_type": "stream",
     "text": [
      "<class 'int'>\n"
     ]
    }
   ],
   "source": [
    "# str : metinsel ifadelere karşılık gelen veri tipi \n",
    "# int : tam sayılara karşılık gelir.\n",
    "\n",
    "print(type(carpim))"
   ]
  },
  {
   "cell_type": "code",
   "execution_count": 12,
   "id": "a1da4bdf-0730-46a3-8649-8bef24b0f781",
   "metadata": {},
   "outputs": [
    {
     "name": "stdout",
     "output_type": "stream",
     "text": [
      "<class 'str'>\n"
     ]
    }
   ],
   "source": [
    "print(type(metin))"
   ]
  },
  {
   "cell_type": "code",
   "execution_count": 15,
   "id": "51153f51-c238-49fd-a8fb-edeec55161fd",
   "metadata": {},
   "outputs": [
    {
     "name": "stdout",
     "output_type": "stream",
     "text": [
      "94.2\n"
     ]
    }
   ],
   "source": [
    "# float : ondalık sayılara karşılık gelir.\n",
    "# 2 pi r\n",
    "pi = 3.14\n",
    "yari_cap = 15\n",
    "cevre = 2 * pi * yari_cap\n",
    "print(cevre)"
   ]
  },
  {
   "cell_type": "code",
   "execution_count": 16,
   "id": "afeb3b18-8c14-4f8b-be04-b4f8c929b4ef",
   "metadata": {},
   "outputs": [
    {
     "name": "stdout",
     "output_type": "stream",
     "text": [
      "(2+3j)\n",
      "<class 'complex'>\n"
     ]
    }
   ],
   "source": [
    "# complex : matematikteki karmaşık  sayılara karşılık gelir\n",
    "z = 2 + 3j\n",
    "print(z)\n",
    "print(type(z))"
   ]
  },
  {
   "cell_type": "code",
   "execution_count": 20,
   "id": "bd38dfc3-de1d-443c-94b4-89a903534ce4",
   "metadata": {},
   "outputs": [
    {
     "name": "stdout",
     "output_type": "stream",
     "text": [
      "İstanul şehrin plakası 34\n",
      "Ankara şehrin plakası 6\n",
      "İzmir şehrin plakası 35\n",
      "Bursa şehrin plakası 16\n",
      "['İstanul', 'Ankara', 'İzmir', 'Bursa']\n",
      "<class 'list'>\n"
     ]
    }
   ],
   "source": [
    "# list : birden fazla veri grubuyla çalışmak istiyorsak list veri tipini kullanılır.\n",
    "#            0          1        2         3\n",
    "cities = ['İstanul', 'Ankara', 'İzmir', 'Bursa']\n",
    "plakalar = [34,6,35,16]\n",
    "\n",
    "for i in range(len(cities)):\n",
    "    print(f'{cities[i]} şehrin plakası {plakalar[i]}')\n",
    "\n",
    "\n",
    "\n",
    "print(cities)\n",
    "print(type(cities))"
   ]
  },
  {
   "cell_type": "code",
   "execution_count": 19,
   "id": "e68d4293-b52f-4780-af54-3f1f89cd02b3",
   "metadata": {},
   "outputs": [
    {
     "name": "stdout",
     "output_type": "stream",
     "text": [
      "Ankara\n"
     ]
    }
   ],
   "source": [
    "# cities listesindeki 2. eleman \n",
    "print(cities[1])"
   ]
  },
  {
   "cell_type": "code",
   "execution_count": 21,
   "id": "f06f4868-87bc-4529-91f1-1eae6d358c60",
   "metadata": {},
   "outputs": [
    {
     "name": "stdout",
     "output_type": "stream",
     "text": [
      "True\n"
     ]
    }
   ],
   "source": [
    "# bool : True veya False değeri alır.\n",
    "dogru = True\n",
    "yanlis = False\n",
    "print(dogru)"
   ]
  },
  {
   "cell_type": "code",
   "execution_count": 22,
   "id": "a86ac8bd-4562-4ca6-ad1f-22eccb9c1fc5",
   "metadata": {},
   "outputs": [],
   "source": [
    "# Operatörler \n",
    "# Aritmetik Operatörler\n",
    "# +, -, *, /, % -> mod alma , ** -> üs alma\n"
   ]
  },
  {
   "cell_type": "code",
   "execution_count": 23,
   "id": "f295ab6f-fcfa-4c3d-b911-bc99cd778c41",
   "metadata": {},
   "outputs": [
    {
     "name": "stdout",
     "output_type": "stream",
     "text": [
      "7\n",
      "3\n",
      "2.5\n",
      "1\n",
      "10\n",
      "25\n"
     ]
    }
   ],
   "source": [
    "x = 5\n",
    "y = 2\n",
    "print(x+y)\n",
    "print(x-y)\n",
    "print(x/y)\n",
    "print(x%y)\n",
    "print(x*y)\n",
    "print(x**y)"
   ]
  },
  {
   "cell_type": "code",
   "execution_count": 25,
   "id": "a427e654-c3bc-4592-a9ab-b0afd19c54f9",
   "metadata": {},
   "outputs": [
    {
     "name": "stdout",
     "output_type": "stream",
     "text": [
      "Musa Yoncalık\n"
     ]
    }
   ],
   "source": [
    "# 2 tane metinsel ifadeyi + operatörü ile işleme sokmak iki metni birleştirir.\n",
    "name = \"Musa\"\n",
    "surname = \" Yoncalık\"\n",
    "\n",
    "full_name = name + surname\n",
    "print(full_name)"
   ]
  },
  {
   "cell_type": "code",
   "execution_count": 27,
   "id": "613336d9-18f8-4fd4-b690-ed6cc13d0e6b",
   "metadata": {},
   "outputs": [
    {
     "name": "stdout",
     "output_type": "stream",
     "text": [
      "MusaMusa\n"
     ]
    }
   ],
   "source": [
    "print(name *2)"
   ]
  },
  {
   "cell_type": "code",
   "execution_count": 29,
   "id": "d7715d85-666c-428a-b5fe-64e4120bb2d2",
   "metadata": {},
   "outputs": [
    {
     "name": "stdout",
     "output_type": "stream",
     "text": [
      "True\n",
      "False\n",
      "False\n",
      "True\n",
      "False\n",
      "False\n"
     ]
    }
   ],
   "source": [
    "# Karşılaştırma Operatörleri \n",
    "# <, >, <=, >=,\n",
    "# == eşit midir \n",
    "# != eşit değil midir\n",
    "\n",
    "print(5<65)\n",
    "print(5>65)\n",
    "print(20 >= 39)\n",
    "print(5<65)\n",
    "print(35 <= 34 )\n",
    "print(30 == 35)"
   ]
  },
  {
   "cell_type": "code",
   "execution_count": 31,
   "id": "6e03ac30-d1db-4776-b758-e7e28cd75ac4",
   "metadata": {},
   "outputs": [
    {
     "name": "stdout",
     "output_type": "stream",
     "text": [
      "True\n",
      "False\n",
      "True\n"
     ]
    }
   ],
   "source": [
    "print(\"buse\" == \"buse\")\n",
    "print(\"Buse\" == \"buse\")\n",
    "print(\"Evren\" < \"Uzay\")"
   ]
  },
  {
   "cell_type": "code",
   "execution_count": null,
   "id": "eb8ee91c-1eb7-452b-ae20-5d91dcbbd99f",
   "metadata": {},
   "outputs": [],
   "source": []
  }
 ],
 "metadata": {
  "kernelspec": {
   "display_name": "Python [conda env:base] *",
   "language": "python",
   "name": "conda-base-py"
  },
  "language_info": {
   "codemirror_mode": {
    "name": "ipython",
    "version": 3
   },
   "file_extension": ".py",
   "mimetype": "text/x-python",
   "name": "python",
   "nbconvert_exporter": "python",
   "pygments_lexer": "ipython3",
   "version": "3.13.5"
  }
 },
 "nbformat": 4,
 "nbformat_minor": 5
}
