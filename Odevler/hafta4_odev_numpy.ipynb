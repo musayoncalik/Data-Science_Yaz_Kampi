{
 "cells": [
  {
   "cell_type": "code",
   "execution_count": 1,
   "id": "e57d9441-5c5a-419b-a650-ebe21eb9f60f",
   "metadata": {},
   "outputs": [],
   "source": [
    "import numpy as np\n",
    "import pandas as pd"
   ]
  },
  {
   "cell_type": "code",
   "execution_count": 7,
   "id": "cd828d25-070d-49c2-bb94-3acaa0e4e0af",
   "metadata": {},
   "outputs": [
    {
     "data": {
      "text/plain": [
       "array([[51, 92, 14, 71, 60],\n",
       "       [20, 82, 86, 74, 74],\n",
       "       [87, 99, 23,  2, 21],\n",
       "       [52,  1, 87, 29, 37],\n",
       "       [ 1, 63, 59, 20, 32]], dtype=int32)"
      ]
     },
     "execution_count": 7,
     "metadata": {},
     "output_type": "execute_result"
    }
   ],
   "source": [
    "# numpy bölümü \n",
    "# 1. bölüm\n",
    "np.random.seed(42)   # sabit tutar \n",
    "matris = np.random.randint(0,100,25).reshape(5,5)\n",
    "matris"
   ]
  },
  {
   "cell_type": "code",
   "execution_count": 9,
   "id": "788e5fee-32d5-4891-a17d-67deeb283849",
   "metadata": {},
   "outputs": [
    {
     "name": "stdout",
     "output_type": "stream",
     "text": [
      "Matrisin ortalaması : 49.48\n",
      "Matrisin standart sapması : 30.899993527507412\n",
      "Matrisin varyansı : 954.8095999999999\n",
      "Matrisin en küçük elemanı : 1\n",
      "Matrisin en büyük elemanı  : 99\n"
     ]
    }
   ],
   "source": [
    "ortalama = np.mean(matris)\n",
    "std_sapma = np.std(matris)\n",
    "varyans =np.var(matris)\n",
    "\n",
    "en_kucuk = np.min(matris)\n",
    "en_buyuk = np.max(matris)\n",
    "\n",
    "print(f'Matrisin ortalaması : {ortalama}')\n",
    "print(f'Matrisin standart sapması : {std_sapma}')\n",
    "print(f'Matrisin varyansı : {varyans}')\n",
    "print(f'Matrisin en küçük elemanı : {en_kucuk}')\n",
    "print(f'Matrisin en büyük elemanı  : {en_buyuk}')"
   ]
  },
  {
   "cell_type": "code",
   "execution_count": 18,
   "id": "2b03ac1d-d4e4-491f-ae52-d15e207c49fb",
   "metadata": {},
   "outputs": [
    {
     "data": {
      "text/plain": [
       "array([51, 82, 23, 29, 32], dtype=int32)"
      ]
     },
     "execution_count": 18,
     "metadata": {},
     "output_type": "execute_result"
    }
   ],
   "source": [
    "kosegen_toplam = np.trace(matris)\n",
    "kosegen_elemanlar = np.diag(matris)\n",
    "kosegen_elemanlar"
   ]
  },
  {
   "cell_type": "code",
   "execution_count": 19,
   "id": "39df6192-9d8b-4b3e-a403-5867f74a6924",
   "metadata": {},
   "outputs": [
    {
     "data": {
      "text/plain": [
       "np.int64(217)"
      ]
     },
     "execution_count": 19,
     "metadata": {},
     "output_type": "execute_result"
    }
   ],
   "source": [
    "kosegen_elemanlar.sum()"
   ]
  },
  {
   "cell_type": "code",
   "execution_count": 21,
   "id": "ab59aade-5032-415d-a414-aeaa3cf1a808",
   "metadata": {},
   "outputs": [],
   "source": [
    "# 2. bölüm"
   ]
  },
  {
   "cell_type": "code",
   "execution_count": 37,
   "id": "886373b5-deee-4540-ba5a-aeedb98537db",
   "metadata": {},
   "outputs": [
    {
     "data": {
      "text/plain": [
       "array([ 75,  71,  76,  67,  43, 100,  77,  80,  74,  63,  72,  51, 100,\n",
       "        56,  59,  68,  94,  75,  56,  93,  85,  83,  85, 100, 100,  64,\n",
       "        99,  80,  82,  49,  72,  62,  87,  91,  43,  74,  91,  72,  85,\n",
       "        80,  80,  70,  56,  58,  85,  75,  72,  68,  70,  90,  69,  54,\n",
       "        86,  71,  75,  99,  74,  79,  57,  71,  84,  51,  78,  76,  75,\n",
       "        90,  80,  97,  60,  77,  76,  58,  89, 100,  74,  82,  76,  64,\n",
       "        47,  64,  54, 100,  73,  69,  88,  58,  63,  76,  90,  82,  78,\n",
       "        76,  81,  78,  59,  75,  58,  76,  67, 100,  74,  53,  72,  82,\n",
       "       100,  66,  51,  87,  54,  68,  71,  73,  85,  64,  70,  74,  77,\n",
       "        76,  81,  87,  80,  81,  51,  75,  82,  85,  64,  65,  66,  83,\n",
       "        90,  68,  88,  76,  73,  71,  86,  79, 100,  62,  82,  67,  61,\n",
       "        74,  77, 100,  72,  58,  79,  43,  73,  75,  86,  89,  67,  72,\n",
       "        63,  58,  79,  55,  68,  60,  83, 100,  55,  47,  73,  75,  78,\n",
       "        68,  71,  80,  90,  45,  69,  78,  61, 100,  65,  74,  83,  66,\n",
       "        47,  68,  90,  69,  62,  88,  70,  67,  77,  86, 100,  87,  92,\n",
       "        67,  59,  75,  76,  58,  72,  80,  80,  82,  79,  67,  67,  57,\n",
       "       100,  75,  71,  61, 100,  58,  68,  81,  84,  89, 100,  82,  59,\n",
       "        71,  79, 100,  54,  93,  77,  87,  73,  62,  86,  84,  89,  74,\n",
       "        66,  51,  87,  81,  60,  66,  67,  52,  62,  57,  68,  63,  50,\n",
       "       100,  93,  63,  79,  81,  92,  62,  91,  66,  54,  85,  94, 100,\n",
       "        57,  85,  68,  86,  52,  56,  63,  76,  65,  84,  90,  83,  99,\n",
       "        81,  56,  95,  65,  88,  98,  81,  52,  61,  94,  72,  76,  86,\n",
       "        85,  79,  71,  70,  87,  83,  71,  91,  73,  62,  63,  60,  70,\n",
       "        93,  62,  77,  65,  71,  52,  71,  72,  83,  78,  57,  91,  78,\n",
       "        77,  74,  67,  78,  82,  48,  66,  71,  78,  92,  63,  67,  67,\n",
       "        62,  69,  86,  59,  81,  49,  66,  70, 100,  70,  41,  45,  75,\n",
       "        84,  80,  77,  92,  66,  88,  50,  61,  47,  70,  74,  76,  75,\n",
       "        61,  72,  52,  95,  70,  67,  98,  56,  58,  58,  73,  81,  86,\n",
       "       100,  41,  84,  66,  66,  65,  61, 100,  87,  75,  95,  52,  55,\n",
       "        42,  64,  77,  76,  77,  53,  87,  78,  85,  46,  79,  57,  69,\n",
       "        83,  76,  62,  75,  52,  92,  71,  91,  67,  67,  63,  88,  64,\n",
       "        84,  69,  45,  66,  57,  75,  57,  88,  73,  72,  84,  89,  74,\n",
       "        63,  48,  64,  65,  76,  69,  85,  65,  74,  92,  80,  74,  65,\n",
       "        65,  62,  66,  86,  71,  54, 100,  79,  53,  68,  76, 100,  58,\n",
       "        89,  95,  65,  70,  59,  71,  74,  84,  91,  63,  45,  74,  79,\n",
       "        78,  70,  76,  97,  80,  69,  67,  72,  99,  72,  74,  67,  91,\n",
       "       100,  81,  76,  75,  39,  86,  77,  81,  64,  69,  68,  90,  69,\n",
       "       100,  81,  55,  73,  65,  42,  98,  85,  82,  77,  54,  67,  87,\n",
       "        59,  37,  71,  72,  77,  85,  84,  78,  92,  52,  82,  84,  56,\n",
       "        52,  63,  65,  86,  65,  62,  65,  91,  75,  72,  73,  94,  63,\n",
       "        94,  78,  72, 100,  59,  69,  56,  89, 100, 100,  93,  72,  69,\n",
       "        49, 100,  82,  67,  94,  60,  81,  72,  84,  74,  53,  76,  90,\n",
       "        74,  86,  59,  74,  65,  86,  75,  85,  91,  85,  79,  60,  74,\n",
       "        67,  69,  69,  60,  45,  64,  77,  54,  75, 100,  90,  99,  80,\n",
       "        92,  64,  65,  33,  92,  98,  66,  71,  63,  80,  91,  48,  81,\n",
       "        70,  76,  81,  72,  73,  71,  89,  81,  78,  55,  69,  88,  75,\n",
       "        84, 100,  90,  76,  67,  36,  72,  70,  80,  72,  70,  48,  60,\n",
       "        82, 100,  73,  79,  89,  62,  80,  63,  87,  77,  79,  63,  85,\n",
       "       100,  59,  69,  78,  86,  66,  32,  95,  86,  48,  65,  98,  96,\n",
       "        89,  72,  76,  73,  91,  61,  62,  90,  74,  95,  64,  74,  61,\n",
       "        75,  52,  67,  53,  85,  85,  49,  95, 100,  75,  65, 100,  55,\n",
       "        75,  77,  95,  80,  67,  60,  69,  59,  75,  66,  52,  93,  67,\n",
       "        55,  72,  76,  48,  79,  59, 100,  82,  69,  63,  73,  84,  74,\n",
       "        71,  75,  65,  69,  43,  89,  79,  63, 100,  76,  59,  87,  80,\n",
       "        80,  68,  81,  71,  83,  46,  68, 100,  63,  65,  68,  56,  41,\n",
       "        71,  77,  74,  72,  75,  90,  72,  66,  70,  83,  96,  65,  76,\n",
       "        80,  60,  75,  53,  48,  80,  69,  78,  74,  60,  74,  56,  95,\n",
       "        54,  72,  59,  83,  70,  67,  87,  75,  82,  60,  53,  76,  70,\n",
       "        84,  73,  78,  50, 100,  72,  85,  62,  79,  55,  81,  69,  75,\n",
       "        85,  56,  64,  81, 100,  72,  83,  73, 100,  48,  76,  50,  37,\n",
       "        79,  77,  70,  73, 100,  71,  82,  65,  79,  71,  68, 100,  92,\n",
       "        77,  40,  69, 100,  71,  91,  96,  78,  62,  38,  85,  62,  77,\n",
       "        56,  71,  75,  79,  58,  92,  66,  49,  73,  75,  77,  95,  71,\n",
       "        73,  58,  87,  77,  68,  46,  96,  56,  66,  80,  57,  52,  43,\n",
       "        85,  66, 100,  60,  61,  66,  78,  67,  84,  60,  54,  48,  41,\n",
       "        67,  70,  65,  93,  93,  69,  48,  66,  66,  65,  64,  65,  69,\n",
       "        65,  78,  80,  61,  94,  60,  50,  80,  62,  79,  38,  95,  85,\n",
       "        52,  52, 100,  63,  62,  41,  69,  71,  85,  54,  52,  81,  90,\n",
       "        51,  91,  75,  91,  73,  37,  72,  90,  61,  69,  72,  31, 100,\n",
       "        61,  82,  73,  93,  81,  71,  61,  86,  46,  84,  58,  93,  77,\n",
       "        84,  76,  48,  62,  85,  77,  92,  81,  60,  63,  76,  40, 100,\n",
       "        81,  93,  51,  93, 100,  55,  86,  75,  51,  82,  87,  65,  92,\n",
       "        49,  52,  77,  75,  64,  87,  82,  87,  73,  84,  68, 100,  62,\n",
       "       100,  75,  54,  95,  76,  87,  93,  80,  66,  89,  75,  85,  42,\n",
       "        81,  65,  99,  84,  78,  82,  60,  99, 100,  80,  98,  66,  63,\n",
       "        75,  81,  69,  83,  79,  60,  82,  87,  77,  92,  56,  82,  57,\n",
       "        58,  65,  60,  66,  71,  87,  70,  51,  92,  62,  74,  81])"
      ]
     },
     "execution_count": 37,
     "metadata": {},
     "output_type": "execute_result"
    }
   ],
   "source": [
    "sinav_puanlari = np.random.normal(loc = 75, scale = 15, size = 1000).astype(int)\n",
    "kirpilmis_puanlar = np.clip(sinav_puanlari,0,100)   # sınırlama fonksiyonu\n",
    "kirpilmis_puanlar"
   ]
  },
  {
   "cell_type": "code",
   "execution_count": 38,
   "id": "9ea6a668-2c96-415b-a90e-4ab15a820e69",
   "metadata": {},
   "outputs": [
    {
     "data": {
      "text/plain": [
       "np.int64(55)"
      ]
     },
     "execution_count": 38,
     "metadata": {},
     "output_type": "execute_result"
    }
   ],
   "source": [
    "# 50 den düşük alan öğrencilerin sayısı\n",
    "\n",
    "dusuk_puan = np.sum(kirpilmis_puanlar < 50)\n",
    "dusuk_puan"
   ]
  },
  {
   "cell_type": "code",
   "execution_count": 40,
   "id": "a8c71def-4a32-4dd6-a0f1-ff451abe5a29",
   "metadata": {},
   "outputs": [
    {
     "data": {
      "text/plain": [
       "{'Öğrenci': ['Ali', 'Ayşe', 'Mehmet', 'Zeynep', 'Ahmet'],\n",
       " 'Yaş': [20, 21, 19, 22, 20],\n",
       " 'Bölüm': ['Bilgisayar', 'Fizik', 'Kimya', 'Bilgisayar', 'Fizik'],\n",
       " 'Matematik': [70, 60, 80, 90, 55],\n",
       " 'Fizik': [65, 75, 70, 85, 60],\n",
       " 'Kimya': [80, 85, 65, 95, 70]}"
      ]
     },
     "execution_count": 40,
     "metadata": {},
     "output_type": "execute_result"
    }
   ],
   "source": [
    "# pandas bölümü\n",
    "\n",
    "data = {\n",
    "    'Öğrenci' : [\"Ali\", \"Ayşe\", \"Mehmet\", \"Zeynep\", \"Ahmet\"],\n",
    "    \"Yaş\": [20, 21, 19, 22, 20],\n",
    "    \"Bölüm\": [\"Bilgisayar\", \"Fizik\", \"Kimya\", \"Bilgisayar\", \"Fizik\"],\n",
    "    \"Matematik\": [70, 60, 80, 90, 55],\n",
    "    \"Fizik\": [65, 75, 70, 85, 60],\n",
    "    \"Kimya\": [80, 85, 65, 95, 70]\n",
    "}\n",
    "data"
   ]
  },
  {
   "cell_type": "code",
   "execution_count": 42,
   "id": "41e567e3-a0a9-419e-acb2-d13d923cb636",
   "metadata": {},
   "outputs": [
    {
     "data": {
      "text/html": [
       "<div>\n",
       "<style scoped>\n",
       "    .dataframe tbody tr th:only-of-type {\n",
       "        vertical-align: middle;\n",
       "    }\n",
       "\n",
       "    .dataframe tbody tr th {\n",
       "        vertical-align: top;\n",
       "    }\n",
       "\n",
       "    .dataframe thead th {\n",
       "        text-align: right;\n",
       "    }\n",
       "</style>\n",
       "<table border=\"1\" class=\"dataframe\">\n",
       "  <thead>\n",
       "    <tr style=\"text-align: right;\">\n",
       "      <th></th>\n",
       "      <th>Öğrenci</th>\n",
       "      <th>Yaş</th>\n",
       "      <th>Bölüm</th>\n",
       "      <th>Matematik</th>\n",
       "      <th>Fizik</th>\n",
       "      <th>Kimya</th>\n",
       "    </tr>\n",
       "  </thead>\n",
       "  <tbody>\n",
       "    <tr>\n",
       "      <th>0</th>\n",
       "      <td>Ali</td>\n",
       "      <td>20</td>\n",
       "      <td>Bilgisayar</td>\n",
       "      <td>70</td>\n",
       "      <td>65</td>\n",
       "      <td>80</td>\n",
       "    </tr>\n",
       "    <tr>\n",
       "      <th>1</th>\n",
       "      <td>Ayşe</td>\n",
       "      <td>21</td>\n",
       "      <td>Fizik</td>\n",
       "      <td>60</td>\n",
       "      <td>75</td>\n",
       "      <td>85</td>\n",
       "    </tr>\n",
       "    <tr>\n",
       "      <th>2</th>\n",
       "      <td>Mehmet</td>\n",
       "      <td>19</td>\n",
       "      <td>Kimya</td>\n",
       "      <td>80</td>\n",
       "      <td>70</td>\n",
       "      <td>65</td>\n",
       "    </tr>\n",
       "    <tr>\n",
       "      <th>3</th>\n",
       "      <td>Zeynep</td>\n",
       "      <td>22</td>\n",
       "      <td>Bilgisayar</td>\n",
       "      <td>90</td>\n",
       "      <td>85</td>\n",
       "      <td>95</td>\n",
       "    </tr>\n",
       "    <tr>\n",
       "      <th>4</th>\n",
       "      <td>Ahmet</td>\n",
       "      <td>20</td>\n",
       "      <td>Fizik</td>\n",
       "      <td>55</td>\n",
       "      <td>60</td>\n",
       "      <td>70</td>\n",
       "    </tr>\n",
       "  </tbody>\n",
       "</table>\n",
       "</div>"
      ],
      "text/plain": [
       "  Öğrenci  Yaş       Bölüm  Matematik  Fizik  Kimya\n",
       "0     Ali   20  Bilgisayar         70     65     80\n",
       "1    Ayşe   21       Fizik         60     75     85\n",
       "2  Mehmet   19       Kimya         80     70     65\n",
       "3  Zeynep   22  Bilgisayar         90     85     95\n",
       "4   Ahmet   20       Fizik         55     60     70"
      ]
     },
     "execution_count": 42,
     "metadata": {},
     "output_type": "execute_result"
    }
   ],
   "source": [
    "df = pd.DataFrame(data)\n",
    "df"
   ]
  },
  {
   "cell_type": "code",
   "execution_count": 46,
   "id": "67b33225-fc12-42fd-b326-4c610c6894ee",
   "metadata": {},
   "outputs": [
    {
     "name": "stdout",
     "output_type": "stream",
     "text": [
      "Matematik dersin ortalaması 71.0\n",
      "Fizik dersin ortalaması 71.0\n",
      "Kimya dersin ortalaması 79.0\n"
     ]
    }
   ],
   "source": [
    "# ortalama hesaplama\n",
    "ders_ortalamalari = df[['Matematik', 'Fizik', 'Kimya']].mean()\n",
    "for ders , ortalama in ders_ortalamalari.items():\n",
    "    print(f'{ders} dersin ortalaması {ortalama}')"
   ]
  },
  {
   "cell_type": "code",
   "execution_count": 54,
   "id": "56789c41-36aa-49e5-bc9d-c0fc2a9f187f",
   "metadata": {},
   "outputs": [
    {
     "data": {
      "text/plain": [
       "Öğrenci          Zeynep\n",
       "Yaş                  22\n",
       "Bölüm        Bilgisayar\n",
       "Matematik            90\n",
       "Fizik                85\n",
       "Kimya                95\n",
       "Name: 3, dtype: object"
      ]
     },
     "execution_count": 54,
     "metadata": {},
     "output_type": "execute_result"
    }
   ],
   "source": [
    "# en yüksek matematik notunu alan öğrenci\n",
    "\n",
    "en_yuksek_mat_id = df['Matematik'].idxmax()\n",
    "en_yuksek_mat_not = df.loc[en_yuksek_mat_id]\n",
    "en_yuksek_mat_not"
   ]
  },
  {
   "cell_type": "code",
   "execution_count": 57,
   "id": "cfe38c3e-a71a-4fec-81ab-68a9462b8a15",
   "metadata": {},
   "outputs": [
    {
     "data": {
      "text/html": [
       "<div>\n",
       "<style scoped>\n",
       "    .dataframe tbody tr th:only-of-type {\n",
       "        vertical-align: middle;\n",
       "    }\n",
       "\n",
       "    .dataframe tbody tr th {\n",
       "        vertical-align: top;\n",
       "    }\n",
       "\n",
       "    .dataframe thead th {\n",
       "        text-align: right;\n",
       "    }\n",
       "</style>\n",
       "<table border=\"1\" class=\"dataframe\">\n",
       "  <thead>\n",
       "    <tr style=\"text-align: right;\">\n",
       "      <th></th>\n",
       "      <th>Öğrenci</th>\n",
       "      <th>Yaş</th>\n",
       "      <th>Bölüm</th>\n",
       "      <th>Matematik</th>\n",
       "      <th>Fizik</th>\n",
       "      <th>Kimya</th>\n",
       "      <th>Not Ortalaması</th>\n",
       "    </tr>\n",
       "  </thead>\n",
       "  <tbody>\n",
       "    <tr>\n",
       "      <th>0</th>\n",
       "      <td>Ali</td>\n",
       "      <td>20</td>\n",
       "      <td>Bilgisayar</td>\n",
       "      <td>70</td>\n",
       "      <td>65</td>\n",
       "      <td>80</td>\n",
       "      <td>71.666667</td>\n",
       "    </tr>\n",
       "    <tr>\n",
       "      <th>1</th>\n",
       "      <td>Ayşe</td>\n",
       "      <td>21</td>\n",
       "      <td>Fizik</td>\n",
       "      <td>60</td>\n",
       "      <td>75</td>\n",
       "      <td>85</td>\n",
       "      <td>73.333333</td>\n",
       "    </tr>\n",
       "    <tr>\n",
       "      <th>2</th>\n",
       "      <td>Mehmet</td>\n",
       "      <td>19</td>\n",
       "      <td>Kimya</td>\n",
       "      <td>80</td>\n",
       "      <td>70</td>\n",
       "      <td>65</td>\n",
       "      <td>71.666667</td>\n",
       "    </tr>\n",
       "    <tr>\n",
       "      <th>3</th>\n",
       "      <td>Zeynep</td>\n",
       "      <td>22</td>\n",
       "      <td>Bilgisayar</td>\n",
       "      <td>90</td>\n",
       "      <td>85</td>\n",
       "      <td>95</td>\n",
       "      <td>90.000000</td>\n",
       "    </tr>\n",
       "    <tr>\n",
       "      <th>4</th>\n",
       "      <td>Ahmet</td>\n",
       "      <td>20</td>\n",
       "      <td>Fizik</td>\n",
       "      <td>55</td>\n",
       "      <td>60</td>\n",
       "      <td>70</td>\n",
       "      <td>61.666667</td>\n",
       "    </tr>\n",
       "  </tbody>\n",
       "</table>\n",
       "</div>"
      ],
      "text/plain": [
       "  Öğrenci  Yaş       Bölüm  Matematik  Fizik  Kimya  Not Ortalaması\n",
       "0     Ali   20  Bilgisayar         70     65     80       71.666667\n",
       "1    Ayşe   21       Fizik         60     75     85       73.333333\n",
       "2  Mehmet   19       Kimya         80     70     65       71.666667\n",
       "3  Zeynep   22  Bilgisayar         90     85     95       90.000000\n",
       "4   Ahmet   20       Fizik         55     60     70       61.666667"
      ]
     },
     "execution_count": 57,
     "metadata": {},
     "output_type": "execute_result"
    }
   ],
   "source": [
    "# her öğrencinin ortalamasını yeni kolon olarak ekle\n",
    "\n",
    "df['Not Ortalaması'] = df[['Matematik', 'Fizik', 'Kimya']].mean(axis=1)\n",
    "df"
   ]
  },
  {
   "cell_type": "code",
   "execution_count": 60,
   "id": "4ca1c78d-39a2-4405-9639-b54fd4fe6a80",
   "metadata": {},
   "outputs": [
    {
     "data": {
      "text/html": [
       "<div>\n",
       "<style scoped>\n",
       "    .dataframe tbody tr th:only-of-type {\n",
       "        vertical-align: middle;\n",
       "    }\n",
       "\n",
       "    .dataframe tbody tr th {\n",
       "        vertical-align: top;\n",
       "    }\n",
       "\n",
       "    .dataframe thead th {\n",
       "        text-align: right;\n",
       "    }\n",
       "</style>\n",
       "<table border=\"1\" class=\"dataframe\">\n",
       "  <thead>\n",
       "    <tr style=\"text-align: right;\">\n",
       "      <th></th>\n",
       "      <th>Matematik</th>\n",
       "      <th>Fizik</th>\n",
       "      <th>Kimya</th>\n",
       "      <th>Not Ortalaması</th>\n",
       "    </tr>\n",
       "    <tr>\n",
       "      <th>Bölüm</th>\n",
       "      <th></th>\n",
       "      <th></th>\n",
       "      <th></th>\n",
       "      <th></th>\n",
       "    </tr>\n",
       "  </thead>\n",
       "  <tbody>\n",
       "    <tr>\n",
       "      <th>Bilgisayar</th>\n",
       "      <td>80.0</td>\n",
       "      <td>75.0</td>\n",
       "      <td>87.5</td>\n",
       "      <td>80.83</td>\n",
       "    </tr>\n",
       "    <tr>\n",
       "      <th>Fizik</th>\n",
       "      <td>57.5</td>\n",
       "      <td>67.5</td>\n",
       "      <td>77.5</td>\n",
       "      <td>67.50</td>\n",
       "    </tr>\n",
       "    <tr>\n",
       "      <th>Kimya</th>\n",
       "      <td>80.0</td>\n",
       "      <td>70.0</td>\n",
       "      <td>65.0</td>\n",
       "      <td>71.67</td>\n",
       "    </tr>\n",
       "  </tbody>\n",
       "</table>\n",
       "</div>"
      ],
      "text/plain": [
       "            Matematik  Fizik  Kimya  Not Ortalaması\n",
       "Bölüm                                              \n",
       "Bilgisayar       80.0   75.0   87.5           80.83\n",
       "Fizik            57.5   67.5   77.5           67.50\n",
       "Kimya            80.0   70.0   65.0           71.67"
      ]
     },
     "execution_count": 60,
     "metadata": {},
     "output_type": "execute_result"
    }
   ],
   "source": [
    "bolum_ort = df.groupby('Bölüm')[['Matematik', 'Fizik', 'Kimya', 'Not Ortalaması']].mean()\n",
    "bolum_ort.round(2)"
   ]
  },
  {
   "cell_type": "code",
   "execution_count": 61,
   "id": "ce148bbf-214e-465d-b47c-d56dd177a7e7",
   "metadata": {},
   "outputs": [
    {
     "data": {
      "text/html": [
       "<div>\n",
       "<style scoped>\n",
       "    .dataframe tbody tr th:only-of-type {\n",
       "        vertical-align: middle;\n",
       "    }\n",
       "\n",
       "    .dataframe tbody tr th {\n",
       "        vertical-align: top;\n",
       "    }\n",
       "\n",
       "    .dataframe thead th {\n",
       "        text-align: right;\n",
       "    }\n",
       "</style>\n",
       "<table border=\"1\" class=\"dataframe\">\n",
       "  <thead>\n",
       "    <tr style=\"text-align: right;\">\n",
       "      <th></th>\n",
       "      <th>Öğrenci</th>\n",
       "      <th>Yaş</th>\n",
       "      <th>Bölüm</th>\n",
       "      <th>Matematik</th>\n",
       "      <th>Fizik</th>\n",
       "      <th>Kimya</th>\n",
       "      <th>Not Ortalaması</th>\n",
       "    </tr>\n",
       "  </thead>\n",
       "  <tbody>\n",
       "    <tr>\n",
       "      <th>0</th>\n",
       "      <td>Ali</td>\n",
       "      <td>20</td>\n",
       "      <td>Bilgisayar</td>\n",
       "      <td>70</td>\n",
       "      <td>65</td>\n",
       "      <td>80</td>\n",
       "      <td>71.666667</td>\n",
       "    </tr>\n",
       "    <tr>\n",
       "      <th>1</th>\n",
       "      <td>Ayşe</td>\n",
       "      <td>21</td>\n",
       "      <td>Fizik</td>\n",
       "      <td>60</td>\n",
       "      <td>75</td>\n",
       "      <td>85</td>\n",
       "      <td>73.333333</td>\n",
       "    </tr>\n",
       "    <tr>\n",
       "      <th>2</th>\n",
       "      <td>Mehmet</td>\n",
       "      <td>19</td>\n",
       "      <td>Kimya</td>\n",
       "      <td>80</td>\n",
       "      <td>70</td>\n",
       "      <td>65</td>\n",
       "      <td>71.666667</td>\n",
       "    </tr>\n",
       "    <tr>\n",
       "      <th>3</th>\n",
       "      <td>Zeynep</td>\n",
       "      <td>22</td>\n",
       "      <td>Bilgisayar</td>\n",
       "      <td>90</td>\n",
       "      <td>85</td>\n",
       "      <td>95</td>\n",
       "      <td>90.000000</td>\n",
       "    </tr>\n",
       "  </tbody>\n",
       "</table>\n",
       "</div>"
      ],
      "text/plain": [
       "  Öğrenci  Yaş       Bölüm  Matematik  Fizik  Kimya  Not Ortalaması\n",
       "0     Ali   20  Bilgisayar         70     65     80       71.666667\n",
       "1    Ayşe   21       Fizik         60     75     85       73.333333\n",
       "2  Mehmet   19       Kimya         80     70     65       71.666667\n",
       "3  Zeynep   22  Bilgisayar         90     85     95       90.000000"
      ]
     },
     "execution_count": 61,
     "metadata": {},
     "output_type": "execute_result"
    }
   ],
   "source": [
    "basarili = df[df['Not Ortalaması'] > 70]\n",
    "basarili"
   ]
  },
  {
   "cell_type": "code",
   "execution_count": 67,
   "id": "ee14502b-7736-474b-a48d-2d7cdbd8b88a",
   "metadata": {},
   "outputs": [],
   "source": [
    "import matplotlib.pyplot as plt\n",
    "import seaborn as sns\n"
   ]
  },
  {
   "cell_type": "code",
   "execution_count": 68,
   "id": "07eab980-8fce-4296-9653-c08da5970b42",
   "metadata": {},
   "outputs": [
    {
     "data": {
      "image/png": "[encoded data removed]",
      "text/plain": [
       "<Figure size 1200x400 with 1 Axes>"
      ]
     },
     "metadata": {},
     "output_type": "display_data"
    },
    {
     "data": {
      "image/png": "[encoded data removed]",
      "text/plain": [
       "<Figure size 640x480 with 1 Axes>"
      ]
     },
     "metadata": {},
     "output_type": "display_data"
    },
    {
     "data": {
      "image/png": "[encoded data removed]",
      "text/plain": [
       "<Figure size 640x480 with 1 Axes>"
      ]
     },
     "metadata": {},
     "output_type": "display_data"
    }
   ],
   "source": [
    "# Her dersin dağılımı histogram \n",
    "plt.figure(figsize=(12, 4)) \n",
    "for i, ders in enumerate([\"Matematik\", \"Fizik\", \"Kimya\"]): \n",
    "    plt.subplot(1, 3, i+1) \n",
    "    sns.histplot(df[ders], kde=True, bins=5) \n",
    "    plt.title(f\"{ders} Not Dağılımı\") \n",
    "    plt.tight_layout() \n",
    "    plt.show() \n",
    "\n",
    " "
   ]
  },
  {
   "cell_type": "code",
   "execution_count": 69,
   "id": "0abfd59c-351a-4c37-8d9c-aa0b21aff019",
   "metadata": {},
   "outputs": [],
   "source": [
    "# Bölümlere göre ortalama başarı bar grafiği"
   ]
  },
  {
   "cell_type": "code",
   "execution_count": 74,
   "id": "55105a11-b29d-42ec-9a11-e71e6da17aad",
   "metadata": {},
   "outputs": [
    {
     "data": {
      "image/png": "[encoded data removed]",
      "text/plain": [
       "<Figure size 600x400 with 1 Axes>"
      ]
     },
     "metadata": {},
     "output_type": "display_data"
    }
   ],
   "source": [
    "# Eğer \"Ortalama\" sütunu yoksa ekle\n",
    "if \"Ortalama\" not in df.columns:\n",
    "    df[\"Ortalama\"] = df[[\"Matematik\", \"Fizik\", \"Kimya\"]].mean(axis=1)\n",
    "    \n",
    "\n",
    "# Bölümlere göre ortalama başarı\n",
    "df_grouped = df.groupby(\"Bölüm\")[\"Ortalama\"].mean().reset_index()\n",
    "\n",
    "plt.figure(figsize=(6,4))\n",
    "sns.barplot(data=df, x=\"Bölüm\", y=\"Ortalama\", estimator=\"mean\", errorbar=None)\n",
    "\n",
    "plt.title(\"Bölümlere Göre Ortalama Başarı\")\n",
    "plt.ylabel(\"Ortalama Not\")\n",
    "plt.show()"
   ]
  },
  {
   "cell_type": "code",
   "execution_count": null,
   "id": "1fbe682a-e071-49c9-b3e1-13dd367c83e3",
   "metadata": {},
   "outputs": [],
   "source": []
  }
 ],
 "metadata": {
  "kernelspec": {
   "display_name": "Python [conda env:base] *",
   "language": "python",
   "name": "conda-base-py"
  },
  "language_info": {
   "codemirror_mode": {
    "name": "ipython",
    "version": 3
   },
   "file_extension": ".py",
   "mimetype": "text/x-python",
   "name": "python",
   "nbconvert_exporter": "python",
   "pygments_lexer": "ipython3",
   "version": "3.13.5"
  }
 },
 "nbformat": 4,
 "nbformat_minor": 5
}
