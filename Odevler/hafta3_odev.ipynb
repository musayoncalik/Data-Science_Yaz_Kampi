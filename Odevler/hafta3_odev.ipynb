{
 "cells": [
  {
   "cell_type": "code",
   "execution_count": 1,
   "id": "843a57ac-c452-4e7c-a0d9-4daaad930bbd",
   "metadata": {},
   "outputs": [],
   "source": [
    "# Soru 1 – Liste Metotları"
   ]
  },
  {
   "cell_type": "code",
   "execution_count": 2,
   "id": "3b01f2d2-a899-4f06-994b-eebabd86b7ac",
   "metadata": {},
   "outputs": [
    {
     "name": "stdout",
     "output_type": "stream",
     "text": [
      "Benzersiz notlar: [100, 92, 85, 76]\n",
      "En yüksek: 100 En düşük: 76\n",
      "Sıralı notlar: [76, 76, 85, 85, 92, 92, 92, 100]\n"
     ]
    }
   ],
   "source": [
    "notlar = [85, 92, 76, 92, 100, 76, 85, 92]\n",
    "\n",
    "# Tekrar edenleri sil\n",
    "benzersiz_notlar = list(set(notlar))\n",
    "print(\"Benzersiz notlar:\", benzersiz_notlar)\n",
    "\n",
    "# En yüksek ve en düşük not\n",
    "en_yuksek = max(notlar)\n",
    "en_dusuk = min(notlar)\n",
    "print(\"En yüksek:\", en_yuksek, \"En düşük:\", en_dusuk)\n",
    "\n",
    "# Notları küçükten büyüğe sırala\n",
    "sirali_notlar = sorted(notlar)\n",
    "print(\"Sıralı notlar:\", sirali_notlar)\n"
   ]
  },
  {
   "cell_type": "code",
   "execution_count": 3,
   "id": "7bdf0693-c3b4-499e-a355-a665aa6d4310",
   "metadata": {},
   "outputs": [],
   "source": [
    "# Soru 2 – Armstrong Sayısı"
   ]
  },
  {
   "cell_type": "code",
   "execution_count": 4,
   "id": "9004f91c-f159-4aaf-9249-8bc0a10be9d9",
   "metadata": {},
   "outputs": [],
   "source": [
    "# Armstrong sayısı: Her basamağının küplerinin toplamı kendisine eşit olan sayılar. \n",
    "# Örn: 153 → 1³+5³+3³ = 153"
   ]
  },
  {
   "cell_type": "code",
   "execution_count": 6,
   "id": "baf17da6-5484-4495-ae5b-b13c736bad68",
   "metadata": {},
   "outputs": [
    {
     "name": "stdout",
     "output_type": "stream",
     "text": [
      "True\n",
      "False\n"
     ]
    }
   ],
   "source": [
    "def armstrong_mi(sayi):\n",
    "    basamaklar = [int(d) for d in str(sayi)]\n",
    "    return sum(d**3 for d in basamaklar) == sayi\n",
    "\n",
    "print(armstrong_mi(153))  \n",
    "print(armstrong_mi(123))  \n"
   ]
  },
  {
   "cell_type": "code",
   "execution_count": 7,
   "id": "dfddeda3-827a-4ce0-b1ea-0fda48f196ff",
   "metadata": {},
   "outputs": [],
   "source": [
    "# Soru 3 – Kümeler"
   ]
  },
  {
   "cell_type": "code",
   "execution_count": 8,
   "id": "86c611a0-3065-4eac-a005-3d197ecbd783",
   "metadata": {},
   "outputs": [
    {
     "name": "stdout",
     "output_type": "stream",
     "text": [
      "Ortak: {'Python', 'SQL'}\n",
      "Sadece A: {'R', 'Java'}\n",
      "Birleşim: ['C++', 'Java', 'JavaScript', 'Python', 'R', 'SQL']\n"
     ]
    }
   ],
   "source": [
    "A = {\"Python\", \"R\", \"SQL\", \"Java\"}\n",
    "B = {\"C++\", \"Python\", \"JavaScript\", \"SQL\"}\n",
    "\n",
    "# Ortak diller\n",
    "print(\"Ortak:\", A & B)\n",
    "\n",
    "# Sadece A’da olanlar\n",
    "print(\"Sadece A:\", A - B)\n",
    "\n",
    "# Birleşim alfabetik\n",
    "print(\"Birleşim:\", sorted(A | B))\n"
   ]
  },
  {
   "cell_type": "code",
   "execution_count": 9,
   "id": "e8502d16-87af-42b1-bdf0-1c5416392802",
   "metadata": {},
   "outputs": [],
   "source": [
    "# Soru 4 – Modüller"
   ]
  },
  {
   "cell_type": "code",
   "execution_count": 10,
   "id": "66f7a2fe-8040-4a3e-a65e-c83cc576b0ef",
   "metadata": {},
   "outputs": [
    {
     "name": "stdout",
     "output_type": "stream",
     "text": [
      "Rastgele sayılar: [75, 56, 76, 67, 85, 40, 26, 65, 90, 14]\n",
      "Ortalama: 59.4 Standart sapma: 25.307881951852252\n"
     ]
    }
   ],
   "source": [
    "import random\n",
    "import statistics\n",
    "\n",
    "rastgele_sayilar = [random.randint(1, 100) for _ in range(10)]\n",
    "ortalama = statistics.mean(rastgele_sayilar)\n",
    "std_sapma = statistics.stdev(rastgele_sayilar)\n",
    "\n",
    "print(\"Rastgele sayılar:\", rastgele_sayilar)\n",
    "print(\"Ortalama:\", ortalama, \"Standart sapma:\", std_sapma)\n"
   ]
  },
  {
   "cell_type": "code",
   "execution_count": 11,
   "id": "7915b0c0-751b-48bc-a06c-4120c3832a04",
   "metadata": {},
   "outputs": [],
   "source": [
    "# Soru 5 – Fonksiyonlar"
   ]
  },
  {
   "cell_type": "code",
   "execution_count": 12,
   "id": "5985d430-36b3-4066-a876-126b080c00af",
   "metadata": {},
   "outputs": [
    {
     "name": "stdout",
     "output_type": "stream",
     "text": [
      "(7, 'yapıyoruz', 'veri')\n"
     ]
    }
   ],
   "source": [
    "from collections import Counter\n",
    "\n",
    "def kelime_sayaci(metin):\n",
    "    kelimeler = metin.split()\n",
    "    toplam = len(kelimeler)\n",
    "    en_uzun = max(kelimeler, key=len)\n",
    "    en_sik = Counter(kelimeler).most_common(1)[0][0]\n",
    "    return toplam, en_uzun, en_sik\n",
    "\n",
    "print(kelime_sayaci(\"Python veri bilimi ile veri analizi yapıyoruz\"))\n"
   ]
  },
  {
   "cell_type": "code",
   "execution_count": 13,
   "id": "767a09f1-6b38-4281-8f0a-49aaf1db0f07",
   "metadata": {},
   "outputs": [],
   "source": [
    "#Soru 6 – Gömülü Fonksiyonlar"
   ]
  },
  {
   "cell_type": "code",
   "execution_count": 14,
   "id": "1a874559-b674-428c-8a18-ce1dba6f5625",
   "metadata": {},
   "outputs": [
    {
     "name": "stdout",
     "output_type": "stream",
     "text": [
      "Çiftler: [12, 18, 24, 16]\n",
      "Kareler: [144, 324, 576, 256]\n",
      "Sıralı kareler: [576, 324, 256, 144]\n"
     ]
    }
   ],
   "source": [
    "sayilar = [5, 12, 7, 18, 24, 3, 16]\n",
    "\n",
    "ciftler = list(filter(lambda x: x % 2 == 0, sayilar))\n",
    "kareler = list(map(lambda x: x**2, ciftler))\n",
    "sirali_kareler = sorted(kareler, reverse=True)\n",
    "\n",
    "print(\"Çiftler:\", ciftler)\n",
    "print(\"Kareler:\", kareler)\n",
    "print(\"Sıralı kareler:\", sirali_kareler)\n"
   ]
  },
  {
   "cell_type": "code",
   "execution_count": 15,
   "id": "06000153-15cb-4851-bbe0-b1722730e9b1",
   "metadata": {},
   "outputs": [],
   "source": [
    "# Soru 7 – Lambda"
   ]
  },
  {
   "cell_type": "code",
   "execution_count": 16,
   "id": "9c13e11b-28a2-4ad3-a30f-e8305df0ea39",
   "metadata": {},
   "outputs": [
    {
     "name": "stdout",
     "output_type": "stream",
     "text": [
      "['veri', 'bilim', 'analiz', 'python', 'yapayzeka']\n"
     ]
    }
   ],
   "source": [
    "kelimeler = [\"veri\", \"bilim\", \"analiz\", \"yapayzeka\", \"python\"]\n",
    "sirali = sorted(kelimeler, key=lambda x: len(x))\n",
    "print(sirali)\n"
   ]
  },
  {
   "cell_type": "code",
   "execution_count": 17,
   "id": "32628772-b7ab-498c-8994-eec8d3185fc7",
   "metadata": {},
   "outputs": [],
   "source": [
    "# Soru 8 – Metodlar"
   ]
  },
  {
   "cell_type": "code",
   "execution_count": 18,
   "id": "14ccead9-7b9b-48e0-9089-6e3f0b819a2f",
   "metadata": {},
   "outputs": [
    {
     "name": "stdout",
     "output_type": "stream",
     "text": [
      "6\n"
     ]
    }
   ],
   "source": [
    "def rakam_toplami(metin):\n",
    "    return sum(int(c) for c in metin if c.isdigit())\n",
    "\n",
    "print(rakam_toplami(\"abc12def3\"))  # 1+2+3=6 değil, dikkat: iki basamaklılar için ayrı işleme gerek\n"
   ]
  },
  {
   "cell_type": "code",
   "execution_count": 19,
   "id": "36e79047-8c64-4530-a762-2900aa810b2c",
   "metadata": {},
   "outputs": [],
   "source": [
    "# Soru 9 ve 10 – Numpy (Opsiyonel)"
   ]
  },
  {
   "cell_type": "code",
   "execution_count": 20,
   "id": "95975396-827f-49aa-8ab6-f3a72da650b9",
   "metadata": {},
   "outputs": [
    {
     "name": "stdout",
     "output_type": "stream",
     "text": [
      "[29  5  4  4  9 38  5 37 36 46] 21.3 16.407620180879373 46\n",
      "Sütun ortalamaları: [0.48979044 0.686809   0.42912475 0.61537656 0.45381263]\n",
      "Binary matris:\n",
      " [[1 1 0 1 1]\n",
      " [1 1 1 1 0]\n",
      " [1 0 0 1 0]\n",
      " [0 1 0 0 0]\n",
      " [0 1 1 0 1]]\n"
     ]
    }
   ],
   "source": [
    "import numpy as np\n",
    "\n",
    "# Soru 9\n",
    "dizi = np.random.randint(0, 51, 10)\n",
    "print(dizi, dizi.mean(), dizi.std(), dizi.max())\n",
    "\n",
    "# Soru 10\n",
    "matris = np.random.rand(5,5)\n",
    "sutun_ort = matris.mean(axis=0)\n",
    "binary = (matris > 0.5).astype(int)\n",
    "print(\"Sütun ortalamaları:\", sutun_ort)\n",
    "print(\"Binary matris:\\n\", binary)\n"
   ]
  },
  {
   "cell_type": "code",
   "execution_count": 21,
   "id": "4e57d4dd-375a-45e7-844e-5676cb3b84ac",
   "metadata": {},
   "outputs": [],
   "source": [
    "# Proje – Kitap Satış Analiz Sistemi\n",
    "# 1️ Fonksiyonlar"
   ]
  },
  {
   "cell_type": "code",
   "execution_count": 22,
   "id": "973547e3-4fa3-4e72-8c47-737072f26ffd",
   "metadata": {},
   "outputs": [
    {
     "name": "stdout",
     "output_type": "stream",
     "text": [
      "{'isim': 'Makine Öğrenmesi', 'yazar': 'Can', 'tur': 'Bilim', 'satis': 1800, 'yil': 2022}\n",
      "{'Ali': 3400, 'Ayşe': 1550, 'Can': 1800, 'Deniz': 400}\n"
     ]
    }
   ],
   "source": [
    "kitaplar = [\n",
    "    {\"isim\": \"Veri Bilimi 101\", \"yazar\": \"Ali\", \"tur\": \"Bilim\", \"satis\": 1200, \"yil\": 2021},\n",
    "    {\"isim\": \"Python ile Yapay Zeka\", \"yazar\": \"Ayşe\", \"tur\": \"Bilim\", \"satis\": 950, \"yil\": 2020},\n",
    "    {\"isim\": \"İstatistik Temelleri\", \"yazar\": \"Ali\", \"tur\": \"Akademik\", \"satis\": 700, \"yil\": 2019},\n",
    "    {\"isim\": \"Makine Öğrenmesi\", \"yazar\": \"Can\", \"tur\": \"Bilim\", \"satis\": 1800, \"yil\": 2022},\n",
    "    {\"isim\": \"Veri Görselleştirme\", \"yazar\": \"Deniz\", \"tur\": \"Sanat\", \"satis\": 400, \"yil\": 2018},\n",
    "    {\"isim\": \"Matematiksel Modelleme\", \"yazar\": \"Ali\", \"tur\": \"Akademik\", \"satis\": 1500, \"yil\": 2021},\n",
    "    {\"isim\": \"Bilgi Toplumu\", \"yazar\": \"Ayşe\", \"tur\": \"Sosyal\", \"satis\": 600, \"yil\": 2022}\n",
    "]\n",
    "\n",
    "def en_cok_satan(kitaplar):\n",
    "    return max(kitaplar, key=lambda k: k['satis'])\n",
    "\n",
    "def yazar_satislari(kitaplar):\n",
    "    satis_dict = {}\n",
    "    for k in kitaplar:\n",
    "        satis_dict[k['yazar']] = satis_dict.get(k['yazar'], 0) + k['satis']\n",
    "    return satis_dict\n",
    "\n",
    "print(en_cok_satan(kitaplar))\n",
    "print(yazar_satislari(kitaplar))\n"
   ]
  },
  {
   "cell_type": "code",
   "execution_count": 23,
   "id": "ee2a5175-ebb9-4b5e-b01e-109c45780ad5",
   "metadata": {},
   "outputs": [],
   "source": [
    "# 2 Liste ve Küme İşlemleri"
   ]
  },
  {
   "cell_type": "code",
   "execution_count": 24,
   "id": "4120f7fa-f863-4ad2-b00e-e3b15b63da80",
   "metadata": {},
   "outputs": [
    {
     "name": "stdout",
     "output_type": "stream",
     "text": [
      "{'Akademik', 'Bilim', 'Sanat', 'Sosyal'}\n",
      "['Veri Bilimi 101', 'Makine Öğrenmesi', 'Matematiksel Modelleme']\n"
     ]
    }
   ],
   "source": [
    "turler = set(k['tur'] for k in kitaplar)\n",
    "fazla_satan = [k['isim'] for k in kitaplar if k['satis'] > 1000]\n",
    "\n",
    "print(turler)\n",
    "print(fazla_satan)\n"
   ]
  },
  {
   "cell_type": "code",
   "execution_count": 25,
   "id": "1ef81f50-45a1-4d17-bd08-f504caabea50",
   "metadata": {},
   "outputs": [],
   "source": [
    "# 3 Lambda / Map / Filter"
   ]
  },
  {
   "cell_type": "code",
   "execution_count": 26,
   "id": "f6620ef2-643b-4246-83c4-e96efb3ce040",
   "metadata": {},
   "outputs": [
    {
     "name": "stdout",
     "output_type": "stream",
     "text": [
      "[{'isim': 'Veri Bilimi 101', 'yazar': 'Ali', 'tur': 'Bilim', 'satis': 1200, 'yil': 2021}, {'isim': 'Makine Öğrenmesi', 'yazar': 'Can', 'tur': 'Bilim', 'satis': 1800, 'yil': 2022}, {'isim': 'Matematiksel Modelleme', 'yazar': 'Ali', 'tur': 'Akademik', 'satis': 1500, 'yil': 2021}, {'isim': 'Bilgi Toplumu', 'yazar': 'Ayşe', 'tur': 'Sosyal', 'satis': 600, 'yil': 2022}]\n",
      "[1320.0, 1045.0, 770.0000000000001, 1980.0000000000002, 440.00000000000006, 1650.0000000000002, 660.0]\n",
      "['Makine Öğrenmesi', 'Matematiksel Modelleme', 'Veri Bilimi 101', 'Python ile Yapay Zeka', 'İstatistik Temelleri', 'Bilgi Toplumu', 'Veri Görselleştirme']\n"
     ]
    }
   ],
   "source": [
    "kitap_2020_sonra = list(filter(lambda k: k['yil'] > 2020, kitaplar))\n",
    "satis_arti = list(map(lambda k: k['satis']*1.1, kitaplar))\n",
    "sirali_kitaplar = sorted(kitaplar, key=lambda k: k['satis'], reverse=True)\n",
    "\n",
    "print(kitap_2020_sonra)\n",
    "print(satis_arti)\n",
    "print([k['isim'] for k in sirali_kitaplar])\n"
   ]
  },
  {
   "cell_type": "code",
   "execution_count": 33,
   "id": "323d4dcf-dde7-49ad-af66-8f97c2616ef2",
   "metadata": {},
   "outputs": [
    {
     "name": "stdout",
     "output_type": "stream",
     "text": [
      "Train seti: ['Bilgi Toplumu', 'Veri Bilimi 101', 'İstatistik Temelleri', 'Veri Görselleştirme']\n",
      "Test seti: ['Python ile Yapay Zeka', 'Makine Öğrenmesi', 'Matematiksel Modelleme']\n",
      "Yazar ortalama satışları (train): {'Ayşe': 600.0, 'Ali': 950.0, 'Deniz': 400.0}\n",
      "Test setinde ortalamanın üzerinde satan kitaplar: ['Python ile Yapay Zeka', 'Makine Öğrenmesi', 'Matematiksel Modelleme']\n",
      "Train ortalama satış: 725\n",
      "Test ortalama satış: 1416.6666666666667\n"
     ]
    }
   ],
   "source": [
    "import random\n",
    "import statistics\n",
    "\n",
    "kitaplar = [\n",
    "    {\"isim\": \"Veri Bilimi 101\", \"yazar\": \"Ali\", \"tur\": \"Bilim\", \"satis\": 1200, \"yil\": 2021},\n",
    "    {\"isim\": \"Python ile Yapay Zeka\", \"yazar\": \"Ayşe\", \"tur\": \"Bilim\", \"satis\": 950, \"yil\": 2020},\n",
    "    {\"isim\": \"İstatistik Temelleri\", \"yazar\": \"Ali\", \"tur\": \"Akademik\", \"satis\": 700, \"yil\": 2019},\n",
    "    {\"isim\": \"Makine Öğrenmesi\", \"yazar\": \"Can\", \"tur\": \"Bilim\", \"satis\": 1800, \"yil\": 2022},\n",
    "    {\"isim\": \"Veri Görselleştirme\", \"yazar\": \"Deniz\", \"tur\": \"Sanat\", \"satis\": 400, \"yil\": 2018},\n",
    "    {\"isim\": \"Matematiksel Modelleme\", \"yazar\": \"Ali\", \"tur\": \"Akademik\", \"satis\": 1500, \"yil\": 2021},\n",
    "    {\"isim\": \"Bilgi Toplumu\", \"yazar\": \"Ayşe\", \"tur\": \"Sosyal\", \"satis\": 600, \"yil\": 2022}\n",
    "]\n",
    "\n",
    "# 1️ Train/Test ayırımı (%70 train, %30 test)\n",
    "train_size = int(len(kitaplar) * 0.7)\n",
    "train = random.sample(kitaplar, train_size)\n",
    "test = [k for k in kitaplar if k not in train]\n",
    "\n",
    "print(\"Train seti:\", [k['isim'] for k in train])\n",
    "print(\"Test seti:\", [k['isim'] for k in test])\n",
    "\n",
    "# 2️ Train setinden yazarların ortalama satışlarını hesapla\n",
    "yazar_satislari_train = {}\n",
    "for k in train:\n",
    "    yazar_satislari_train.setdefault(k['yazar'], []).append(k['satis'])\n",
    "\n",
    "yazar_ortalama_train = {yazar: sum(satislar)/len(satislar) \n",
    "                        for yazar, satislar in yazar_satislari_train.items()}\n",
    "\n",
    "print(\"Yazar ortalama satışları (train):\", yazar_ortalama_train)\n",
    "\n",
    "# 3️ Test setinde, satışları yazar ortalamasının üzerinde olan kitapları bul\n",
    "test_ustu_satislar = [k['isim'] for k in test \n",
    "                      if k['satis'] > yazar_ortalama_train.get(k['yazar'], 0)]\n",
    "\n",
    "print(\"Test setinde ortalamanın üzerinde satan kitaplar:\", test_ustu_satislar)\n",
    "\n",
    "# 4️ İstatistiksel özet (opsiyonel)\n",
    "train_satislar = [k['satis'] for k in train]\n",
    "test_satislar = [k['satis'] for k in test]\n",
    "\n",
    "print(\"Train ortalama satış:\", statistics.mean(train_satislar))\n",
    "print(\"Test ortalama satış:\", statistics.mean(test_satislar))\n"
   ]
  },
  {
   "cell_type": "code",
   "execution_count": null,
   "id": "28d7305a-632a-401b-a6d1-e8b142720f50",
   "metadata": {},
   "outputs": [],
   "source": []
  }
 ],
 "metadata": {
  "kernelspec": {
   "display_name": "Python [conda env:base] *",
   "language": "python",
   "name": "conda-base-py"
  },
  "language_info": {
   "codemirror_mode": {
    "name": "ipython",
    "version": 3
   },
   "file_extension": ".py",
   "mimetype": "text/x-python",
   "name": "python",
   "nbconvert_exporter": "python",
   "pygments_lexer": "ipython3",
   "version": "3.13.5"
  }
 },
 "nbformat": 4,
 "nbformat_minor": 5
}
