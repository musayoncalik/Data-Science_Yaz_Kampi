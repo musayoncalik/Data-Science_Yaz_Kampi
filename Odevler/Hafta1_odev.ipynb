{
 "cells": [
  {
   "cell_type": "code",
   "execution_count": 1,
   "id": "0ede12a7-1937-451c-9e58-b38bec773aa7",
   "metadata": {},
   "outputs": [],
   "source": [
    "# Bölüm 1: Veri Tipleri\n",
    "# 1. Kullanıcıdan ad, yaş ve boy alma"
   ]
  },
  {
   "cell_type": "code",
   "execution_count": 3,
   "id": "57b736c0-e689-416c-b646-27303fe1bc13",
   "metadata": {},
   "outputs": [
    {
     "name": "stdin",
     "output_type": "stream",
     "text": [
      "Adınızı giriniz:  Musa\n",
      "Yaşınızı giriniz:  25\n",
      "Boyunuzu giriniz (örn: 1.75):  180\n"
     ]
    },
    {
     "name": "stdout",
     "output_type": "stream",
     "text": [
      "Adınız: Musa\n",
      "Yaşınız: 25\n",
      "Boyunuz: 180.0\n"
     ]
    }
   ],
   "source": [
    "# Kullanıcıdan bilgiler alınıyor\n",
    "ad = input(\"Adınızı giriniz: \")\n",
    "yas = int(input(\"Yaşınızı giriniz: \"))\n",
    "boy = float(input(\"Boyunuzu giriniz (örn: 1.75): \"))\n",
    "\n",
    "# Ekrana yazdırma\n",
    "print(\"Adınız:\", ad)\n",
    "print(\"Yaşınız:\", yas)\n",
    "print(\"Boyunuz:\", boy)\n"
   ]
  },
  {
   "cell_type": "code",
   "execution_count": 4,
   "id": "75883cad-fbcf-417d-91aa-410e1d6e357c",
   "metadata": {},
   "outputs": [],
   "source": [
    "# 2. Öğrencinin not ortalamasını hesaplama"
   ]
  },
  {
   "cell_type": "code",
   "execution_count": 5,
   "id": "3aec1402-17cd-4e9e-b6d0-3a62895e82ae",
   "metadata": {},
   "outputs": [
    {
     "name": "stdin",
     "output_type": "stream",
     "text": [
      "Matematik notunu giriniz:  80\n",
      "Fizik notunu giriniz:  85\n",
      "Kimya notunu giriniz:  95\n"
     ]
    },
    {
     "name": "stdout",
     "output_type": "stream",
     "text": [
      "Ortalamanız: 86.66666666666667\n"
     ]
    }
   ],
   "source": [
    "matematik = int(input(\"Matematik notunu giriniz: \"))\n",
    "fizik = int(input(\"Fizik notunu giriniz: \"))\n",
    "kimya = int(input(\"Kimya notunu giriniz: \"))\n",
    "\n",
    "ortalama = (matematik + fizik + kimya) / 3\n",
    "print(\"Ortalamanız:\", ortalama)\n"
   ]
  },
  {
   "cell_type": "code",
   "execution_count": 6,
   "id": "567707ed-adb9-4982-b4e8-580501d5d2f5",
   "metadata": {},
   "outputs": [],
   "source": [
    "# 3. String işlemleri"
   ]
  },
  {
   "cell_type": "code",
   "execution_count": 7,
   "id": "ae53b203-f873-4784-9909-48ac0da162ec",
   "metadata": {},
   "outputs": [
    {
     "name": "stdout",
     "output_type": "stream",
     "text": [
      "İlk karakter: P\n",
      "Son karakter: n\n",
      "Uzunluğu: 6\n",
      "Ters çevrilmiş hali: nohtyP\n"
     ]
    }
   ],
   "source": [
    "metin = \"Python\"\n",
    "print(\"İlk karakter:\", metin[0])\n",
    "print(\"Son karakter:\", metin[-1])\n",
    "print(\"Uzunluğu:\", len(metin))\n",
    "print(\"Ters çevrilmiş hali:\", metin[::-1])\n"
   ]
  },
  {
   "cell_type": "code",
   "execution_count": 8,
   "id": "ce426bc8-8d59-4e0c-9fe6-0f740b751063",
   "metadata": {},
   "outputs": [],
   "source": [
    "# Bölüm 2: Operatörler\n",
    "# 4. İki sayı ile işlemler"
   ]
  },
  {
   "cell_type": "code",
   "execution_count": 9,
   "id": "7fbd96f3-38d1-490b-86ed-256f98106e16",
   "metadata": {},
   "outputs": [
    {
     "name": "stdin",
     "output_type": "stream",
     "text": [
      "Birinci sayıyı giriniz:  20\n",
      "İkinci sayıyı giriniz:  18\n"
     ]
    },
    {
     "name": "stdout",
     "output_type": "stream",
     "text": [
      "Toplam: 38.0\n",
      "Fark: 2.0\n",
      "Çarpım: 360.0\n",
      "Bölüm: 1.1111111111111112\n",
      "Mod: 2.0\n"
     ]
    }
   ],
   "source": [
    "sayi1 = float(input(\"Birinci sayıyı giriniz: \"))\n",
    "sayi2 = float(input(\"İkinci sayıyı giriniz: \"))\n",
    "\n",
    "print(\"Toplam:\", sayi1 + sayi2)\n",
    "print(\"Fark:\", sayi1 - sayi2)\n",
    "print(\"Çarpım:\", sayi1 * sayi2)\n",
    "print(\"Bölüm:\", sayi1 / sayi2)\n",
    "print(\"Mod:\", sayi1 % sayi2)\n"
   ]
  },
  {
   "cell_type": "code",
   "execution_count": 10,
   "id": "5cfef24e-4d6d-4dd5-82c1-3b04ddcec709",
   "metadata": {},
   "outputs": [],
   "source": [
    "# 5. Geçti/Kaldı kontrolü"
   ]
  },
  {
   "cell_type": "code",
   "execution_count": 11,
   "id": "b35354cd-b03f-4147-a94f-b791254ea977",
   "metadata": {},
   "outputs": [
    {
     "name": "stdin",
     "output_type": "stream",
     "text": [
      "Ortalamanızı giriniz:  45\n"
     ]
    },
    {
     "name": "stdout",
     "output_type": "stream",
     "text": [
      "Kaldı\n"
     ]
    }
   ],
   "source": [
    "ortalama = float(input(\"Ortalamanızı giriniz: \"))\n",
    "if ortalama > 50:\n",
    "    print(\"Geçti\")\n",
    "else:\n",
    "    print(\"Kaldı\")\n"
   ]
  },
  {
   "cell_type": "code",
   "execution_count": 12,
   "id": "b294a09e-fcac-4a89-bcaf-065e1dde25a1",
   "metadata": {},
   "outputs": [],
   "source": [
    "# 6. Ehliyet kontrolü"
   ]
  },
  {
   "cell_type": "code",
   "execution_count": 13,
   "id": "3039ec9c-c61f-489a-ab3b-1ffdf1b06c76",
   "metadata": {},
   "outputs": [
    {
     "name": "stdin",
     "output_type": "stream",
     "text": [
      "Yaşınızı giriniz:  16\n"
     ]
    },
    {
     "name": "stdout",
     "output_type": "stream",
     "text": [
      "Ehliyet alamazsınız\n"
     ]
    }
   ],
   "source": [
    "yas = int(input(\"Yaşınızı giriniz: \"))\n",
    "if yas > 18:\n",
    "    print(\"Ehliyet alabilirsiniz\")\n",
    "else:\n",
    "    print(\"Ehliyet alamazsınız\")\n"
   ]
  },
  {
   "cell_type": "code",
   "execution_count": 14,
   "id": "1d03c548-582e-4abf-9959-e6d35b4bd104",
   "metadata": {},
   "outputs": [],
   "source": [
    "# 7. İndirimli fiyat hesaplama"
   ]
  },
  {
   "cell_type": "code",
   "execution_count": 15,
   "id": "44ddb0f3-2510-490f-a50e-8ed3f573c9f0",
   "metadata": {},
   "outputs": [
    {
     "name": "stdin",
     "output_type": "stream",
     "text": [
      "Ürün fiyatını giriniz:  25\n",
      "İndirim oranını giriniz (% olarak):  3\n"
     ]
    },
    {
     "name": "stdout",
     "output_type": "stream",
     "text": [
      "İndirimli fiyat: 24.25\n"
     ]
    }
   ],
   "source": [
    "fiyat = float(input(\"Ürün fiyatını giriniz: \"))\n",
    "indirim = float(input(\"İndirim oranını giriniz (% olarak): \"))\n",
    "\n",
    "indirimli_fiyat = fiyat * (1 - indirim / 100)\n",
    "print(\"İndirimli fiyat:\", indirimli_fiyat)\n"
   ]
  },
  {
   "cell_type": "code",
   "execution_count": 16,
   "id": "a6aee6e9-4165-493d-bbdf-36256b22fe12",
   "metadata": {},
   "outputs": [],
   "source": [
    "# 8. Mantıksal operatörler"
   ]
  },
  {
   "cell_type": "code",
   "execution_count": 17,
   "id": "6984f027-c8b8-4f54-b553-23ede6d01097",
   "metadata": {},
   "outputs": [
    {
     "name": "stdout",
     "output_type": "stream",
     "text": [
      "a and b: False\n",
      "a or b: True\n",
      "not a: False\n"
     ]
    }
   ],
   "source": [
    "a = True\n",
    "b = False\n",
    "\n",
    "print(\"a and b:\", a and b)\n",
    "print(\"a or b:\", a or b)\n",
    "print(\"not a:\", not a)\n"
   ]
  },
  {
   "cell_type": "code",
   "execution_count": 18,
   "id": "400f1d97-cc95-4928-b2cf-90be88fbc706",
   "metadata": {},
   "outputs": [],
   "source": [
    "# Bölüm 3: Mini Proje\n",
    "# 9. Alışveriş sepeti"
   ]
  },
  {
   "cell_type": "code",
   "execution_count": 19,
   "id": "12081442-53ce-4d8e-8485-3eebecaa420d",
   "metadata": {},
   "outputs": [
    {
     "name": "stdin",
     "output_type": "stream",
     "text": [
      "1. ürün fiyatı:  20\n",
      "2. ürün fiyatı:  25\n",
      "3. ürün fiyatı:  30\n"
     ]
    },
    {
     "name": "stdout",
     "output_type": "stream",
     "text": [
      "Son toplam fiyat: 75.0\n"
     ]
    }
   ],
   "source": [
    "urun1 = float(input(\"1. ürün fiyatı: \"))\n",
    "urun2 = float(input(\"2. ürün fiyatı: \"))\n",
    "urun3 = float(input(\"3. ürün fiyatı: \"))\n",
    "\n",
    "toplam = urun1 + urun2 + urun3\n",
    "\n",
    "if toplam > 200:\n",
    "    toplam = toplam * 0.9  # %10 indirim\n",
    "\n",
    "print(\"Son toplam fiyat:\", toplam)\n"
   ]
  },
  {
   "cell_type": "code",
   "execution_count": 20,
   "id": "ab72427d-9526-4542-9fc5-add4c4bf4dbf",
   "metadata": {},
   "outputs": [],
   "source": [
    "# 10. Yaş ve kategori"
   ]
  },
  {
   "cell_type": "code",
   "execution_count": 21,
   "id": "bf590bc2-ff78-4b3b-8750-5ea078e3190a",
   "metadata": {},
   "outputs": [
    {
     "name": "stdin",
     "output_type": "stream",
     "text": [
      "Doğum yılınızı giriniz:  2000\n"
     ]
    },
    {
     "name": "stdout",
     "output_type": "stream",
     "text": [
      "Yetişkinsiniz\n"
     ]
    }
   ],
   "source": [
    "dogum_yili = int(input(\"Doğum yılınızı giriniz: \"))\n",
    "gunel_yil = 2025  # Güncel yıl\n",
    "yas = gunel_yil - dogum_yili\n",
    "\n",
    "if yas <= 12:\n",
    "    print(\"Çocuksunuz\")\n",
    "elif yas <= 17:\n",
    "    print(\"Ergensiniz\")\n",
    "else:\n",
    "    print(\"Yetişkinsiniz\")\n"
   ]
  },
  {
   "cell_type": "code",
   "execution_count": null,
   "id": "9c9b9d36-e80b-436d-a6fb-f6dcc6d486d3",
   "metadata": {},
   "outputs": [],
   "source": []
  }
 ],
 "metadata": {
  "kernelspec": {
   "display_name": "Python [conda env:base] *",
   "language": "python",
   "name": "conda-base-py"
  },
  "language_info": {
   "codemirror_mode": {
    "name": "ipython",
    "version": 3
   },
   "file_extension": ".py",
   "mimetype": "text/x-python",
   "name": "python",
   "nbconvert_exporter": "python",
   "pygments_lexer": "ipython3",
   "version": "3.13.5"
  }
 },
 "nbformat": 4,
 "nbformat_minor": 5
}
