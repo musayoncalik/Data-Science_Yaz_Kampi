{
 "cells": [
  {
   "cell_type": "code",
   "execution_count": 1,
   "id": "f5a0865d-bd8f-46cc-a878-a1aeda725d2e",
   "metadata": {},
   "outputs": [],
   "source": [
    "# Soru 1 – Sayı Analizi"
   ]
  },
  {
   "cell_type": "code",
   "execution_count": 3,
   "id": "cc1629c5-0341-4801-b6ee-57354e86818c",
   "metadata": {},
   "outputs": [
    {
     "name": "stdin",
     "output_type": "stream",
     "text": [
      "Bir sayı giriniz:  20\n"
     ]
    },
    {
     "name": "stdout",
     "output_type": "stream",
     "text": [
      "Pozitif Çift\n"
     ]
    }
   ],
   "source": [
    "sayi = int(input(\"Bir sayı giriniz: \"))\n",
    "\n",
    "if sayi > 0:\n",
    "    durum = \"Pozitif\"\n",
    "elif sayi < 0:\n",
    "    durum = \"Negatif\"\n",
    "else:\n",
    "    durum = \"Sıfır\"\n",
    "\n",
    "if sayi % 2 == 0:\n",
    "    tekcift = \"Çift\"\n",
    "else:\n",
    "    tekcift = \"Tek\"\n",
    "\n",
    "print(durum, tekcift)\n"
   ]
  },
  {
   "cell_type": "code",
   "execution_count": 4,
   "id": "aed9c2a2-fd3e-440a-be82-8987fff7072e",
   "metadata": {},
   "outputs": [],
   "source": [
    "# Soru 2 – Harf Frekansı"
   ]
  },
  {
   "cell_type": "code",
   "execution_count": 6,
   "id": "e48e3ba0-0669-41ec-b5af-363334213c86",
   "metadata": {},
   "outputs": [
    {
     "name": "stdin",
     "output_type": "stream",
     "text": [
      "Bir kelime giriniz:  kelimeler\n"
     ]
    },
    {
     "name": "stdout",
     "output_type": "stream",
     "text": [
      "{'k': 1, 'e': 3, 'l': 2, 'i': 1, 'm': 1, 'r': 1}\n"
     ]
    }
   ],
   "source": [
    "kelime = input(\"Bir kelime giriniz: \")\n",
    "frekans = {}\n",
    "\n",
    "for harf in kelime:\n",
    "    if harf in frekans:\n",
    "        frekans[harf] += 1\n",
    "    else:\n",
    "        frekans[harf] = 1\n",
    "\n",
    "print(frekans)\n"
   ]
  },
  {
   "cell_type": "code",
   "execution_count": 7,
   "id": "1c157a61-bda5-40be-b825-46d1744081d9",
   "metadata": {},
   "outputs": [],
   "source": [
    "# Soru 3 – Şifre Kontrolü"
   ]
  },
  {
   "cell_type": "code",
   "execution_count": 11,
   "id": "b16e792c-4c9a-4018-b01e-51f2d0adf6a7",
   "metadata": {},
   "outputs": [
    {
     "name": "stdin",
     "output_type": "stream",
     "text": [
      "Şifrenizi girin:  A1234567\n"
     ]
    },
    {
     "name": "stdout",
     "output_type": "stream",
     "text": [
      "Şifre geçerli \n"
     ]
    }
   ],
   "source": [
    "sifre = input(\"Şifrenizi girin: \")\n",
    "\n",
    "if len(sifre) >= 8 and any(ch.isupper() for ch in sifre) and any(ch.isdigit() for ch in sifre):\n",
    "    print(\"Şifre geçerli \")\n",
    "else:\n",
    "    print(\"Şifre geçersiz \")\n"
   ]
  },
  {
   "cell_type": "code",
   "execution_count": 12,
   "id": "20914519-83af-443c-9de8-a71b980bda40",
   "metadata": {},
   "outputs": [],
   "source": [
    "# Soru 4 – Liste İşlemleri"
   ]
  },
  {
   "cell_type": "code",
   "execution_count": 14,
   "id": "72baa3a2-ef92-4ea4-9e9a-af156d936b08",
   "metadata": {},
   "outputs": [
    {
     "name": "stdout",
     "output_type": "stream",
     "text": [
      "Ortalama: 15.0\n",
      "Ortalamadan büyük sayılar: [25, 30, 18]\n"
     ]
    }
   ],
   "source": [
    "sayilar = [12, 4, 9, 25, 30, 7, 18]\n",
    "ortalama = sum(sayilar) / len(sayilar)\n",
    "buyukler = [s for s in sayilar if s > ortalama]\n",
    "\n",
    "print(\"Ortalama:\", ortalama)\n",
    "print(\"Ortalamadan büyük sayılar:\", buyukler)\n"
   ]
  },
  {
   "cell_type": "code",
   "execution_count": 15,
   "id": "c3ec2341-5550-4645-a1d5-ded08eb43da6",
   "metadata": {},
   "outputs": [],
   "source": [
    "# Soru 5 – Nested Loop (Desen)"
   ]
  },
  {
   "cell_type": "code",
   "execution_count": 18,
   "id": "52ee2aab-7aa5-48d5-907e-c00982430f33",
   "metadata": {},
   "outputs": [
    {
     "name": "stdout",
     "output_type": "stream",
     "text": [
      "*\n",
      "**\n",
      "***\n",
      "****\n",
      "*****\n"
     ]
    }
   ],
   "source": [
    "for i in range(1, 6):\n",
    "    print(\"*\" * i)\n"
   ]
  },
  {
   "cell_type": "code",
   "execution_count": 19,
   "id": "2139d705-e780-4d7b-8f6f-5818607425f8",
   "metadata": {},
   "outputs": [],
   "source": [
    "# Soru 6 – While Döngüsü"
   ]
  },
  {
   "cell_type": "code",
   "execution_count": 21,
   "id": "7a0c0aed-9a95-46b5-9276-6caaf293102b",
   "metadata": {},
   "outputs": [
    {
     "name": "stdin",
     "output_type": "stream",
     "text": [
      "Sayı gir (0 çıkış):  5\n",
      "Sayı gir (0 çıkış):  0\n"
     ]
    },
    {
     "name": "stdout",
     "output_type": "stream",
     "text": [
      "Toplam: 5\n",
      "Ortalama: 5.0\n"
     ]
    }
   ],
   "source": [
    "toplam = 0\n",
    "adet = 0\n",
    "\n",
    "while True:\n",
    "    sayi = int(input(\"Sayı gir (0 çıkış): \"))\n",
    "    if sayi == 0:\n",
    "        break\n",
    "    toplam += sayi\n",
    "    adet += 1\n",
    "\n",
    "if adet > 0:\n",
    "    print(\"Toplam:\", toplam)\n",
    "    print(\"Ortalama:\", toplam / adet)\n",
    "else:\n",
    "    print(\"Hiç sayı girilmedi.\")\n"
   ]
  },
  {
   "cell_type": "code",
   "execution_count": 22,
   "id": "62457f97-afe6-4d3c-a88a-7c565a1224e5",
   "metadata": {},
   "outputs": [],
   "source": [
    "#Soru 7 – Palindrom Kontrolü"
   ]
  },
  {
   "cell_type": "code",
   "execution_count": 24,
   "id": "abff6945-51f8-4ab9-91d4-2e6b94a4e548",
   "metadata": {},
   "outputs": [
    {
     "name": "stdin",
     "output_type": "stream",
     "text": [
      "Kelime giriniz:  kayak\n"
     ]
    },
    {
     "name": "stdout",
     "output_type": "stream",
     "text": [
      "Palindrom \n"
     ]
    }
   ],
   "source": [
    "kelime = input(\"Kelime giriniz: \")\n",
    "\n",
    "temiz_kelime = kelime.lower().replace(\" \", \"\")\n",
    "\n",
    "if temiz_kelime == temiz_kelime[::-1]:\n",
    "    print(\"Palindrom \")\n",
    "else:\n",
    "    print(\"Değil \")\n"
   ]
  },
  {
   "cell_type": "code",
   "execution_count": null,
   "id": "f19e3733-95ab-4bb9-ad62-f83aef17efa4",
   "metadata": {},
   "outputs": [],
   "source": [
    "# Soru 8 – List Comprehension"
   ]
  },
  {
   "cell_type": "code",
   "execution_count": 25,
   "id": "d0a7028e-dbcd-4631-8ccc-6c487c1ebe9f",
   "metadata": {},
   "outputs": [
    {
     "name": "stdout",
     "output_type": "stream",
     "text": [
      "[225, 900, 2025, 3600, 5625, 8100]\n"
     ]
    }
   ],
   "source": [
    "liste = [x**2 for x in range(1, 101) if x % 3 == 0 and x % 5 == 0]\n",
    "print(liste)\n"
   ]
  },
  {
   "cell_type": "code",
   "execution_count": 26,
   "id": "f335727b-879d-4b1c-8a77-6758a244d10f",
   "metadata": {},
   "outputs": [],
   "source": [
    "# Soru 9 – String İşlemleri"
   ]
  },
  {
   "cell_type": "code",
   "execution_count": 27,
   "id": "a3d57eca-946f-4db6-9554-cb55bb2bd312",
   "metadata": {},
   "outputs": [
    {
     "name": "stdin",
     "output_type": "stream",
     "text": [
      "Bir cümle giriniz:  bugün hava çok sıcak\n"
     ]
    },
    {
     "name": "stdout",
     "output_type": "stream",
     "text": [
      "Bugün Hava Çok Sıcak\n"
     ]
    }
   ],
   "source": [
    "cumle = input(\"Bir cümle giriniz: \")\n",
    "kelimeler = cumle.split()\n",
    "yeni = \" \".join([k.capitalize() for k in kelimeler\n",
    "                \n",
    "print(yeni)\n"
   ]
  },
  {
   "cell_type": "code",
   "execution_count": null,
   "id": "52144b1d-3ec6-4960-aae2-0e80d7ab32d4",
   "metadata": {},
   "outputs": [],
   "source": [
    "# Mini Proje – Film Yorumu Analizi"
   ]
  },
  {
   "cell_type": "code",
   "execution_count": 28,
   "id": "d18e62b5-8982-40de-ac3a-b855fe361c24",
   "metadata": {},
   "outputs": [
    {
     "name": "stdin",
     "output_type": "stream",
     "text": [
      "1. yorumu gir:  Gayet yerinde , bi karar bence\n",
      "2. yorumu gir:  yeterli\n",
      "3. yorumu gir:  kötü\n",
      "4. yorumu gir:  hep iyi ollacak diye bi kural yok\n",
      "5. yorumu gir:  teslimat hızlı\n"
     ]
    },
    {
     "name": "stdout",
     "output_type": "stream",
     "text": [
      "Toplam yorum sayısı: 5\n",
      "\"iyi\" geçen yorum sayısı: 1\n",
      "En uzun yorum: hep iyi ollacak diye bi kural yok\n",
      "En kısa yorum: kötü\n",
      "Ortalama uzunluk: 17.6\n"
     ]
    }
   ],
   "source": [
    "yorumlar = []\n",
    "for i in range(5):   # 5 yorum isteyelim\n",
    "    yorum = input(f\"{i+1}. yorumu gir: \")\n",
    "    yorumlar.append(yorum)\n",
    "\n",
    "uzunluklar = [len(y) for y in yorumlar]\n",
    "iyi_sayisi = sum([\"iyi\" in y.lower() for y in yorumlar])\n",
    "en_uzun = max(yorumlar, key=len)\n",
    "en_kisa = min(yorumlar, key=len)\n",
    "ortalama = sum(uzunluklar) / len(yorumlar)\n",
    "\n",
    "print(\"Toplam yorum sayısı:\", len(yorumlar))\n",
    "print('\"iyi\" geçen yorum sayısı:', iyi_sayisi)\n",
    "print(\"En uzun yorum:\", en_uzun)\n",
    "print(\"En kısa yorum:\", en_kisa)\n",
    "print(\"Ortalama uzunluk:\", ortalama)\n"
   ]
  }
 ],
 "metadata": {
  "kernelspec": {
   "display_name": "Python [conda env:base] *",
   "language": "python",
   "name": "conda-base-py"
  },
  "language_info": {
   "codemirror_mode": {
    "name": "ipython",
    "version": 3
   },
   "file_extension": ".py",
   "mimetype": "text/x-python",
   "name": "python",
   "nbconvert_exporter": "python",
   "pygments_lexer": "ipython3",
   "version": "3.13.5"
  }
 },
 "nbformat": 4,
 "nbformat_minor": 5
}
