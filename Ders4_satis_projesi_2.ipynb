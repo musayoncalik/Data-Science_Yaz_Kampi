{
 "cells": [
  {
   "cell_type": "code",
   "execution_count": 103,
   "id": "e9a655eb-baa5-4225-ba02-af7ca664226e",
   "metadata": {},
   "outputs": [],
   "source": [
    "# =====================================================\n",
    "# 1. KÜTÜPHANELER\n",
    "# =====================================================\n",
    "import matplotlib.pyplot as plt"
   ]
  },
  {
   "cell_type": "code",
   "execution_count": 104,
   "id": "49546fc6-7487-4e14-afd4-880e1630a846",
   "metadata": {},
   "outputs": [],
   "source": [
    "# =====================================================\n",
    "# 2. ÜRÜN BİLGİSİ GİRİŞİ\n",
    "# =====================================================\n",
    "def meyve_bilgisi_al(sira_no):\n",
    "    ad = input(f\"{sira_no}. meyvenin adını giriniz: \").lower()\n",
    "    birim_fiyati = int(input(f\"{sira_no}. meyvenin birim fiyatını giriniz: \"))\n",
    "    kilogram = int(input(f\"{sira_no}. meyvenin kilogramını giriniz: \"))\n",
    "    return {'ad': ad, 'birim_fiyati': birim_fiyati, 'kilogram': kilogram}"
   ]
  },
  {
   "cell_type": "code",
   "execution_count": 105,
   "id": "6de440e9-28a8-46fc-afd2-db6a05e9b582",
   "metadata": {},
   "outputs": [],
   "source": [
    "# =====================================================\n",
    "# 4. TOPLAM HESAPLAMA (KDV'siz ve KDV'li)\n",
    "# =====================================================\n",
    "def toplam_hesapla(meyve_listesi):\n",
    "    kdv_siz_genel_toplam = 0\n",
    "    kdv_li_genel_toplam = 0\n",
    "\n",
    "    for meyve in meyve_listesi:\n",
    "        kdv_siz_toplam = meyve['birim_fiyati'] * meyve['kilogram']\n",
    "        kdv_li_toplam = round(kdv_siz_toplam * 1.2, 2)\n",
    "\n",
    "        meyve['kdv_siz_toplam'] = kdv_siz_toplam\n",
    "        meyve['kdv_li_toplam'] = kdv_li_toplam\n",
    "\n",
    "        kdv_siz_genel_toplam += kdv_siz_toplam\n",
    "        kdv_li_genel_toplam += kdv_li_toplam\n",
    "\n",
    "    return kdv_siz_genel_toplam, kdv_li_genel_toplam\n"
   ]
  },
  {
   "cell_type": "code",
   "execution_count": 106,
   "id": "3575db96-782a-4cec-82ba-7f303c986373",
   "metadata": {},
   "outputs": [],
   "source": [
    "# =====================================================\n",
    "# 3. TOPLAM HESAPLAMA (KDV'siz ve KDV'li)\n",
    "# =====================================================\n",
    "def toplam_hesapla(meyve_listesi):\n",
    "    print(\"\\n------------ Genel Hesap -----------\")\n",
    "    kdv_siz_genel_toplam = 0\n",
    "    kdv_li_genel_toplam = 0\n",
    "\n",
    "    for meyve in meyve_listesi:\n",
    "        kdv_siz_toplam = meyve['birim_fiyati'] * meyve['kilogram']\n",
    "        kdv_li_toplam = round(kdv_siz_toplam * 1.2, 2)  # %20 KDV\n",
    "        meyve['kdv_siz_toplam'] = kdv_siz_toplam\n",
    "        meyve['kdv_li_toplam'] = kdv_li_toplam\n",
    "\n",
    "        kdv_siz_genel_toplam += kdv_siz_toplam\n",
    "        kdv_li_genel_toplam += kdv_li_toplam\n",
    "\n",
    "    \n",
    "    # meyveleri_listele(meyve_listesi)\n",
    "\n",
    "    return kdv_siz_genel_toplam, kdv_li_genel_toplam\n"
   ]
  },
  {
   "cell_type": "code",
   "execution_count": 107,
   "id": "aea9dc09-523e-4e29-b553-4651e9764a91",
   "metadata": {},
   "outputs": [],
   "source": [
    "# =====================================================\n",
    "# 4. İSTATİSTİKSEL ANALİZ\n",
    "# =====================================================\n",
    "def istatistik_analiz(meyve_listesi):\n",
    "    print(\"\\n------------ İstatistiksel Analiz -----------\")\n",
    "\n",
    "    # En pahalı ürün (KDV'li tutara göre)\n",
    "    en_pahali = max(meyve_listesi, key=lambda x: x['kdv_li_toplam'])\n",
    "    print(f\"En pahalı ürün: {en_pahali['ad']} ({en_pahali['kdv_li_toplam']} ₺)\")\n",
    "\n",
    "    # En ucuz ürün (KDV'li tutara göre)\n",
    "    en_ucuz = min(meyve_listesi, key=lambda x: x['kdv_li_toplam'])\n",
    "    print(f\"En ucuz ürün: {en_ucuz['ad']} ({en_ucuz['kdv_li_toplam']} ₺)\")\n",
    "\n",
    "    # Ortalama ürün tutarı\n",
    "    ortalama = round(sum(m['kdv_li_toplam'] for m in meyve_listesi) / len(meyve_listesi), 2)\n",
    "    print(f\"Ortalama ürün tutarı: {ortalama} ₺\")\n",
    "\n",
    "    # Toplam kilogram\n",
    "    toplam_kg = sum(m['kilogram'] for m in meyve_listesi)\n",
    "    print(f\"Toplam alınacak meyve miktarı: {toplam_kg} Kg\")\n",
    "\n",
    "    # Fiyata göre sıralama (azalan)\n",
    "    sirali = sorted(meyve_listesi, key=lambda x: x['kdv_li_toplam'], reverse=True)\n",
    "    print(\"\\n--- Fiyata Göre Azalan Sıralama ---\")\n",
    "    for m in sirali:\n",
    "        print(f\"{m['ad']} → {m['kdv_li_toplam']} ₺\")"
   ]
  },
  {
   "cell_type": "code",
   "execution_count": 108,
   "id": "0043deeb-a3a3-44c0-a923-f7e3230d2df9",
   "metadata": {},
   "outputs": [],
   "source": [
    "# =====================================================\n",
    "# 6. GRAFİKLE RAPORLAMA\n",
    "# =====================================================\n",
    "def grafik_raporla(meyve_listesi):\n",
    "    adlar = [m['ad'] for m in meyve_listesi]\n",
    "    kdvli_tutarlar = [m['kdv_li_toplam'] for m in meyve_listesi]\n",
    "\n",
    "    # Çubuk grafik\n",
    "    plt.bar(adlar, kdvli_tutarlar, color='skyblue')\n",
    "    plt.title(\"Meyvelerin KDV'li Tutarları\")\n",
    "    plt.ylabel(\"₺\")\n",
    "    plt.show()\n",
    "\n",
    "    # Pasta grafik\n",
    "    plt.pie(kdvli_tutarlar, labels=adlar, autopct=\"%1.1f%%\")\n",
    "    plt.title(\"Meyvelerin KDV'li Dağılımı\")\n",
    "    plt.show()"
   ]
  },
  {
   "cell_type": "code",
   "execution_count": 109,
   "id": "61e2f7a6-31e5-4f90-b7cb-2d43f4d39b62",
   "metadata": {},
   "outputs": [],
   "source": [
    "# =====================================================\n",
    "# 7. STOK SİSTEMİ\n",
    "# =====================================================\n",
    "stok = {\n",
    "    \"elma\": 50,\n",
    "    \"muz\": 40,\n",
    "    \"karpuz\": 20,\n",
    "    \"şeftali\": 30\n",
    "}\n",
    "\n",
    "def stok_goster():\n",
    "    print(\"\\n--- Stok Durumu ---\")\n",
    "    for urun, miktar in stok.items():\n",
    "        print(f\"{urun.capitalize()} : {miktar} Kg\")\n",
    "\n",
    "def stok_guncelle(meyve_listesi):\n",
    "    for meyve in meyve_listesi:\n",
    "        if meyve['ad'] in stok:\n",
    "            stok[meyve['ad']] -= meyve['kilogram']"
   ]
  },
  {
   "cell_type": "code",
   "execution_count": null,
   "id": "544c38da-8351-4338-bd2e-79c92b603671",
   "metadata": {},
   "outputs": [
    {
     "name": "stdout",
     "output_type": "stream",
     "text": [
      "\n",
      "===== MENÜ =====\n",
      "1. Yeni satış yap\n",
      "2. Satış raporu göster\n",
      "3. Grafikle raporla\n",
      "4. Stok durumunu göster\n",
      "5. Çıkış\n"
     ]
    },
    {
     "name": "stdin",
     "output_type": "stream",
     "text": [
      "Seçiminiz:  0\n"
     ]
    },
    {
     "name": "stdout",
     "output_type": "stream",
     "text": [
      "Geçersiz seçim!\n",
      "\n",
      "===== MENÜ =====\n",
      "1. Yeni satış yap\n",
      "2. Satış raporu göster\n",
      "3. Grafikle raporla\n",
      "4. Stok durumunu göster\n",
      "5. Çıkış\n"
     ]
    },
    {
     "name": "stdin",
     "output_type": "stream",
     "text": [
      "Seçiminiz:  ali\n"
     ]
    },
    {
     "name": "stdout",
     "output_type": "stream",
     "text": [
      "Geçersiz seçim!\n",
      "\n",
      "===== MENÜ =====\n",
      "1. Yeni satış yap\n",
      "2. Satış raporu göster\n",
      "3. Grafikle raporla\n",
      "4. Stok durumunu göster\n",
      "5. Çıkış\n"
     ]
    }
   ],
   "source": [
    "# =====================================================\n",
    "# 8. ANA MENÜ SİSTEMİ (TRY-EXCEPT ile güvenli giriş)\n",
    "# =====================================================\n",
    "meyveler = []\n",
    "\n",
    "while True:\n",
    "    print(\"\\n===== MENÜ =====\")\n",
    "    print(\"1. Yeni satış yap\")\n",
    "    print(\"2. Satış raporu göster\")\n",
    "    print(\"3. Grafikle raporla\")\n",
    "    print(\"4. Stok durumunu göster\")\n",
    "    print(\"5. Çıkış\")\n",
    "\n",
    "    secim = input(\"Seçiminiz: \")\n",
    "\n",
    "    if secim == \"1\":\n",
    "        # Güvenli sayı girişi\n",
    "        while True:\n",
    "            try:\n",
    "                adet = int(input(\"Kaç adet meyve girmek istersiniz: \"))\n",
    "                if adet <= 0:\n",
    "                    print(\"Lütfen 1 veya daha fazla sayı giriniz!\")\n",
    "                    continue\n",
    "                break\n",
    "            except ValueError:\n",
    "                print(\" Geçersiz giriş! Lütfen sayı giriniz.\")\n",
    "\n",
    "        meyveler = []\n",
    "        for i in range(1, adet + 1):\n",
    "            meyve = meyve_bilgisi_al(i)\n",
    "            # stok kontrolü\n",
    "            if meyve['ad'] in stok and stok[meyve['ad']] >= meyve['kilogram']:\n",
    "                meyveler.append(meyve)\n",
    "            else:\n",
    "                print(f\" {meyve['ad']} için yeterli stok yok!\")\n",
    "        toplam_hesapla(meyveler)\n",
    "        stok_guncelle(meyveler)\n",
    "\n",
    "    elif secim == \"2\":\n",
    "        if meyveler:\n",
    "            meyveleri_listele(meyveler)\n",
    "            istatistik_analiz(meyveler)\n",
    "        else:\n",
    "            print(\"Henüz satış yapılmadı!\")\n",
    "\n",
    "    elif secim == \"3\":\n",
    "        if meyveler:\n",
    "            grafik_raporla(meyveler)\n",
    "        else:\n",
    "            print(\"Henüz satış yapılmadı!\")\n",
    "\n",
    "    elif secim == \"4\":\n",
    "        stok_goster()\n",
    "\n",
    "    elif secim == \"5\":\n",
    "        print(\"Program sonlandırılıyor...\")\n",
    "        break\n",
    "\n",
    "    else:\n",
    "        print(\"Geçersiz seçim!\")\n"
   ]
  },
  {
   "cell_type": "code",
   "execution_count": null,
   "id": "20d4dee2-128f-4f9d-bc16-03d99c3cb404",
   "metadata": {},
   "outputs": [],
   "source": []
  }
 ],
 "metadata": {
  "kernelspec": {
   "display_name": "Python [conda env:base] *",
   "language": "python",
   "name": "conda-base-py"
  },
  "language_info": {
   "codemirror_mode": {
    "name": "ipython",
    "version": 3
   },
   "file_extension": ".py",
   "mimetype": "text/x-python",
   "name": "python",
   "nbconvert_exporter": "python",
   "pygments_lexer": "ipython3",
   "version": "3.13.5"
  }
 },
 "nbformat": 4,
 "nbformat_minor": 5
}
