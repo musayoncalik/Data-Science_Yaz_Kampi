{
 "cells": [
  {
   "cell_type": "code",
   "execution_count": 8,
   "id": "1223916d-d377-43e1-8165-15885021060b",
   "metadata": {},
   "outputs": [],
   "source": [
    "import numpy as np\n",
    "import time"
   ]
  },
  {
   "cell_type": "code",
   "execution_count": 3,
   "id": "21422dbd-9cf1-4bd9-a115-2bb132e7091f",
   "metadata": {},
   "outputs": [],
   "source": [
    "# A = 0 ... 1 000 000 000 \n",
    "# B = 0 ... 1 000 000 000\n",
    "# C = 0 2 4 ... 2 000 000 000"
   ]
  },
  {
   "cell_type": "code",
   "execution_count": 8,
   "id": "488ef920-3512-4c12-b310-c03b25665c91",
   "metadata": {},
   "outputs": [
    {
     "name": "stdout",
     "output_type": "stream",
     "text": [
      "Python versiyonu çalışma süresi: 0.9402 saniye\n"
     ]
    }
   ],
   "source": [
    "\n",
    "\n",
    "N = 10_000_000  # 10 milyon\n",
    "\n",
    "def python_version():\n",
    "    start_time = time.time()\n",
    "    A = list(range(N))\n",
    "    B = list(range(N))\n",
    "    C = [A[i] + B[i] for i in range(len(A))]\n",
    "    end_time = time.time()\n",
    "    sure = end_time - start_time\n",
    "    print(f'Python versiyonu çalışma süresi: {sure:.4f} saniye')\n",
    "\n",
    "python_version()\n"
   ]
  },
  {
   "cell_type": "code",
   "execution_count": 16,
   "id": "92dac89a-b8b5-4180-8543-8720d9e74009",
   "metadata": {},
   "outputs": [
    {
     "name": "stdout",
     "output_type": "stream",
     "text": [
      "NumPy versiyonu çalışma süresi: 0.0506 saniye\n"
     ]
    }
   ],
   "source": [
    "N = 10_000_000  # test için makul bir boyut\n",
    "\n",
    "def numpy_version():\n",
    "    start_time = time.time()\n",
    "    A = np.arange(N)\n",
    "    B = np.arange(N)\n",
    "    C = A + B\n",
    "    end_time = time.time()\n",
    "    sure = end_time - start_time\n",
    "    print(f'NumPy versiyonu çalışma süresi: {sure:.4f} saniye')\n",
    "\n",
    "numpy_version()\n"
   ]
  },
  {
   "cell_type": "code",
   "execution_count": 14,
   "id": "95a2ee4e-e579-4c3a-b879-36e4a1e14960",
   "metadata": {},
   "outputs": [
    {
     "name": "stdout",
     "output_type": "stream",
     "text": [
      "Python versiyonu çalışma süresi: 0.8634 saniye\n",
      "NumPy versiyonu çalışma süresi: 0.0438 saniye\n"
     ]
    }
   ],
   "source": [
    "python_version()\n",
    "numpy_version()"
   ]
  },
  {
   "cell_type": "code",
   "execution_count": 17,
   "id": "2f3c3325-9362-4a7d-bbc2-6b8e72af8569",
   "metadata": {},
   "outputs": [],
   "source": [
    "list1 = [1,2,3,4,5,6,7]\n",
    "arr1 = np.array(list1)"
   ]
  },
  {
   "cell_type": "code",
   "execution_count": 18,
   "id": "12a52c00-9f85-410c-9ca4-59ffc99533a9",
   "metadata": {},
   "outputs": [
    {
     "data": {
      "text/plain": [
       "array([1, 2, 3, 4, 5, 6, 7])"
      ]
     },
     "execution_count": 18,
     "metadata": {},
     "output_type": "execute_result"
    }
   ],
   "source": [
    "arr1"
   ]
  },
  {
   "cell_type": "code",
   "execution_count": 19,
   "id": "d4733267-0f60-4283-842f-09300485b370",
   "metadata": {},
   "outputs": [
    {
     "data": {
      "text/plain": [
       "array([1., 2., 3., 4., 5., 6., 7.])"
      ]
     },
     "execution_count": 19,
     "metadata": {},
     "output_type": "execute_result"
    }
   ],
   "source": [
    "arr1.astype(float)"
   ]
  },
  {
   "cell_type": "code",
   "execution_count": 21,
   "id": "790655d4-dbfc-4423-b3a5-77d3796858f0",
   "metadata": {},
   "outputs": [
    {
     "data": {
      "text/plain": [
       "array([ 0,  1,  2,  3,  4,  5,  6,  7,  8,  9, 10, 11, 12, 13, 14, 15, 16,\n",
       "       17, 18, 19, 20, 21, 22, 23, 24])"
      ]
     },
     "execution_count": 21,
     "metadata": {},
     "output_type": "execute_result"
    }
   ],
   "source": [
    "a = np.arange(0,25)\n",
    "a"
   ]
  },
  {
   "cell_type": "code",
   "execution_count": 22,
   "id": "c6f108e6-e940-401b-936e-b7261b4173ae",
   "metadata": {},
   "outputs": [
    {
     "data": {
      "text/plain": [
       "np.int64(3)"
      ]
     },
     "execution_count": 22,
     "metadata": {},
     "output_type": "execute_result"
    }
   ],
   "source": [
    "a[3]"
   ]
  },
  {
   "cell_type": "code",
   "execution_count": 24,
   "id": "c4b35a74-1948-405e-a789-08e4ec3668b5",
   "metadata": {},
   "outputs": [
    {
     "data": {
      "text/plain": [
       "array([  0,  25,  50,  75, 100, 125, 150])"
      ]
     },
     "execution_count": 24,
     "metadata": {},
     "output_type": "execute_result"
    }
   ],
   "source": [
    "b = np.arange(0,151,25)\n",
    "b"
   ]
  },
  {
   "cell_type": "code",
   "execution_count": 25,
   "id": "530c5ae7-eb59-4d7e-b990-6f427737a7d9",
   "metadata": {},
   "outputs": [
    {
     "data": {
      "text/plain": [
       "array([100,  90,  80,  70,  60,  50,  40,  30,  20,  10,   0])"
      ]
     },
     "execution_count": 25,
     "metadata": {},
     "output_type": "execute_result"
    }
   ],
   "source": [
    "c = np.arange(100, -1, -10)\n",
    "c"
   ]
  },
  {
   "cell_type": "code",
   "execution_count": 27,
   "id": "50f7c08d-5fe6-47e8-af26-6bbed90e29f7",
   "metadata": {},
   "outputs": [
    {
     "data": {
      "text/plain": [
       "array([0, 0, 0, 0, 0, 0, 0, 0, 0, 0])"
      ]
     },
     "execution_count": 27,
     "metadata": {},
     "output_type": "execute_result"
    }
   ],
   "source": [
    "# Sıfırlardan oluşan bir dizi\n",
    "zeros = np.zeros(10).astype(int)\n",
    "zeros"
   ]
  },
  {
   "cell_type": "code",
   "execution_count": 31,
   "id": "acbab438-1f61-4983-b080-9387067e2275",
   "metadata": {},
   "outputs": [
    {
     "data": {
      "text/plain": [
       "array([1, 1, 1, 1, 1, 1, 1, 1])"
      ]
     },
     "execution_count": 31,
     "metadata": {},
     "output_type": "execute_result"
    }
   ],
   "source": [
    "ones = np.ones(8).astype(int)\n",
    "ones"
   ]
  },
  {
   "cell_type": "code",
   "execution_count": 33,
   "id": "6dc4b373-3f5e-4384-9c65-35a5f5cd8052",
   "metadata": {},
   "outputs": [
    {
     "data": {
      "text/plain": [
       "array([36, 36, 36, 36, 36, 36, 36, 36, 36, 36])"
      ]
     },
     "execution_count": 33,
     "metadata": {},
     "output_type": "execute_result"
    }
   ],
   "source": [
    "# repeat(sayi, kac_tane)\n",
    "\n",
    "rp = np.repeat(36,10)\n",
    "rp"
   ]
  },
  {
   "cell_type": "code",
   "execution_count": 34,
   "id": "a8da11e2-3f28-461d-a512-d3df8529a85d",
   "metadata": {},
   "outputs": [
    {
     "data": {
      "text/plain": [
       "array([1, 1, 1, 2, 2, 2, 3, 3, 3, 4, 4, 4])"
      ]
     },
     "execution_count": 34,
     "metadata": {},
     "output_type": "execute_result"
    }
   ],
   "source": [
    "d = np.array([1,2,3,4])\n",
    "rp_1 = np.repeat(d,3)\n",
    "rp_1"
   ]
  },
  {
   "cell_type": "code",
   "execution_count": 36,
   "id": "301c16ba-52ab-4a58-a01b-5a84941449a6",
   "metadata": {},
   "outputs": [
    {
     "data": {
      "text/plain": [
       "[1, 3, 5, 7, 9, 11, 13, 15, 17, 19]"
      ]
     },
     "execution_count": 36,
     "metadata": {},
     "output_type": "execute_result"
    }
   ],
   "source": [
    "sayilar = list(range(1,21))\n",
    "tek_sayilar = []\n",
    "for i in sayilar:\n",
    "    if i % 2 == 1:\n",
    "        tek_sayilar.append(i)\n",
    "tek_sayilar        "
   ]
  },
  {
   "cell_type": "code",
   "execution_count": 38,
   "id": "e0b31b0b-e61f-4b78-913e-e56044af4057",
   "metadata": {},
   "outputs": [
    {
     "data": {
      "text/plain": [
       "array([ 1,  3,  5,  7,  9, 11, 13, 15, 17, 19])"
      ]
     },
     "execution_count": 38,
     "metadata": {},
     "output_type": "execute_result"
    }
   ],
   "source": [
    "np_sayilar = np.arange(1,21)\n",
    "tek_numpy = np_sayilar[np_sayilar % 2 ==1]\n",
    "tek_numpy"
   ]
  },
  {
   "cell_type": "code",
   "execution_count": 40,
   "id": "99574e8f-6d2c-4c73-b0de-98dda65f1a08",
   "metadata": {},
   "outputs": [
    {
     "data": {
      "text/plain": [
       "array([20, 25, 30])"
      ]
     },
     "execution_count": 40,
     "metadata": {},
     "output_type": "execute_result"
    }
   ],
   "source": [
    "# Linspace(başlangıc, bitis, adet) : başlangıçtan bitişe kadar kaç adet sayı istniyorsa \n",
    "# eşit olacak şekilde böler.\n",
    "\n",
    "lns = np.linspace(20, 30, 3).astype(int)\n",
    "lns"
   ]
  },
  {
   "cell_type": "code",
   "execution_count": 42,
   "id": "ad43c454-285e-421e-bc3b-7f24113493f4",
   "metadata": {},
   "outputs": [
    {
     "data": {
      "text/plain": [
       "array([10.        , 13.33333333, 16.66666667, 20.        ])"
      ]
     },
     "execution_count": 42,
     "metadata": {},
     "output_type": "execute_result"
    }
   ],
   "source": [
    "np.linspace(10, 20, 4)"
   ]
  },
  {
   "cell_type": "code",
   "execution_count": 43,
   "id": "8d5e7ad5-d7cb-426e-9d94-8c7e3d56aa28",
   "metadata": {},
   "outputs": [
    {
     "data": {
      "text/plain": [
       "array([0.7187251 , 0.14274075, 0.75778708, 0.23541102])"
      ]
     },
     "execution_count": 43,
     "metadata": {},
     "output_type": "execute_result"
    }
   ],
   "source": [
    "np.random.random(4)"
   ]
  },
  {
   "cell_type": "code",
   "execution_count": 44,
   "id": "05261758-3fdf-4909-9b14-a547ce98eab3",
   "metadata": {},
   "outputs": [
    {
     "data": {
      "text/plain": [
       "array([188, 288, 331, 139, 209, 128, 177, 221, 343, 312, 313, 158, 147,\n",
       "       339, 194, 150, 100, 129, 220, 158, 252, 238, 204, 211, 131, 280,\n",
       "       113, 234, 342, 192, 328, 149, 330, 162, 201, 317, 162, 242, 289,\n",
       "       128, 316, 101, 250, 346, 327, 128, 331, 125, 233, 189], dtype=int32)"
      ]
     },
     "execution_count": 44,
     "metadata": {},
     "output_type": "execute_result"
    }
   ],
   "source": [
    "np.random.randint(100,350,50)"
   ]
  },
  {
   "cell_type": "code",
   "execution_count": 45,
   "id": "a5c37b90-120c-4cc7-960a-4546a159d0a1",
   "metadata": {},
   "outputs": [
    {
     "data": {
      "text/plain": [
       "array([282, 105, 272, 324, 298, 183, 332,  79, 345,  14], dtype=int32)"
      ]
     },
     "execution_count": 45,
     "metadata": {},
     "output_type": "execute_result"
    }
   ],
   "source": [
    "np.random.seed(200)\n",
    "np.random.randint(0,500,10)"
   ]
  },
  {
   "cell_type": "code",
   "execution_count": 46,
   "id": "45590df6-d6ff-4983-90aa-a1996dd1316e",
   "metadata": {},
   "outputs": [
    {
     "data": {
      "text/plain": [
       "array([219, 185,  89, 139, 390,  42, 312,   1,   7,  51], dtype=int32)"
      ]
     },
     "execution_count": 46,
     "metadata": {},
     "output_type": "execute_result"
    }
   ],
   "source": [
    "np.random.randint(0,500,10)"
   ]
  },
  {
   "cell_type": "code",
   "execution_count": 48,
   "id": "eb75e675-7ced-43e2-8efd-99a9a4ca6f9a",
   "metadata": {},
   "outputs": [
    {
     "data": {
      "text/plain": [
       "array([301, 243, 229, 338, 379, 185, 363, 410, 372, 391, 344, 259, 287,\n",
       "       417, 376, 185, 342, 228, 231, 155, 284, 103, 261, 300, 228, 280,\n",
       "       446, 289, 426, 199, 176, 286, 424, 290, 152, 106, 355, 296, 292,\n",
       "       445, 278, 197, 316, 235, 285, 197, 251, 268, 382, 293, 181, 427,\n",
       "       318, 100, 273, 182, 138, 393, 255, 320, 334, 243, 437, 129, 213],\n",
       "      dtype=int32)"
      ]
     },
     "execution_count": 48,
     "metadata": {},
     "output_type": "execute_result"
    }
   ],
   "source": [
    "a = np.random.randint(100,450,65)\n",
    "a"
   ]
  },
  {
   "cell_type": "code",
   "execution_count": 49,
   "id": "0863cd82-99c0-419f-be01-ed23da816e02",
   "metadata": {},
   "outputs": [
    {
     "data": {
      "text/plain": [
       "np.int32(446)"
      ]
     },
     "execution_count": 49,
     "metadata": {},
     "output_type": "execute_result"
    }
   ],
   "source": [
    "a.max()"
   ]
  },
  {
   "cell_type": "code",
   "execution_count": 50,
   "id": "8498d883-db56-4fe1-9922-17706a349cf9",
   "metadata": {},
   "outputs": [
    {
     "data": {
      "text/plain": [
       "np.int32(100)"
      ]
     },
     "execution_count": 50,
     "metadata": {},
     "output_type": "execute_result"
    }
   ],
   "source": [
    "a.min()"
   ]
  },
  {
   "cell_type": "code",
   "execution_count": 51,
   "id": "27709e36-37ac-4afd-bf54-317e858878fa",
   "metadata": {},
   "outputs": [
    {
     "data": {
      "text/plain": [
       "np.int64(18318)"
      ]
     },
     "execution_count": 51,
     "metadata": {},
     "output_type": "execute_result"
    }
   ],
   "source": [
    "a.sum()"
   ]
  },
  {
   "cell_type": "code",
   "execution_count": 52,
   "id": "e584b4de-b000-4369-ad80-980eea19e0aa",
   "metadata": {},
   "outputs": [
    {
     "data": {
      "text/plain": [
       "np.float64(281.81538461538463)"
      ]
     },
     "execution_count": 52,
     "metadata": {},
     "output_type": "execute_result"
    }
   ],
   "source": [
    "a.mean()"
   ]
  },
  {
   "cell_type": "code",
   "execution_count": 53,
   "id": "7d29431e-2229-42e2-a095-8ebd84deb5cc",
   "metadata": {},
   "outputs": [
    {
     "data": {
      "text/plain": [
       "np.float64(90.64111688966501)"
      ]
     },
     "execution_count": 53,
     "metadata": {},
     "output_type": "execute_result"
    }
   ],
   "source": [
    "# standart sapma\n",
    "a.std()"
   ]
  },
  {
   "cell_type": "code",
   "execution_count": 61,
   "id": "c1c0933a-2282-4b9a-8f22-5fd35fa8c4cb",
   "metadata": {},
   "outputs": [
    {
     "data": {
      "text/plain": [
       "array([[ 1, 11,  3],\n",
       "       [ 4, 15,  6],\n",
       "       [ 7,  8, 19]])"
      ]
     },
     "execution_count": 61,
     "metadata": {},
     "output_type": "execute_result"
    }
   ],
   "source": [
    "A = np.array([[1,11,3],[4,15,6],[7,8,19]])\n",
    "A"
   ]
  },
  {
   "cell_type": "code",
   "execution_count": 62,
   "id": "dc405639-4a76-4929-914a-b492c1e867f0",
   "metadata": {},
   "outputs": [
    {
     "data": {
      "text/plain": [
       "np.int64(74)"
      ]
     },
     "execution_count": 62,
     "metadata": {},
     "output_type": "execute_result"
    }
   ],
   "source": [
    "A.sum()"
   ]
  },
  {
   "cell_type": "code",
   "execution_count": 63,
   "id": "38256720-7d15-4121-941c-d3e7858495d5",
   "metadata": {},
   "outputs": [
    {
     "data": {
      "text/plain": [
       "array([1, 8, 3])"
      ]
     },
     "execution_count": 63,
     "metadata": {},
     "output_type": "execute_result"
    }
   ],
   "source": [
    "np.amin(A,axis=0)"
   ]
  },
  {
   "cell_type": "code",
   "execution_count": 64,
   "id": "303da31b-c233-4a7e-afff-e596ee19029d",
   "metadata": {},
   "outputs": [
    {
     "data": {
      "text/plain": [
       "array([ 7, 15, 19])"
      ]
     },
     "execution_count": 64,
     "metadata": {},
     "output_type": "execute_result"
    }
   ],
   "source": [
    "np.amax(A,axis=0)"
   ]
  },
  {
   "cell_type": "code",
   "execution_count": 65,
   "id": "afe31530-47c2-4d8a-adc0-d68f2243c4db",
   "metadata": {},
   "outputs": [
    {
     "data": {
      "text/plain": [
       "array([1, 4, 7])"
      ]
     },
     "execution_count": 65,
     "metadata": {},
     "output_type": "execute_result"
    }
   ],
   "source": [
    "np.amin(A,axis=1)"
   ]
  },
  {
   "cell_type": "code",
   "execution_count": 66,
   "id": "32212116-0e0d-4089-b41e-3649e3427fdc",
   "metadata": {},
   "outputs": [
    {
     "data": {
      "text/plain": [
       "array([11, 15, 19])"
      ]
     },
     "execution_count": 66,
     "metadata": {},
     "output_type": "execute_result"
    }
   ],
   "source": [
    "np.amax(A,axis=1)"
   ]
  },
  {
   "cell_type": "code",
   "execution_count": 67,
   "id": "b2c3a056-c0f8-4eb9-9575-e516f86ee15c",
   "metadata": {},
   "outputs": [
    {
     "data": {
      "text/plain": [
       "array([18, 13, 10, 17, 18, 14, 13, 16, 10, 17, 19, 11, 15, 14, 11, 14, 15,\n",
       "       17, 12, 10, 19, 17, 10, 15, 14, 16, 16, 19, 16, 17], dtype=int32)"
      ]
     },
     "execution_count": 67,
     "metadata": {},
     "output_type": "execute_result"
    }
   ],
   "source": [
    "b = np.random.randint(10,20,30)\n",
    "b"
   ]
  },
  {
   "cell_type": "code",
   "execution_count": 71,
   "id": "bd5282c4-72b9-49a8-938f-6548c785563f",
   "metadata": {},
   "outputs": [
    {
     "data": {
      "text/plain": [
       "array([13, 10, 17, 18], dtype=int32)"
      ]
     },
     "execution_count": 71,
     "metadata": {},
     "output_type": "execute_result"
    }
   ],
   "source": [
    "b[1:5]"
   ]
  },
  {
   "cell_type": "code",
   "execution_count": 73,
   "id": "36b3dd1f-365d-4a5e-8e98-e3cb714839d3",
   "metadata": {},
   "outputs": [
    {
     "data": {
      "text/plain": [
       "array([16, 16, 19, 16], dtype=int32)"
      ]
     },
     "execution_count": 73,
     "metadata": {},
     "output_type": "execute_result"
    }
   ],
   "source": [
    "# sondan 5. indexten son elemandan 1 index geride olan tüm sayıları alın\n",
    "\n",
    "b[-5:-1]"
   ]
  },
  {
   "cell_type": "code",
   "execution_count": 74,
   "id": "5477554d-4564-43af-bc3b-8fedf10a2316",
   "metadata": {},
   "outputs": [
    {
     "data": {
      "text/plain": [
       "array([16, 16, 19, 16, 17], dtype=int32)"
      ]
     },
     "execution_count": 74,
     "metadata": {},
     "output_type": "execute_result"
    }
   ],
   "source": [
    "# son 5 veri\n",
    "\n",
    "b[-5:]"
   ]
  },
  {
   "cell_type": "code",
   "execution_count": 79,
   "id": "8aacfe47-375e-4daa-a081-d4460459ddc2",
   "metadata": {},
   "outputs": [
    {
     "data": {
      "text/plain": [
       "array([18, 13, 10, 17, 18, 14], dtype=int32)"
      ]
     },
     "execution_count": 79,
     "metadata": {},
     "output_type": "execute_result"
    }
   ],
   "source": [
    "# ilk 6 veri\n",
    "b[0:6]\n",
    "b[:6]"
   ]
  },
  {
   "cell_type": "code",
   "execution_count": 81,
   "id": "5723c82c-a7ec-4a5c-987e-09ccab0a7cbf",
   "metadata": {},
   "outputs": [
    {
     "data": {
      "text/plain": [
       "array([ 0,  1,  2,  3,  4,  5,  6,  7,  8,  9, 10, 11, 12, 13, 14, 15, 16,\n",
       "       17, 18, 19, 20])"
      ]
     },
     "execution_count": 81,
     "metadata": {},
     "output_type": "execute_result"
    }
   ],
   "source": [
    "d = np.arange(21)\n",
    "d"
   ]
  },
  {
   "cell_type": "code",
   "execution_count": 82,
   "id": "53f8c0ce-ec82-4ceb-bf4e-c9830fc24ae4",
   "metadata": {},
   "outputs": [
    {
     "data": {
      "text/plain": [
       "array([ 5,  1,  5,  3,  5,  5,  5,  7,  5,  9,  5, 11,  5, 13,  5, 15,  5,\n",
       "       17,  5, 19,  5])"
      ]
     },
     "execution_count": 82,
     "metadata": {},
     "output_type": "execute_result"
    }
   ],
   "source": [
    "# d dizisi içerisinde çift sayıların yerine 5 yazan kodu yazınn\n",
    "\n",
    "r = np.where(d %2==0, 5, d)\n",
    "r"
   ]
  },
  {
   "cell_type": "code",
   "execution_count": 83,
   "id": "19c3e08e-fff9-44bb-b11f-45b8f4f05647",
   "metadata": {},
   "outputs": [
    {
     "data": {
      "text/plain": [
       "array([10., 25., 36., nan, 69., 85., nan])"
      ]
     },
     "execution_count": 83,
     "metadata": {},
     "output_type": "execute_result"
    }
   ],
   "source": [
    "a = np.array([10,25,36,np.nan, 69, 85, np.nan])\n",
    "a"
   ]
  },
  {
   "cell_type": "code",
   "execution_count": 85,
   "id": "66d4b4d2-aa86-4738-a918-0a372a3f2a5e",
   "metadata": {},
   "outputs": [
    {
     "data": {
      "text/plain": [
       "array([False, False, False,  True, False, False,  True])"
      ]
     },
     "execution_count": 85,
     "metadata": {},
     "output_type": "execute_result"
    }
   ],
   "source": [
    "np.isnan(a)"
   ]
  },
  {
   "cell_type": "code",
   "execution_count": 86,
   "id": "56ba28a2-290d-4381-97e6-e0c0515fe074",
   "metadata": {},
   "outputs": [],
   "source": [
    "a[np.isnan(a)] = 25"
   ]
  },
  {
   "cell_type": "code",
   "execution_count": 87,
   "id": "35c89bf9-d183-421e-8e14-5f6980a10091",
   "metadata": {},
   "outputs": [
    {
     "data": {
      "text/plain": [
       "array([10., 25., 36., 25., 69., 85., 25.])"
      ]
     },
     "execution_count": 87,
     "metadata": {},
     "output_type": "execute_result"
    }
   ],
   "source": [
    "a"
   ]
  },
  {
   "cell_type": "code",
   "execution_count": 91,
   "id": "0a0f6d45-af43-4b5b-9826-1008add3e4f0",
   "metadata": {},
   "outputs": [],
   "source": [
    "c1 = np.arange(10,61,10)\n",
    "c2 = np.array([12,25,30,44,60,55,50])"
   ]
  },
  {
   "cell_type": "code",
   "execution_count": 92,
   "id": "16256608-8e9e-4a37-b4e9-3f4e99c62672",
   "metadata": {},
   "outputs": [
    {
     "data": {
      "text/plain": [
       "array([10, 20, 30, 40, 50, 60])"
      ]
     },
     "execution_count": 92,
     "metadata": {},
     "output_type": "execute_result"
    }
   ],
   "source": [
    "c1"
   ]
  },
  {
   "cell_type": "code",
   "execution_count": 93,
   "id": "26b62ea1-6acd-4d91-9516-3d37c9500d62",
   "metadata": {},
   "outputs": [
    {
     "data": {
      "text/plain": [
       "array([12, 25, 30, 44, 60, 55, 50])"
      ]
     },
     "execution_count": 93,
     "metadata": {},
     "output_type": "execute_result"
    }
   ],
   "source": [
    "c2"
   ]
  },
  {
   "cell_type": "code",
   "execution_count": 94,
   "id": "fa483196-3f74-4b22-8ffd-6b6f44fc4d3e",
   "metadata": {},
   "outputs": [
    {
     "data": {
      "text/plain": [
       "array([10, 20, 40])"
      ]
     },
     "execution_count": 94,
     "metadata": {},
     "output_type": "execute_result"
    }
   ],
   "source": [
    "np.setdiff1d(c1,c2)"
   ]
  },
  {
   "cell_type": "code",
   "execution_count": 95,
   "id": "6b7c345a-2bb0-4d7d-9f36-9840312f7819",
   "metadata": {},
   "outputs": [
    {
     "data": {
      "text/plain": [
       "array([12, 25, 44, 55])"
      ]
     },
     "execution_count": 95,
     "metadata": {},
     "output_type": "execute_result"
    }
   ],
   "source": [
    "np.setdiff1d(c2,c1)"
   ]
  },
  {
   "cell_type": "code",
   "execution_count": 96,
   "id": "c4e85588-d20d-40c0-b2a1-9d0d00c04af1",
   "metadata": {},
   "outputs": [
    {
     "data": {
      "text/plain": [
       "array([12, 25, 30, 44, 60, 55, 50])"
      ]
     },
     "execution_count": 96,
     "metadata": {},
     "output_type": "execute_result"
    }
   ],
   "source": [
    "c2"
   ]
  },
  {
   "cell_type": "code",
   "execution_count": 97,
   "id": "c1e33b87-1d66-4a0f-b575-9cc87517113c",
   "metadata": {},
   "outputs": [
    {
     "data": {
      "text/plain": [
       "array([50, 55, 60, 44, 30, 25, 12])"
      ]
     },
     "execution_count": 97,
     "metadata": {},
     "output_type": "execute_result"
    }
   ],
   "source": [
    "# verileri ters şekilde sıralama\n",
    "\n",
    "c2[::-1]"
   ]
  },
  {
   "cell_type": "code",
   "execution_count": 98,
   "id": "e96633bf-0dc0-466a-b6b3-19518b4190f7",
   "metadata": {},
   "outputs": [
    {
     "data": {
      "text/plain": [
       "array([50, 55, 60, 44, 30, 25, 12])"
      ]
     },
     "execution_count": 98,
     "metadata": {},
     "output_type": "execute_result"
    }
   ],
   "source": [
    "np.flip(c2)"
   ]
  },
  {
   "cell_type": "code",
   "execution_count": 101,
   "id": "1f9d0dd4-6e5c-45e6-97cb-d7ece18f22c0",
   "metadata": {},
   "outputs": [
    {
     "data": {
      "text/plain": [
       "array([[ 3,  4,  8,  7],\n",
       "       [11, 24, 10, 85],\n",
       "       [35,  5, 47,  2]])"
      ]
     },
     "execution_count": 101,
     "metadata": {},
     "output_type": "execute_result"
    }
   ],
   "source": [
    "a3 = np.array([[3,4,8,7],[11,24,10,85],[35,5,47,2]])\n",
    "a3"
   ]
  },
  {
   "cell_type": "code",
   "execution_count": 102,
   "id": "8337fb87-b80e-4e6b-be61-23e1dfea2681",
   "metadata": {},
   "outputs": [
    {
     "data": {
      "text/plain": [
       "array([[35,  5, 47,  2],\n",
       "       [11, 24, 10, 85],\n",
       "       [ 3,  4,  8,  7]])"
      ]
     },
     "execution_count": 102,
     "metadata": {},
     "output_type": "execute_result"
    }
   ],
   "source": [
    "a3[::-1,]"
   ]
  },
  {
   "cell_type": "code",
   "execution_count": 103,
   "id": "89f5b570-2202-4dea-9c28-df5ab8cbba86",
   "metadata": {},
   "outputs": [
    {
     "data": {
      "text/plain": [
       "array([[ 7,  8,  4,  3],\n",
       "       [85, 10, 24, 11],\n",
       "       [ 2, 47,  5, 35]])"
      ]
     },
     "execution_count": 103,
     "metadata": {},
     "output_type": "execute_result"
    }
   ],
   "source": [
    "a3[:,::-1]"
   ]
  },
  {
   "cell_type": "code",
   "execution_count": 104,
   "id": "bbdd3b88-a014-4791-898d-cc1b435234ea",
   "metadata": {},
   "outputs": [
    {
     "data": {
      "text/plain": [
       "array([[ 2, 47,  5, 35],\n",
       "       [85, 10, 24, 11],\n",
       "       [ 7,  8,  4,  3]])"
      ]
     },
     "execution_count": 104,
     "metadata": {},
     "output_type": "execute_result"
    }
   ],
   "source": [
    "a3[::-1,::-1]"
   ]
  },
  {
   "cell_type": "code",
   "execution_count": 106,
   "id": "aed48ec5-1073-410a-a8d4-efaec8724ea0",
   "metadata": {},
   "outputs": [
    {
     "data": {
      "text/plain": [
       "array([[  0,   1,   2,   3,   4,   5,   6,   7,   8,   9,  10],\n",
       "       [ 11,  12,  13,  14,  15,  16,  17,  18,  19,  20,  21],\n",
       "       [ 22,  23,  24,  25,  26,  27,  28,  29,  30,  31,  32],\n",
       "       [ 33,  34,  35,  36,  37,  38,  39,  40,  41,  42,  43],\n",
       "       [ 44,  45,  46,  47,  48,  49,  50,  51,  52,  53,  54],\n",
       "       [ 55,  56,  57,  58,  59,  60,  61,  62,  63,  64,  65],\n",
       "       [ 66,  67,  68,  69,  70,  71,  72,  73,  74,  75,  76],\n",
       "       [ 77,  78,  79,  80,  81,  82,  83,  84,  85,  86,  87],\n",
       "       [ 88,  89,  90,  91,  92,  93,  94,  95,  96,  97,  98],\n",
       "       [ 99, 100, 101, 102, 103, 104, 105, 106, 107, 108, 109],\n",
       "       [110, 111, 112, 113, 114, 115, 116, 117, 118, 119, 120]])"
      ]
     },
     "execution_count": 106,
     "metadata": {},
     "output_type": "execute_result"
    }
   ],
   "source": [
    "# reshape()\n",
    "\n",
    "p1 = np.arange(0,121).reshape(11,11)\n",
    "p1"
   ]
  },
  {
   "cell_type": "code",
   "execution_count": 108,
   "id": "a882026e-94d7-4d24-8b5c-291044bdabd7",
   "metadata": {},
   "outputs": [
    {
     "data": {
      "text/plain": [
       "array([20, 18, 14])"
      ]
     },
     "execution_count": 108,
     "metadata": {},
     "output_type": "execute_result"
    }
   ],
   "source": [
    "a1 = [5,6,7]\n",
    "a2 = [4,3,2]\n",
    "a3 = np.multiply(a1,a2)\n",
    "a3"
   ]
  },
  {
   "cell_type": "code",
   "execution_count": 109,
   "id": "1d6a2a1e-b0f3-44c2-9472-a75762fb2a86",
   "metadata": {},
   "outputs": [
    {
     "data": {
      "text/plain": [
       "array([20, 18, 14])"
      ]
     },
     "execution_count": 109,
     "metadata": {},
     "output_type": "execute_result"
    }
   ],
   "source": [
    "a4 = np.array([5,6,7])\n",
    "a5 = np.array([4,3,2])\n",
    "\n",
    "a4 * a5"
   ]
  },
  {
   "cell_type": "code",
   "execution_count": 110,
   "id": "1c2568fe-016e-44ce-a75b-81361643db50",
   "metadata": {},
   "outputs": [
    {
     "data": {
      "text/plain": [
       "array([[512, 882, 370, 363, 272, 381, 200, 159, 284, 339],\n",
       "       [596, 648, 209,  76, 783, 989, 833, 984, 832, 861],\n",
       "       [  2,  67, 644, 743, 829, 190, 315, 460, 664,  77],\n",
       "       [ 17, 158, 333, 884, 104,  90, 564, 998, 387, 670],\n",
       "       [707, 656,  84, 943, 930, 554,  10, 485, 825, 507],\n",
       "       [821,  21, 984, 143, 728, 414, 766, 308, 369, 781],\n",
       "       [386, 545, 872, 795, 875, 586, 831, 853, 191, 792],\n",
       "       [223, 405, 426, 132, 319, 205, 542, 220, 102, 539],\n",
       "       [292, 566, 331, 939, 624, 519, 367, 938,  24, 292],\n",
       "       [804, 106, 527, 720, 151, 210, 100, 968,  26, 697]], dtype=int32)"
      ]
     },
     "execution_count": 110,
     "metadata": {},
     "output_type": "execute_result"
    }
   ],
   "source": [
    "M = np.random.randint(0,1000,100).reshape(10,10)\n",
    "M"
   ]
  },
  {
   "cell_type": "code",
   "execution_count": 113,
   "id": "f1d5119f-77f6-4f07-9416-dfbc066d5ffe",
   "metadata": {},
   "outputs": [
    {
     "data": {
      "text/plain": [
       "array([512, 882, 596, 648, 783, 989, 833, 984, 832, 861, 644, 743, 829,\n",
       "       664, 884, 564, 998, 670, 707, 656, 943, 930, 554, 825, 507, 821,\n",
       "       984, 728, 766, 781, 545, 872, 795, 875, 586, 831, 853, 792, 542,\n",
       "       539, 566, 939, 624, 519, 938, 804, 527, 720, 968, 697], dtype=int32)"
      ]
     },
     "execution_count": 113,
     "metadata": {},
     "output_type": "execute_result"
    }
   ],
   "source": [
    "# 500 den büyük olan değerleri ayrı listede tut\n",
    "\n",
    "filtered = M[M>500]\n",
    "filtered"
   ]
  },
  {
   "cell_type": "code",
   "execution_count": 114,
   "id": "825cc6ab-e9c1-4923-a55b-b6b0644cfdec",
   "metadata": {},
   "outputs": [
    {
     "data": {
      "text/plain": [
       "array([[1, 0, 0, 0, 0, 0, 0, 0],\n",
       "       [0, 1, 0, 0, 0, 0, 0, 0],\n",
       "       [0, 0, 1, 0, 0, 0, 0, 0],\n",
       "       [0, 0, 0, 1, 0, 0, 0, 0],\n",
       "       [0, 0, 0, 0, 1, 0, 0, 0],\n",
       "       [0, 0, 0, 0, 0, 1, 0, 0],\n",
       "       [0, 0, 0, 0, 0, 0, 1, 0],\n",
       "       [0, 0, 0, 0, 0, 0, 0, 1]])"
      ]
     },
     "execution_count": 114,
     "metadata": {},
     "output_type": "execute_result"
    }
   ],
   "source": [
    "# birim matrix(identity) : ana köşegenleri birlerden ve diğer elemanları sıfırlardan oluşan n * n boyutlu bir kare matrixtir\n",
    "\n",
    "I = np.eye(8).astype(int)\n",
    "I"
   ]
  },
  {
   "cell_type": "code",
   "execution_count": 115,
   "id": "0ee599a4-a94e-4ebd-8aee-6cf7aa444598",
   "metadata": {},
   "outputs": [
    {
     "data": {
      "text/plain": [
       "array([[ 1,  0,  0,  0,  0,  0,  0,  0,  0,  0],\n",
       "       [ 0,  2,  0,  0,  0,  0,  0,  0,  0,  0],\n",
       "       [ 0,  0,  3,  0,  0,  0,  0,  0,  0,  0],\n",
       "       [ 0,  0,  0,  4,  0,  0,  0,  0,  0,  0],\n",
       "       [ 0,  0,  0,  0,  5,  0,  0,  0,  0,  0],\n",
       "       [ 0,  0,  0,  0,  0,  6,  0,  0,  0,  0],\n",
       "       [ 0,  0,  0,  0,  0,  0,  7,  0,  0,  0],\n",
       "       [ 0,  0,  0,  0,  0,  0,  0,  8,  0,  0],\n",
       "       [ 0,  0,  0,  0,  0,  0,  0,  0,  9,  0],\n",
       "       [ 0,  0,  0,  0,  0,  0,  0,  0,  0, 10]])"
      ]
     },
     "execution_count": 115,
     "metadata": {},
     "output_type": "execute_result"
    }
   ],
   "source": [
    "# diagonal matris\n",
    "D = np.diag(np.arange(1,11))\n",
    "D"
   ]
  },
  {
   "cell_type": "code",
   "execution_count": 117,
   "id": "b97562ad-5a3d-40dc-8329-b70934af17bd",
   "metadata": {},
   "outputs": [
    {
     "data": {
      "text/plain": [
       "array([[3, 0, 0, 0],\n",
       "       [0, 5, 0, 0],\n",
       "       [0, 0, 7, 0],\n",
       "       [0, 0, 0, 8]])"
      ]
     },
     "execution_count": 117,
     "metadata": {},
     "output_type": "execute_result"
    }
   ],
   "source": [
    "D1 = np.diag([3,5,7,8])\n",
    "D1"
   ]
  },
  {
   "cell_type": "code",
   "execution_count": 118,
   "id": "9aed3585-e413-4608-b161-4c6faf664a71",
   "metadata": {},
   "outputs": [
    {
     "data": {
      "text/plain": [
       "array([[-0.40408192, -1.638067  , -0.15125239,  0.90744408,  0.0673945 ],\n",
       "       [ 0.69049189, -0.06996847,  0.74731893, -0.30642407,  0.18199109],\n",
       "       [-0.07213603,  2.21796653,  0.2584544 , -0.73603076,  0.31125086],\n",
       "       [-0.11879521,  0.77047831, -1.14883292, -0.27289366, -0.12485667],\n",
       "       [ 0.62675835,  1.15805552,  0.35786937,  0.52423795, -0.88974969]])"
      ]
     },
     "execution_count": 118,
     "metadata": {},
     "output_type": "execute_result"
    }
   ],
   "source": [
    "M1 = np.random.randn(5,5)\n",
    "M1"
   ]
  },
  {
   "cell_type": "code",
   "execution_count": 120,
   "id": "f97049b3-3825-40ad-8155-c21b8e01a911",
   "metadata": {},
   "outputs": [
    {
     "data": {
      "text/plain": [
       "array([[-0.40408192, -1.638067  , -0.15125239,  0.90744408,  0.0673945 ],\n",
       "       [ 0.        , -0.06996847,  0.74731893, -0.30642407,  0.18199109],\n",
       "       [ 0.        ,  0.        ,  0.2584544 , -0.73603076,  0.31125086],\n",
       "       [ 0.        ,  0.        ,  0.        , -0.27289366, -0.12485667],\n",
       "       [ 0.        ,  0.        ,  0.        ,  0.        , -0.88974969]])"
      ]
     },
     "execution_count": 120,
     "metadata": {},
     "output_type": "execute_result"
    }
   ],
   "source": [
    "# üst üçgen matrisi\n",
    "\n",
    "U = np.triu(M1)\n",
    "U"
   ]
  },
  {
   "cell_type": "code",
   "execution_count": 121,
   "id": "ed0b6943-2fc8-4e77-a182-8d0611820948",
   "metadata": {},
   "outputs": [
    {
     "data": {
      "text/plain": [
       "array([[-0.40408192,  0.        ,  0.        ,  0.        ,  0.        ],\n",
       "       [ 0.69049189, -0.06996847,  0.        ,  0.        ,  0.        ],\n",
       "       [-0.07213603,  2.21796653,  0.2584544 ,  0.        ,  0.        ],\n",
       "       [-0.11879521,  0.77047831, -1.14883292, -0.27289366,  0.        ],\n",
       "       [ 0.62675835,  1.15805552,  0.35786937,  0.52423795, -0.88974969]])"
      ]
     },
     "execution_count": 121,
     "metadata": {},
     "output_type": "execute_result"
    }
   ],
   "source": [
    "L = np.tril(M1)\n",
    "L"
   ]
  },
  {
   "cell_type": "code",
   "execution_count": 122,
   "id": "d3f2f3aa-c773-4e32-b954-62b51c9773b7",
   "metadata": {},
   "outputs": [
    {
     "data": {
      "text/plain": [
       "array([[21, 44, 11],\n",
       "       [10, 25, 23],\n",
       "       [19, 18, 28]], dtype=int32)"
      ]
     },
     "execution_count": 122,
     "metadata": {},
     "output_type": "execute_result"
    }
   ],
   "source": [
    "M2 = np.random.randint(10,45,9).reshape(3,3)\n",
    "M2"
   ]
  },
  {
   "cell_type": "code",
   "execution_count": 123,
   "id": "3c37c3b2-55ec-43b3-b1dc-c6886940af53",
   "metadata": {},
   "outputs": [
    {
     "data": {
      "text/plain": [
       "array([[21, 10, 19],\n",
       "       [44, 25, 18],\n",
       "       [11, 23, 28]], dtype=int32)"
      ]
     },
     "execution_count": 123,
     "metadata": {},
     "output_type": "execute_result"
    }
   ],
   "source": [
    "np.transpose(M2)"
   ]
  },
  {
   "cell_type": "code",
   "execution_count": 125,
   "id": "86473771-c8f5-4c3d-937c-bba368be5f6f",
   "metadata": {},
   "outputs": [
    {
     "data": {
      "text/plain": [
       "np.float64(9668.99999999999)"
      ]
     },
     "execution_count": 125,
     "metadata": {},
     "output_type": "execute_result"
    }
   ],
   "source": [
    "# determinant alma \n",
    "np.linalg.det(M2)"
   ]
  },
  {
   "cell_type": "code",
   "execution_count": 126,
   "id": "2ab4bd77-33e8-4cfb-bf98-865a0c10220a",
   "metadata": {},
   "outputs": [
    {
     "name": "stdout",
     "output_type": "stream",
     "text": [
      "Ortalama sıcaklık : 31.571428571428573 C dir\n"
     ]
    }
   ],
   "source": [
    "# Elimizde 1 haftalık hava sıcaklığı verisi mevcut.\n",
    "# Bu sıcaklık bilgilerine dayanarak ortalama sıcaklığı hesapla.\n",
    "\n",
    "sicakliklar = [35,30,25,36,30,25,40]\n",
    "sicakliklar_np = np.array(sicakliklar)\n",
    "ortalama = sicakliklar_np.mean()\n",
    "print(f'Ortalama sıcaklık : {ortalama} C dir')"
   ]
  },
  {
   "cell_type": "code",
   "execution_count": 130,
   "id": "e2052364-5aff-48d4-859b-a7c131dcf7a9",
   "metadata": {},
   "outputs": [
    {
     "name": "stdout",
     "output_type": "stream",
     "text": [
      "Günlük getiri (%) [ 2.          7.84313725 -5.         10.04784689  4.34782609 -8.33333333]\n",
      "Ortalama günlük getirisi : 1.8175794830795506 &\n"
     ]
    }
   ],
   "source": [
    "# Hisse senedi uygulaması \n",
    "# Getiri = ((bugünkü fiyat - dünkü fiyat)/ dünkü fiyat*100\n",
    "\n",
    "prices = np.array([1000,1020,1100,1045,1150,1200,1100])\n",
    "getiriler_farki = np.diff(prices)\n",
    "result = getiriler_farki / prices[:-1] *100 \n",
    "print(f'Günlük getiri (%) {result}')\n",
    "print(f'Ortalama günlük getirisi : {np.mean(result)} &')"
   ]
  },
  {
   "cell_type": "code",
   "execution_count": 136,
   "id": "ad260f7d-3bf6-45de-b3a2-eb5502ee0f9f",
   "metadata": {},
   "outputs": [
    {
     "name": "stdout",
     "output_type": "stream",
     "text": [
      "10 yıllık nüfus tahmini : \n"
     ]
    },
    {
     "data": {
      "text/plain": [
       "array([10202013.40026756, 10408107.74192388, 10618365.4654536 ,\n",
       "       10832870.67674959, 11051709.18075648, 11274968.51579376,\n",
       "       11502737.98857227, 11735108.7099181 , 11972173.6312181 ,\n",
       "       12214027.5816017 ])"
      ]
     },
     "execution_count": 136,
     "metadata": {},
     "output_type": "execute_result"
    }
   ],
   "source": [
    "# Başlangıç nüfusu 10 milyon olan ülkenin yıllık büyüme oranı v2 dir. \n",
    "# 10 yıllık nüfus tahmini yapın.\n",
    "# P(t) = P0* e^rt\n",
    "\n",
    "baslangic_nufusu = 10000000\n",
    "buyume_orani = 0.02\n",
    "yillar = np.arange(1,11)\n",
    "populasyon = baslangic_nufusu * np.exp(buyume_orani * yillar)\n",
    "print(f'10 yıllık nüfus tahmini : ')\n",
    "populasyon"
   ]
  },
  {
   "cell_type": "code",
   "execution_count": null,
   "id": "dcf65f45-2a08-4fa2-acef-16616b949e84",
   "metadata": {},
   "outputs": [],
   "source": []
  }
 ],
 "metadata": {
  "kernelspec": {
   "display_name": "Python [conda env:base] *",
   "language": "python",
   "name": "conda-base-py"
  },
  "language_info": {
   "codemirror_mode": {
    "name": "ipython",
    "version": 3
   },
   "file_extension": ".py",
   "mimetype": "text/x-python",
   "name": "python",
   "nbconvert_exporter": "python",
   "pygments_lexer": "ipython3",
   "version": "3.13.5"
  }
 },
 "nbformat": 4,
 "nbformat_minor": 5
}
