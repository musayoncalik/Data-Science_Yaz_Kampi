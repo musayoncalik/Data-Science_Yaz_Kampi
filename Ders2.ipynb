{
 "cells": [
  {
   "cell_type": "code",
   "execution_count": 1,
   "id": "c681892f-061b-4fcc-8365-6506f3ddb071",
   "metadata": {},
   "outputs": [],
   "source": [
    "#Üyelik Operatörleri\n"
   ]
  },
  {
   "cell_type": "code",
   "execution_count": 2,
   "id": "b331740e-6244-4404-b04b-934fdf3b7574",
   "metadata": {},
   "outputs": [
    {
     "name": "stdout",
     "output_type": "stream",
     "text": [
      "True\n"
     ]
    }
   ],
   "source": [
    "fruits = ['Elma', 'Armut', 'Kiraz', 'Portakal', 'Vişne', 'Kayısı']\n",
    "var_mi = 'Elma' in fruits \n",
    "print(var_mi)"
   ]
  },
  {
   "cell_type": "code",
   "execution_count": 3,
   "id": "d6b2877d-613f-4ca2-9044-1d993d285b56",
   "metadata": {},
   "outputs": [
    {
     "name": "stdout",
     "output_type": "stream",
     "text": [
      "False\n"
     ]
    }
   ],
   "source": [
    "yok_mu = 'Kayısı' not in fruits\n",
    "print(yok_mu)"
   ]
  },
  {
   "cell_type": "code",
   "execution_count": 4,
   "id": "2483f673-4185-480c-83d1-70c64013e8ab",
   "metadata": {},
   "outputs": [
    {
     "name": "stdout",
     "output_type": "stream",
     "text": [
      "<class 'str'>\n"
     ]
    }
   ],
   "source": [
    "a1 = '25' \n",
    "print(type(a1))"
   ]
  },
  {
   "cell_type": "code",
   "execution_count": 5,
   "id": "79c829cc-3bbc-42f5-99f9-9ae1b4b74d2f",
   "metadata": {},
   "outputs": [
    {
     "name": "stdout",
     "output_type": "stream",
     "text": [
      "<class 'int'>\n"
     ]
    }
   ],
   "source": [
    "a1_int = int(a1)\n",
    "print(type(a1_int))"
   ]
  },
  {
   "cell_type": "code",
   "execution_count": 6,
   "id": "cb1f1785-3519-47ef-b82d-aa186e3efb3e",
   "metadata": {},
   "outputs": [
    {
     "name": "stdout",
     "output_type": "stream",
     "text": [
      "False\n",
      "True\n"
     ]
    }
   ],
   "source": [
    "print(bool(0))  # False\n",
    "print(bool(1))  # True"
   ]
  },
  {
   "cell_type": "code",
   "execution_count": 7,
   "id": "0b565041-8642-42a3-bff4-d0d0fc71ac41",
   "metadata": {},
   "outputs": [
    {
     "name": "stdout",
     "output_type": "stream",
     "text": [
      "False\n",
      "True\n"
     ]
    }
   ],
   "source": [
    "print(bool(''))\n",
    "print(bool('Selam'))"
   ]
  },
  {
   "cell_type": "code",
   "execution_count": 8,
   "id": "16e187b9-4eba-4e6c-a01d-78852cabd5f4",
   "metadata": {},
   "outputs": [
    {
     "name": "stdout",
     "output_type": "stream",
     "text": [
      "['S', 'E', 'L', 'A', 'M', ' ', 'B', 'E', 'N', ' ', 'M', 'U', 'S', 'A']\n"
     ]
    }
   ],
   "source": [
    "veri = 'SELAM BEN MUSA'\n",
    "liste1 = list(veri)\n",
    "print(liste1)"
   ]
  },
  {
   "cell_type": "code",
   "execution_count": 10,
   "id": "01af4cc9-cf48-4b63-af6a-f3be21b84efe",
   "metadata": {},
   "outputs": [
    {
     "name": "stdin",
     "output_type": "stream",
     "text": [
      "Lütfen yaşınızı giriniz :  13\n"
     ]
    },
    {
     "name": "stdout",
     "output_type": "stream",
     "text": [
      "Reşit değilsiniz. Ehliyet alamazsınız. \n"
     ]
    }
   ],
   "source": [
    "age = int(input('Lütfen yaşınızı giriniz : '))\n",
    "if age >= 18:\n",
    "    print('Reşitsiniz. Ehliyet alabilirsiniz. ')\n",
    "else:\n",
    "    print('Reşit değilsiniz. Ehliyet alamazsınız. ')"
   ]
  },
  {
   "cell_type": "code",
   "execution_count": 18,
   "id": "34d210c1-fe92-4bb1-8624-8d038e7bf8d6",
   "metadata": {},
   "outputs": [
    {
     "name": "stdin",
     "output_type": "stream",
     "text": [
      "Lütfen bir sayı giriniz :  25\n"
     ]
    },
    {
     "name": "stdout",
     "output_type": "stream",
     "text": [
      "Girmiş olduğunuz sayı pozitiftir.\n"
     ]
    }
   ],
   "source": [
    "sayi = int(input('Lütfen bir sayı giriniz : '))\n",
    "\n",
    "if sayi > 0:\n",
    "    print('Girmiş olduğunuz sayı pozitiftir.')\n",
    "elif sayi == 0:\n",
    "    print('Girmiş olduğunuz sayı sıfırdır.')\n",
    "else:\n",
    "    print('Girmiş olduğunuz sayı negatiftir.')\n"
   ]
  },
  {
   "cell_type": "code",
   "execution_count": 19,
   "id": "e0d6f895-bc54-4e63-9db8-8fc44e63bd0b",
   "metadata": {},
   "outputs": [
    {
     "name": "stdin",
     "output_type": "stream",
     "text": [
      "Lütfen bir sayı giriniz :  20\n"
     ]
    },
    {
     "name": "stdout",
     "output_type": "stream",
     "text": [
      "Sayı 10 dan büyüktür. \n",
      "Sayı değeri 15 ten büyüktür\n"
     ]
    }
   ],
   "source": [
    "sayi2 = int(input('Lütfen bir sayı giriniz : '))\n",
    "if sayi2 > 10:\n",
    "    print('Sayı 10 dan büyüktür. ')\n",
    "if sayi2 > 15:\n",
    "    print('Sayı değeri 15 ten büyüktür')\n",
    "    "
   ]
  },
  {
   "cell_type": "code",
   "execution_count": 22,
   "id": "9dd6c794-56c4-414f-94a5-c25e984fe6ed",
   "metadata": {},
   "outputs": [
    {
     "name": "stdin",
     "output_type": "stream",
     "text": [
      "Lütfen yaşınızı giriniz :  19\n"
     ]
    },
    {
     "name": "stdout",
     "output_type": "stream",
     "text": [
      "REŞİTSİNİZ EHLİYET ALABİLİRSİNİZ\n"
     ]
    }
   ],
   "source": [
    "# Ternary if\n",
    "yas = int(input('Lütfen yaşınızı giriniz : '))\n",
    "mesaj =\"REŞİTSİNİZ EHLİYET ALABİLİRSİNİZ\" if yas >= 18 else 'Reşit değilsiniz, Ehliyet alamazsınız. '\n",
    "print(mesaj)"
   ]
  },
  {
   "cell_type": "code",
   "execution_count": 27,
   "id": "c5fa25a8-1e1f-466d-839d-5e4ccb7a81e8",
   "metadata": {},
   "outputs": [
    {
     "name": "stdin",
     "output_type": "stream",
     "text": [
      "Lütfen 1 ile 7 arasında bir rakam girin:  9\n"
     ]
    },
    {
     "name": "stdout",
     "output_type": "stream",
     "text": [
      "Geçersiz karakter girdiniz.\n"
     ]
    }
   ],
   "source": [
    "gun = int(input('Lütfen 1 ile 7 arasında bir rakam girin: '))\n",
    "gun_Adi = None\n",
    "\n",
    "match gun:\n",
    "    case 1:\n",
    "        gun_Adi = \"Pazartesi\"\n",
    "    case 2:\n",
    "        gun_Adi = \"Salı\"\n",
    "    case 3:\n",
    "        gun_Adi = \"Çarşamba\"\n",
    "    case 4:\n",
    "        gun_Adi = \"Perşembe\"\n",
    "    case 5:\n",
    "        gun_Adi = \"Cuma\"\n",
    "    case 6:\n",
    "        gun_Adi = \"Cumartesi\"\n",
    "    case 7:\n",
    "        gun_Adi = \"Pazar\"\n",
    "    case _:\n",
    "        gun_Adi = \"Geçersiz karakter girdiniz.\"\n",
    "\n",
    "print(gun_Adi)\n"
   ]
  },
  {
   "cell_type": "code",
   "execution_count": 1,
   "id": "5a97c03e-a177-4907-abfb-a487a72b143b",
   "metadata": {},
   "outputs": [
    {
     "name": "stdin",
     "output_type": "stream",
     "text": [
      "Lütfen 1 ile 7 arasında bir rakam giriniz :  2\n"
     ]
    },
    {
     "name": "stdout",
     "output_type": "stream",
     "text": [
      "Hafta içi\n"
     ]
    }
   ],
   "source": [
    "# 1 7 arasında bir rakam girsin girmiş olduğu gün sayısı hafta içine mi karşılık gelir yoksa hafta sonuna mı karşılık gelir.\n",
    "hafta = int(input('Lütfen 1 ile 7 arasında bir rakam giriniz : '))\n",
    "\n",
    "hafta_adi = None\n",
    "match hafta:\n",
    "    case 1|2|3|4|5:\n",
    "        hafta_adi = \"Hafta içi\"\n",
    "    case 6|7:\n",
    "        hafta_adi = \"Hafta sonu\"\n",
    "    case _:\n",
    "        hafta_adi = \"Geçersiz aralık girdiniz\"\n",
    "print(hafta_adi)        \n",
    "        "
   ]
  },
  {
   "cell_type": "code",
   "execution_count": 8,
   "id": "1b04adbb-0cdb-494a-9be8-e384663b3d3f",
   "metadata": {},
   "outputs": [
    {
     "name": "stdout",
     "output_type": "stream",
     "text": [
      "Merhaba benim adım Musa\n",
      "Merhaba benim adım Musa\n",
      "Merhaba benim adım Musa\n",
      "Merhaba benim adım Musa\n",
      "Merhaba benim adım Musa\n"
     ]
    }
   ],
   "source": [
    "#DON'T REPEAT YOURSELF : Kendini tekrar etme\n",
    "#Döngüler\n",
    "# 0 1 2 3 4\n",
    "for i in range(5):\n",
    "    print('Merhaba benim adım Musa')\n"
   ]
  },
  {
   "cell_type": "code",
   "execution_count": 11,
   "id": "19c7c46f-6407-45d6-b3d8-34d71c655815",
   "metadata": {},
   "outputs": [
    {
     "name": "stdout",
     "output_type": "stream",
     "text": [
      "0\n",
      "1\n",
      "2\n",
      "3\n",
      "4\n",
      "5\n",
      "6\n",
      "7\n",
      "8\n",
      "9\n",
      "10\n",
      "11\n",
      "12\n",
      "13\n",
      "14\n",
      "15\n",
      "16\n",
      "17\n",
      "18\n",
      "19\n",
      "20\n"
     ]
    }
   ],
   "source": [
    "# 1 den 20 ye kadar tüm sayıların ekran çıktısını alarak veriniz.\n",
    "# range(başlangıc, bitiş)\n",
    "for i in range(0,21):\n",
    "    print(i)"
   ]
  },
  {
   "cell_type": "code",
   "execution_count": 13,
   "id": "eabf1300-0917-400a-9615-a88a4aee2144",
   "metadata": {},
   "outputs": [
    {
     "name": "stdout",
     "output_type": "stream",
     "text": [
      "1\n",
      "3\n",
      "5\n",
      "7\n",
      "9\n",
      "11\n",
      "13\n",
      "15\n",
      "17\n",
      "19\n"
     ]
    }
   ],
   "source": [
    "#range(başlangıç, bitiş, miktar)\n",
    "\n",
    "for i in range(1,21,2):\n",
    "    print(i)"
   ]
  },
  {
   "cell_type": "code",
   "execution_count": 14,
   "id": "1321fd8c-9f31-4b60-bed3-0ae179beae40",
   "metadata": {},
   "outputs": [
    {
     "name": "stdout",
     "output_type": "stream",
     "text": [
      "Tek sayı :  1\n",
      "Çift sayı :  2\n",
      "Tek sayı :  3\n",
      "Çift sayı :  4\n",
      "Tek sayı :  5\n",
      "Çift sayı :  6\n",
      "Tek sayı :  7\n",
      "Çift sayı :  8\n",
      "Tek sayı :  9\n",
      "Çift sayı :  10\n"
     ]
    }
   ],
   "source": [
    "# 1 den 10 a kadar tüm sayıları çift mi tek mi kontrolünü yapan kodu yazın.\n",
    "\n",
    "for i in range(1,11):\n",
    "    if i % 2 == 0:\n",
    "        print('Çift sayı : ', i)\n",
    "    else:\n",
    "        print('Tek sayı : ', i)"
   ]
  },
  {
   "cell_type": "code",
   "execution_count": 17,
   "id": "76192887-35dd-41bd-85b9-2c0129223e52",
   "metadata": {},
   "outputs": [
    {
     "name": "stdout",
     "output_type": "stream",
     "text": [
      "100\n",
      "95\n",
      "90\n",
      "85\n",
      "80\n",
      "75\n",
      "70\n",
      "65\n",
      "60\n",
      "55\n",
      "50\n",
      "45\n",
      "40\n",
      "35\n",
      "30\n",
      "25\n",
      "20\n",
      "15\n",
      "10\n",
      "5\n",
      "0\n"
     ]
    }
   ],
   "source": [
    "#range(başlangıç, bitiş, miktar)\n",
    "\n",
    "for i in range(100,-1,-5):\n",
    "    print(i)"
   ]
  },
  {
   "cell_type": "code",
   "execution_count": 19,
   "id": "e0841a58-4196-487c-b788-3d6c315de0e4",
   "metadata": {},
   "outputs": [
    {
     "name": "stdout",
     "output_type": "stream",
     "text": [
      "İstanbul\n",
      "Ankara\n",
      "İzmir\n",
      "Bursa\n",
      "Çanakkale\n"
     ]
    }
   ],
   "source": [
    "cities = ['İstanbul', 'Ankara', 'İzmir', 'Bursa', 'Çanakkale']\n",
    "#foreach \n",
    "\n",
    "for city in cities:\n",
    "    print(city)"
   ]
  },
  {
   "cell_type": "code",
   "execution_count": 36,
   "id": "3c33e9cb-3b6d-4344-b795-835efa916131",
   "metadata": {},
   "outputs": [
    {
     "name": "stdout",
     "output_type": "stream",
     "text": [
      "1 . şehir İstanbul\n",
      "2 . şehir Ankara\n",
      "3 . şehir İzmir\n",
      "4 . şehir Bursa\n",
      "5 . şehir Çanakkale\n"
     ]
    }
   ],
   "source": [
    "# enumerate()\n",
    "# (0,'İstanbul')\n",
    "#(1, 'Ankara')\n",
    "#(2, 'İzmir')\n",
    "#(3, 'Bursa')\n",
    "#(4, 'Çanakkale')\n",
    "\n",
    "for index, value in enumerate(cities):\n",
    "    print(index+1,\". şehir\",value)\n",
    "    "
   ]
  },
  {
   "cell_type": "code",
   "execution_count": 37,
   "id": "88103a7d-bc3f-4a2f-9692-6360c686beec",
   "metadata": {},
   "outputs": [],
   "source": [
    "# değer üretmeyen fonksiyonlar\n"
   ]
  },
  {
   "cell_type": "code",
   "execution_count": 38,
   "id": "122cff11-8d65-4daf-b9f0-c2f2466a806f",
   "metadata": {},
   "outputs": [],
   "source": [
    "# fonksiyon tanımlama\n",
    "\n",
    "def hello_world():\n",
    "    print('Merhabalar')"
   ]
  },
  {
   "cell_type": "code",
   "execution_count": 41,
   "id": "92c226f2-ed8b-4917-ba99-54a207804bee",
   "metadata": {},
   "outputs": [
    {
     "name": "stdout",
     "output_type": "stream",
     "text": [
      "Merhabalar\n",
      "Merhabalar\n",
      "Merhabalar\n"
     ]
    }
   ],
   "source": [
    "hello_world()\n",
    "hello_world()\n",
    "hello_world()\n"
   ]
  },
  {
   "cell_type": "code",
   "execution_count": 42,
   "id": "0a3b6432-d481-4197-ac53-0c98d0f9891b",
   "metadata": {},
   "outputs": [],
   "source": [
    "def info(name):\n",
    "    print('Hoş geldin', name)"
   ]
  },
  {
   "cell_type": "code",
   "execution_count": 44,
   "id": "d0d2b4b6-9522-4b3e-9f3f-d98c70ea970b",
   "metadata": {},
   "outputs": [
    {
     "name": "stdout",
     "output_type": "stream",
     "text": [
      "Hoş geldin Musa\n",
      "Hoş geldin Buse\n",
      "Hoş geldin 1\n"
     ]
    }
   ],
   "source": [
    "info('Musa')\n",
    "info('Buse')\n",
    "info(1)"
   ]
  },
  {
   "cell_type": "code",
   "execution_count": 53,
   "id": "c661952f-84a6-4c14-a0d5-3b1cc308da51",
   "metadata": {},
   "outputs": [],
   "source": [
    "def person_info(name, surname='Doğan'):\n",
    "    print(f\"Merhaba benim  adım {name}, soyadım {surname} \")"
   ]
  },
  {
   "cell_type": "code",
   "execution_count": 54,
   "id": "1e599d56-4b97-457c-930d-eb330a6243d7",
   "metadata": {},
   "outputs": [
    {
     "name": "stdout",
     "output_type": "stream",
     "text": [
      "Merhaba benim  adım Buse, soyadım Doğan \n"
     ]
    }
   ],
   "source": [
    "person_info('Buse', 'Doğan')"
   ]
  },
  {
   "cell_type": "code",
   "execution_count": 56,
   "id": "85ee6c4d-5a77-4ec7-b7f4-a0a434b1390f",
   "metadata": {},
   "outputs": [
    {
     "name": "stdout",
     "output_type": "stream",
     "text": [
      "Merhaba benim  adım Buse, soyadım Doğan \n",
      "Merhaba benim  adım Berkay, soyadım Kurul \n"
     ]
    }
   ],
   "source": [
    "person_info('Buse')\n",
    "person_info('Berkay', 'Kurul')"
   ]
  },
  {
   "cell_type": "code",
   "execution_count": 57,
   "id": "c76b4072-fd4d-4d96-ac71-ac5d7c2835c5",
   "metadata": {},
   "outputs": [
    {
     "name": "stdout",
     "output_type": "stream",
     "text": [
      "Merhaba benim  adım berkay, soyadım Doğan \n"
     ]
    }
   ],
   "source": [
    "person_info('berkay')"
   ]
  },
  {
   "cell_type": "code",
   "execution_count": 58,
   "id": "f93c972a-1c85-4a4e-bd19-521b27fb42bc",
   "metadata": {},
   "outputs": [
    {
     "name": "stdout",
     "output_type": "stream",
     "text": [
      "<class 'int'>\n"
     ]
    }
   ],
   "source": [
    "# int a = 5;\n",
    "# a = 5\n",
    "a : str = 5\n",
    "print(type(a))"
   ]
  },
  {
   "cell_type": "code",
   "execution_count": 61,
   "id": "881e522a-2ea7-40cd-a26f-18902e394f4a",
   "metadata": {},
   "outputs": [],
   "source": [
    "def topla(num1: float, num2: float):\n",
    "    print(num1+num2)"
   ]
  },
  {
   "cell_type": "code",
   "execution_count": 62,
   "id": "13972f67-87cb-4d83-9526-fffa5dfa7869",
   "metadata": {},
   "outputs": [
    {
     "name": "stdout",
     "output_type": "stream",
     "text": [
      "62\n"
     ]
    }
   ],
   "source": [
    "topla(25,37)"
   ]
  },
  {
   "cell_type": "code",
   "execution_count": 65,
   "id": "e90b5d52-3609-4934-8489-5a946599221b",
   "metadata": {},
   "outputs": [],
   "source": [
    "# *args\n",
    "\n",
    "def carpim(*sayi):\n",
    "    carpim = 1\n",
    "    for n in sayi:\n",
    "        carpim *=n\n",
    "        # carpim = carpim * n \n",
    "        # 78 = 78 * 2\n",
    "    print(carpim)"
   ]
  },
  {
   "cell_type": "code",
   "execution_count": 66,
   "id": "f2c30205-5bf7-4945-98b4-ce057e25ae2f",
   "metadata": {},
   "outputs": [
    {
     "name": "stdout",
     "output_type": "stream",
     "text": [
      "283140\n"
     ]
    }
   ],
   "source": [
    "carpim(1,55,66,78)"
   ]
  },
  {
   "cell_type": "code",
   "execution_count": 67,
   "id": "7324da13-7098-435d-8df0-cd35f580adca",
   "metadata": {},
   "outputs": [],
   "source": [
    "def toplam_1(*liste):\n",
    "    print(sum())\n",
    "    \n"
   ]
  },
  {
   "cell_type": "code",
   "execution_count": 69,
   "id": "7dd88d4d-e374-4952-9142-cbb98890e877",
   "metadata": {},
   "outputs": [],
   "source": [
    "my_list = [1,2,3,4]\n",
    "my_tuple = (1,2,3,4)"
   ]
  },
  {
   "cell_type": "code",
   "execution_count": 70,
   "id": "ef574500-af78-416a-86c4-c24010ef7f28",
   "metadata": {},
   "outputs": [
    {
     "name": "stdout",
     "output_type": "stream",
     "text": [
      "<class 'list'>\n",
      "<class 'tuple'>\n"
     ]
    }
   ],
   "source": [
    "print(type(my_list))\n",
    "print(type(my_tuple))"
   ]
  },
  {
   "cell_type": "code",
   "execution_count": 71,
   "id": "ad8a136c-6a37-4357-a63d-7a4d27ed91f9",
   "metadata": {},
   "outputs": [
    {
     "name": "stdout",
     "output_type": "stream",
     "text": [
      "[1, 2, 3, 4]\n",
      "(1, 2, 3, 4)\n"
     ]
    }
   ],
   "source": [
    "print(my_list)\n",
    "print(my_tuple)"
   ]
  },
  {
   "cell_type": "code",
   "execution_count": 72,
   "id": "7adbe552-8d30-4962-8292-a1c426a47091",
   "metadata": {},
   "outputs": [
    {
     "name": "stdout",
     "output_type": "stream",
     "text": [
      "[1, 2, 3, 4, 'Yeni veri']\n"
     ]
    }
   ],
   "source": [
    "my_list.append(\"Yeni veri\")\n",
    "print(my_list)"
   ]
  },
  {
   "cell_type": "code",
   "execution_count": 74,
   "id": "12dc657c-1b6c-4ae9-91ac-c2b0295e881c",
   "metadata": {},
   "outputs": [
    {
     "name": "stdout",
     "output_type": "stream",
     "text": [
      "('Kırmızı', 'Siyah', 'Sarı')\n"
     ]
    }
   ],
   "source": [
    "# tuple immutable list(değiştirilemez listelere karşılık gelir)\n",
    "#]  int[] = new int[10]2; = 25;\n",
    "# sayilar[0] = 14\n",
    "# sayilar[2] = 25;\n",
    "renkler = ('Kırmızı', 'Siyah', 'Sarı')\n",
    "print(renkler)\n"
   ]
  },
  {
   "cell_type": "code",
   "execution_count": 76,
   "id": "743650ca-5750-4c8c-bb2a-94098f844b75",
   "metadata": {},
   "outputs": [
    {
     "name": "stdout",
     "output_type": "stream",
     "text": [
      "Kırmızı\n",
      "Sarı\n"
     ]
    }
   ],
   "source": [
    "red,yellow,b1 = ('Kırmızı','Sarı','Siyah')\n",
    "print(red)\n",
    "print(yellow)"
   ]
  },
  {
   "cell_type": "code",
   "execution_count": null,
   "id": "50f6fa1c-9703-4d93-8b92-20a746af4625",
   "metadata": {},
   "outputs": [],
   "source": []
  }
 ],
 "metadata": {
  "kernelspec": {
   "display_name": "Python [conda env:base] *",
   "language": "python",
   "name": "conda-base-py"
  },
  "language_info": {
   "codemirror_mode": {
    "name": "ipython",
    "version": 3
   },
   "file_extension": ".py",
   "mimetype": "text/x-python",
   "name": "python",
   "nbconvert_exporter": "python",
   "pygments_lexer": "ipython3",
   "version": "3.13.5"
  }
 },
 "nbformat": 4,
 "nbformat_minor": 5
}
