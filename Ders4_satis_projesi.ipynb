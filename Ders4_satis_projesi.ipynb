{
 "cells": [
  {
   "cell_type": "code",
   "execution_count": 20,
   "id": "af4d0647-0310-4fad-bf16-2db870dd04b5",
   "metadata": {},
   "outputs": [],
   "source": [
    "# 📝 Proje Açıklaması \n",
    "\n",
    "# Bu projede, bir meyve mağazası için satış sistemi geliştirilecektir.\n",
    "# Program müşterilerden sipariş bilgilerini alacak, KDV dahil fiyat hesaplamaları \n",
    "# yapacak ve çeşitli analiz ve raporlama özellikleri sunacaktır.\n",
    "\n",
    "# Gereksinimler\n",
    "\n",
    "# Temel Özellikler\n",
    "\n",
    "\n",
    "# 1. Ürün bilgisi girişi \n",
    "\n",
    "# Kullanıcıdan kaç çeşit meyve alacağını sor\n",
    "# Her meyve için şu bilgileri al: \n",
    "# Meyve adı\n",
    "# Birim fiyat(TL/KG)\n",
    "# Alınacak miktar (kg)\n",
    "\n",
    "\n",
    "# 2. KDV Hesaplaması \n",
    "\n",
    "# %20 KDV oranı uygula\n",
    "# Her ürün içn KDV dahil tutar hesapla\n",
    "# Toplam tutarı hesapla\n",
    "\n",
    "\n",
    "# 3. Çıktı Gösterisi \n",
    "\n",
    "# Girilen bilgileri özetle\n",
    "# KDV dahil fiyatları listele\n",
    "# Toplam tutarı göster\n",
    "\n",
    "\n",
    "# İstatistik Analizi \n",
    "\n",
    "# En pahalı ürünü bul ve göster\n",
    "# En ucuz ürünü bul ve göster\n",
    "# Ortalama ürün tutarını hesapla\n",
    "# Toplam alınacak meyve miktarını (kg) göster \n",
    "\n",
    "\n",
    "# 5.Sıralama Özellikleri\n",
    "\n",
    "# Ürün fiyata göre azalan sırada listele\n"
   ]
  },
  {
   "cell_type": "code",
   "execution_count": 25,
   "id": "abfb5dbb-3af8-4c24-9a10-ec8cfe8d0c71",
   "metadata": {},
   "outputs": [
    {
     "name": "stdin",
     "output_type": "stream",
     "text": [
      "Lütfen kaç adet meyve alacağınızı girin :   4\n",
      "1 meyvenin adını giriniz :  kayısı\n",
      "1 meyvenin birim fiyatını giriniz :  25\n",
      "1 meyvenin kilogramını giriniz :  5\n",
      "2 meyvenin adını giriniz :  çilek\n",
      "2 meyvenin birim fiyatını giriniz :  40\n",
      "2 meyvenin kilogramını giriniz :  4\n",
      "3 meyvenin adını giriniz :  aröut\n",
      "3 meyvenin birim fiyatını giriniz :  30\n",
      "3 meyvenin kilogramını giriniz :  5\n",
      "4 meyvenin adını giriniz :  Şeftali\n",
      "4 meyvenin birim fiyatını giriniz :  50\n",
      "4 meyvenin kilogramını giriniz :  3\n"
     ]
    }
   ],
   "source": [
    "adet = int(input('Lütfen kaç adet meyve alacağınızı girin :  '))\n",
    "meyve_adlari = list()\n",
    "birim_fiyatlari = []\n",
    "kilogramlar = list()\n",
    "# range(5) : 1 2 3 4\n",
    "#range(3,6) : 3 4 5 \n",
    "#range(1, 10, 2) : 1 3 5 7 9\n",
    "for i in range(1,adet+1):\n",
    "    meyve_adi = input(f'{i} meyvenin adını giriniz : ')\n",
    "    birim_fiyati = int(input(f'{i} meyvenin birim fiyatını giriniz : '))\n",
    "    kilogram = int(input(f'{i} meyvenin kilogramını giriniz : '))\n",
    "\n",
    "    meyve_adlari.append(meyve_adi)\n",
    "    birim_fiyatlari.append(birim_fiyati)\n",
    "    kilogramlar.append(kilogram)\n",
    "    "
   ]
  },
  {
   "cell_type": "code",
   "execution_count": 33,
   "id": "ad1ed436-bfcf-41ad-9cb3-38ea4ddfbff8",
   "metadata": {},
   "outputs": [
    {
     "name": "stdout",
     "output_type": "stream",
     "text": [
      "Meyve adı : kayısı, Birim Fiyatı : 25 ₺, Kilogram : 5 kg\n",
      "Meyve adı : çilek, Birim Fiyatı : 40 ₺, Kilogram : 4 kg\n",
      "Meyve adı : aröut, Birim Fiyatı : 30 ₺, Kilogram : 5 kg\n",
      "Meyve adı : Şeftali, Birim Fiyatı : 50 ₺, Kilogram : 3 kg\n"
     ]
    }
   ],
   "source": [
    "# i = 0 1 2 3 (benim yazdığım)\n",
    "# range(1,adet+1) : 1 ,2 , 3 , 4\n",
    "for i in range(adet):\n",
    "    print(f'Meyve adı : {meyve_adlari[i]}, Birim Fiyatı : {birim_fiyatlari[i]} ₺, Kilogram : {kilogramlar[i]} kg')"
   ]
  },
  {
   "cell_type": "code",
   "execution_count": 65,
   "id": "87211a97-93ff-4e1b-97d0-add5c24a67a7",
   "metadata": {},
   "outputs": [
    {
     "name": "stdout",
     "output_type": "stream",
     "text": [
      "Meyve Toplam tutarları\n",
      "Meyve adı : kayısı, Birim Fiyatı : 25 ₺, Kilogram : 5 kg, Toplam Tutar(KDV\" siz) : 125 ₺, kdv li tutar : 150.0 ₺\n",
      "Meyve adı : çilek, Birim Fiyatı : 40 ₺, Kilogram : 4 kg, Toplam Tutar(KDV\" siz) : 160 ₺, kdv li tutar : 192.0 ₺\n",
      "Meyve adı : aröut, Birim Fiyatı : 30 ₺, Kilogram : 5 kg, Toplam Tutar(KDV\" siz) : 150 ₺, kdv li tutar : 180.0 ₺\n",
      "Meyve adı : Şeftali, Birim Fiyatı : 50 ₺, Kilogram : 3 kg, Toplam Tutar(KDV\" siz) : 150 ₺, kdv li tutar : 180.0 ₺\n"
     ]
    }
   ],
   "source": [
    "print('Meyve Toplam tutarları')\n",
    "\n",
    "# meyve_adlari = ['kayısı', 'Çilek', 'Armut', 'Şeftali']\n",
    "#                    0          1        2        3  \n",
    "\n",
    "# birim_fiyatlari = [25,40,30,50]\n",
    "# kilogramlar = [5,4,5,3]\n",
    "\n",
    "kdv_siz_toplam_tutar = 0\n",
    "kdv_li_toplam_tutar = 0\n",
    "kdv_siz_liste = list()\n",
    "kdv_li_liste = list()\n",
    "\n",
    "for i in range(adet):\n",
    "    toplam_fiyat = birim_fiyatlari[i] * kilogramlar[i]\n",
    "    kdv_li_toplam = toplam_fiyat * 1.2\n",
    "    kdv_li_liste.append(kdv_li_toplam)\n",
    "    kdv_siz_liste.append(toplam_fiyat)\n",
    "\n",
    "    kdv_siz_toplam_tutar += toplam_fiyat\n",
    "    kdv_li_toplam_tutar += kdv_li_toplam\n",
    "    print(f'Meyve adı : {meyve_adlari[i]}, Birim Fiyatı : {birim_fiyatlari[i]} ₺, Kilogram : {kilogramlar[i]} kg, Toplam Tutar(KDV\" siz) : {toplam_fiyat} ₺, kdv li tutar : {kdv_li_toplam} ₺') \n",
    "    "
   ]
  },
  {
   "cell_type": "code",
   "execution_count": 66,
   "id": "fc6317aa-4441-4232-bba9-acc29d6eb272",
   "metadata": {},
   "outputs": [
    {
     "name": "stdout",
     "output_type": "stream",
     "text": [
      "KDV li toplam tutar : 702.0\n",
      "KDV siz toplam tutar : 585\n"
     ]
    }
   ],
   "source": [
    "print(f'KDV li toplam tutar : {kdv_li_toplam_tutar}')\n",
    "print(f'KDV siz toplam tutar : {kdv_siz_toplam_tutar}')"
   ]
  },
  {
   "cell_type": "code",
   "execution_count": 67,
   "id": "c007aa84-5491-427c-960b-340910ac9e59",
   "metadata": {},
   "outputs": [
    {
     "name": "stdout",
     "output_type": "stream",
     "text": [
      "Meyve adı : kayısı, Birim Fiyatı : 25 ₺, Kilogram : 5 kg, Toplam Tutar(KDV\" siz) : 125 ₺, kdv li tutar : 150.0 ₺\n",
      "Meyve adı : çilek, Birim Fiyatı : 40 ₺, Kilogram : 4 kg, Toplam Tutar(KDV\" siz) : 160 ₺, kdv li tutar : 192.0 ₺\n",
      "Meyve adı : aröut, Birim Fiyatı : 30 ₺, Kilogram : 5 kg, Toplam Tutar(KDV\" siz) : 150 ₺, kdv li tutar : 180.0 ₺\n",
      "Meyve adı : Şeftali, Birim Fiyatı : 50 ₺, Kilogram : 3 kg, Toplam Tutar(KDV\" siz) : 150 ₺, kdv li tutar : 180.0 ₺\n"
     ]
    }
   ],
   "source": [
    "for i in range(adet):\n",
    "    print(f'Meyve adı : {meyve_adlari[i]}, Birim Fiyatı : {birim_fiyatlari[i]} ₺, Kilogram : {kilogramlar[i]} kg, Toplam Tutar(KDV\" siz) : {kdv_siz_liste[i]} ₺, kdv li tutar : {kdv_li_liste[i]} ₺')   "
   ]
  },
  {
   "cell_type": "code",
   "execution_count": 74,
   "id": "96fefdec-4946-41a5-9c0c-49c9d204af4c",
   "metadata": {},
   "outputs": [
    {
     "name": "stdout",
     "output_type": "stream",
     "text": [
      "Meyve adı : çilek, Birim Fiyatı : 40 ₺, Kilogram : 4 kg, Toplam Tutar(KDV\" siz) : 160 ₺, kdv li tutar : 192.0 ₺\n"
     ]
    }
   ],
   "source": [
    "en_pahali = max(kdv_siz_liste)\n",
    "\n",
    "for i in range(adet):\n",
    "    if kdv_siz_liste[i] == en_pahali:\n",
    "        print(f'Meyve adı : {meyve_adlari[i]}, Birim Fiyatı : {birim_fiyatlari[i]} ₺, Kilogram : {kilogramlar[i]} kg, Toplam Tutar(KDV\" siz) : {kdv_siz_liste[i]} ₺, kdv li tutar : {kdv_li_liste[i]} ₺')   "
   ]
  },
  {
   "cell_type": "code",
   "execution_count": 75,
   "id": "62e8b155-7153-4f56-a10a-8d6eded7623b",
   "metadata": {},
   "outputs": [
    {
     "name": "stdout",
     "output_type": "stream",
     "text": [
      "Meyve adı : kayısı, Birim Fiyatı : 25 ₺, Kilogram : 5 kg, Toplam Tutar(KDV\" siz) : 125 ₺, kdv li tutar : 150.0 ₺\n"
     ]
    }
   ],
   "source": [
    "en_pahali = min(kdv_siz_liste)\n",
    "\n",
    "for i in range(adet):\n",
    "    if kdv_siz_liste[i] == en_pahali:\n",
    "        print(f'Meyve adı : {meyve_adlari[i]}, Birim Fiyatı : {birim_fiyatlari[i]} ₺, Kilogram : {kilogramlar[i]} kg, Toplam Tutar(KDV\" siz) : {kdv_siz_liste[i]} ₺, kdv li tutar : {kdv_li_liste[i]} ₺')   "
   ]
  },
  {
   "cell_type": "code",
   "execution_count": null,
   "id": "a04a7351-7539-4fee-9381-7abb30f27a2d",
   "metadata": {},
   "outputs": [],
   "source": []
  }
 ],
 "metadata": {
  "kernelspec": {
   "display_name": "Python [conda env:base] *",
   "language": "python",
   "name": "conda-base-py"
  },
  "language_info": {
   "codemirror_mode": {
    "name": "ipython",
    "version": 3
   },
   "file_extension": ".py",
   "mimetype": "text/x-python",
   "name": "python",
   "nbconvert_exporter": "python",
   "pygments_lexer": "ipython3",
   "version": "3.13.5"
  }
 },
 "nbformat": 4,
 "nbformat_minor": 5
}
